{
  "cells": [
    {
      "cell_type": "code",
      "execution_count": null,
      "metadata": {
        "id": "CapTOt25HkWv"
      },
      "outputs": [],
      "source": [
        "import pandas as pd"
      ]
    },
    {
      "cell_type": "code",
      "execution_count": null,
      "metadata": {
        "id": "dbF2mpE2vBd3"
      },
      "outputs": [],
      "source": [
        "train_df = pd.read_csv(\"/content/drive/MyDrive/Colab Notebooks/our_contest_train_2.csv\" )"
      ]
    },
    {
      "cell_type": "code",
      "execution_count": null,
      "metadata": {
        "id": "FZnU2yXDXiZH"
      },
      "outputs": [],
      "source": [
        ""
      ]
    },
    {
      "cell_type": "code",
      "execution_count": null,
      "metadata": {
        "id": "yVB6VwfaXiyD"
      },
      "outputs": [],
      "source": [
        ""
      ]
    },
    {
      "cell_type": "code",
      "execution_count": null,
      "metadata": {
        "colab": {
          "base_uri": "https://localhost:8080/",
          "height": 1204
        },
        "id": "3TSsWRVVxrkz",
        "outputId": "a38b1ac9-93ae-4582-87ff-0b1bcf52d06f"
      },
      "outputs": [
        {
          "data": {
            "text/html": [
              "\n",
              "  <div id=\"df-5d6cb345-76d3-4d9a-972f-40302b3a9223\">\n",
              "    <div class=\"colab-df-container\">\n",
              "      <div>\n",
              "<style scoped>\n",
              "    .dataframe tbody tr th:only-of-type {\n",
              "        vertical-align: middle;\n",
              "    }\n",
              "\n",
              "    .dataframe tbody tr th {\n",
              "        vertical-align: top;\n",
              "    }\n",
              "\n",
              "    .dataframe thead th {\n",
              "        text-align: right;\n",
              "    }\n",
              "</style>\n",
              "<table border=\"1\" class=\"dataframe\">\n",
              "  <thead>\n",
              "    <tr style=\"text-align: right;\">\n",
              "      <th></th>\n",
              "      <th>Qid</th>\n",
              "      <th>PostDateTime</th>\n",
              "      <th>WhenAccountMade</th>\n",
              "      <th>Karma</th>\n",
              "      <th>NumAnswers</th>\n",
              "      <th>Heading</th>\n",
              "      <th>MainText</th>\n",
              "      <th>PrimarySubject</th>\n",
              "      <th>SecondarySubject</th>\n",
              "      <th>TertiarySubject</th>\n",
              "      <th>OtherSubject</th>\n",
              "      <th>Target</th>\n",
              "    </tr>\n",
              "  </thead>\n",
              "  <tbody>\n",
              "    <tr>\n",
              "      <th>0</th>\n",
              "      <td>1827014</td>\n",
              "      <td>08/23/2011 04:57:58</td>\n",
              "      <td>08/10/2011 06:47:09</td>\n",
              "      <td>1</td>\n",
              "      <td>0</td>\n",
              "      <td>Populate dropdown list using ajax In grails</td>\n",
              "      <td>we are trying to implement ajax in new inciden...</td>\n",
              "      <td>grails</td>\n",
              "      <td>NaN</td>\n",
              "      <td>NaN</td>\n",
              "      <td>NaN</td>\n",
              "      <td>0</td>\n",
              "    </tr>\n",
              "    <tr>\n",
              "      <th>1</th>\n",
              "      <td>623028</td>\n",
              "      <td>06/07/2010 20:41:14</td>\n",
              "      <td>07/25/2009 02:38:47</td>\n",
              "      <td>230</td>\n",
              "      <td>1</td>\n",
              "      <td>How to query database where date and time fiel...</td>\n",
              "      <td>In Table, Time and date fields are two separat...</td>\n",
              "      <td>sql-server</td>\n",
              "      <td>tsql</td>\n",
              "      <td>NaN</td>\n",
              "      <td>NaN</td>\n",
              "      <td>0</td>\n",
              "    </tr>\n",
              "    <tr>\n",
              "      <th>2</th>\n",
              "      <td>927745</td>\n",
              "      <td>11/04/2010 14:23:59</td>\n",
              "      <td>08/13/2010 06:43:46</td>\n",
              "      <td>1</td>\n",
              "      <td>0</td>\n",
              "      <td>Character Casing in Silverlight 4 TextBox</td>\n",
              "      <td>I am writing a Silverlight 4 business applicat...</td>\n",
              "      <td>silverlight-4.0</td>\n",
              "      <td>textbox</td>\n",
              "      <td>NaN</td>\n",
              "      <td>NaN</td>\n",
              "      <td>0</td>\n",
              "    </tr>\n",
              "    <tr>\n",
              "      <th>3</th>\n",
              "      <td>657891</td>\n",
              "      <td>06/25/2010 23:15:07</td>\n",
              "      <td>05/15/2009 18:15:11</td>\n",
              "      <td>5273</td>\n",
              "      <td>381</td>\n",
              "      <td>Stop exception from being thrown for non-exist...</td>\n",
              "      <td>Ok, so I am stumped on this issue. I have seen...</td>\n",
              "      <td>asp.net-mvc-2</td>\n",
              "      <td>httpexception</td>\n",
              "      <td>NaN</td>\n",
              "      <td>NaN</td>\n",
              "      <td>0</td>\n",
              "    </tr>\n",
              "    <tr>\n",
              "      <th>4</th>\n",
              "      <td>3321018</td>\n",
              "      <td>07/04/2012 09:05:59</td>\n",
              "      <td>06/19/2012 11:33:48</td>\n",
              "      <td>8</td>\n",
              "      <td>0</td>\n",
              "      <td>search for campaigns with multiple values for ...</td>\n",
              "      <td>I'd like to ask for the correct parameter to p...</td>\n",
              "      <td>foursquare</td>\n",
              "      <td>NaN</td>\n",
              "      <td>NaN</td>\n",
              "      <td>NaN</td>\n",
              "      <td>0</td>\n",
              "    </tr>\n",
              "  </tbody>\n",
              "</table>\n",
              "</div>\n",
              "      <button class=\"colab-df-convert\" onclick=\"convertToInteractive('df-5d6cb345-76d3-4d9a-972f-40302b3a9223')\"\n",
              "              title=\"Convert this dataframe to an interactive table.\"\n",
              "              style=\"display:none;\">\n",
              "        \n",
              "  <svg xmlns=\"http://www.w3.org/2000/svg\" height=\"24px\"viewBox=\"0 0 24 24\"\n",
              "       width=\"24px\">\n",
              "    <path d=\"M0 0h24v24H0V0z\" fill=\"none\"/>\n",
              "    <path d=\"M18.56 5.44l.94 2.06.94-2.06 2.06-.94-2.06-.94-.94-2.06-.94 2.06-2.06.94zm-11 1L8.5 8.5l.94-2.06 2.06-.94-2.06-.94L8.5 2.5l-.94 2.06-2.06.94zm10 10l.94 2.06.94-2.06 2.06-.94-2.06-.94-.94-2.06-.94 2.06-2.06.94z\"/><path d=\"M17.41 7.96l-1.37-1.37c-.4-.4-.92-.59-1.43-.59-.52 0-1.04.2-1.43.59L10.3 9.45l-7.72 7.72c-.78.78-.78 2.05 0 2.83L4 21.41c.39.39.9.59 1.41.59.51 0 1.02-.2 1.41-.59l7.78-7.78 2.81-2.81c.8-.78.8-2.07 0-2.86zM5.41 20L4 18.59l7.72-7.72 1.47 1.35L5.41 20z\"/>\n",
              "  </svg>\n",
              "      </button>\n",
              "      \n",
              "  <style>\n",
              "    .colab-df-container {\n",
              "      display:flex;\n",
              "      flex-wrap:wrap;\n",
              "      gap: 12px;\n",
              "    }\n",
              "\n",
              "    .colab-df-convert {\n",
              "      background-color: #E8F0FE;\n",
              "      border: none;\n",
              "      border-radius: 50%;\n",
              "      cursor: pointer;\n",
              "      display: none;\n",
              "      fill: #1967D2;\n",
              "      height: 32px;\n",
              "      padding: 0 0 0 0;\n",
              "      width: 32px;\n",
              "    }\n",
              "\n",
              "    .colab-df-convert:hover {\n",
              "      background-color: #E2EBFA;\n",
              "      box-shadow: 0px 1px 2px rgba(60, 64, 67, 0.3), 0px 1px 3px 1px rgba(60, 64, 67, 0.15);\n",
              "      fill: #174EA6;\n",
              "    }\n",
              "\n",
              "    [theme=dark] .colab-df-convert {\n",
              "      background-color: #3B4455;\n",
              "      fill: #D2E3FC;\n",
              "    }\n",
              "\n",
              "    [theme=dark] .colab-df-convert:hover {\n",
              "      background-color: #434B5C;\n",
              "      box-shadow: 0px 1px 3px 1px rgba(0, 0, 0, 0.15);\n",
              "      filter: drop-shadow(0px 1px 2px rgba(0, 0, 0, 0.3));\n",
              "      fill: #FFFFFF;\n",
              "    }\n",
              "  </style>\n",
              "\n",
              "      <script>\n",
              "        const buttonEl =\n",
              "          document.querySelector('#df-5d6cb345-76d3-4d9a-972f-40302b3a9223 button.colab-df-convert');\n",
              "        buttonEl.style.display =\n",
              "          google.colab.kernel.accessAllowed ? 'block' : 'none';\n",
              "\n",
              "        async function convertToInteractive(key) {\n",
              "          const element = document.querySelector('#df-5d6cb345-76d3-4d9a-972f-40302b3a9223');\n",
              "          const dataTable =\n",
              "            await google.colab.kernel.invokeFunction('convertToInteractive',\n",
              "                                                     [key], {});\n",
              "          if (!dataTable) return;\n",
              "\n",
              "          const docLinkHtml = 'Like what you see? Visit the ' +\n",
              "            '<a target=\"_blank\" href=https://colab.research.google.com/notebooks/data_table.ipynb>data table notebook</a>'\n",
              "            + ' to learn more about interactive tables.';\n",
              "          element.innerHTML = '';\n",
              "          dataTable['output_type'] = 'display_data';\n",
              "          await google.colab.output.renderOutput(dataTable, element);\n",
              "          const docLink = document.createElement('div');\n",
              "          docLink.innerHTML = docLinkHtml;\n",
              "          element.appendChild(docLink);\n",
              "        }\n",
              "      </script>\n",
              "    </div>\n",
              "  </div>\n",
              "  "
            ],
            "text/plain": [
              "       Qid         PostDateTime  ... OtherSubject  Target\n",
              "0  1827014  08/23/2011 04:57:58  ...          NaN       0\n",
              "1   623028  06/07/2010 20:41:14  ...          NaN       0\n",
              "2   927745  11/04/2010 14:23:59  ...          NaN       0\n",
              "3   657891  06/25/2010 23:15:07  ...          NaN       0\n",
              "4  3321018  07/04/2012 09:05:59  ...          NaN       0\n",
              "\n",
              "[5 rows x 12 columns]"
            ]
          },
          "execution_count": 3,
          "metadata": {},
          "output_type": "execute_result"
        }
      ],
      "source": [
        "train_df.head()"
      ]
    },
    {
      "cell_type": "code",
      "execution_count": null,
      "metadata": {
        "colab": {
          "base_uri": "https://localhost:8080/",
          "height": 53
        },
        "id": "6lRXQkQqT-a5",
        "outputId": "10cd679d-7912-4432-df6a-7a8cf36506f6"
      },
      "outputs": [
        {
          "output_type": "execute_result",
          "data": {
            "application/vnd.google.colaboratory.intrinsic+json": {
              "type": "string"
            },
            "text/plain": [
              "'I am writing a Silverlight 4 business application and have run into an issue. I need the text input in TextBoxes to be forced to UpperCase. What I understand from various forums is Silverlight does not Implement CharacterCasing and CSS Styling. \\r\\n\\r\\nIs there any other way to achieve this? '"
            ]
          },
          "metadata": {},
          "execution_count": 3
        }
      ],
      "source": [
        "train_df.MainText.loc[2] #### checking that is it the sentence or paragraph "
      ]
    },
    {
      "cell_type": "code",
      "execution_count": null,
      "metadata": {
        "colab": {
          "base_uri": "https://localhost:8080/",
          "height": 35
        },
        "id": "PIQmH8YaVVDM",
        "outputId": "9226fbb1-71d0-4bd7-bf19-68ccf43a9a99"
      },
      "outputs": [
        {
          "output_type": "execute_result",
          "data": {
            "application/vnd.google.colaboratory.intrinsic+json": {
              "type": "string"
            },
            "text/plain": [
              "'Character Casing in Silverlight 4 TextBox'"
            ]
          },
          "metadata": {},
          "execution_count": 4
        }
      ],
      "source": [
        "train_df.Heading.loc[2]"
      ]
    },
    {
      "cell_type": "code",
      "execution_count": null,
      "metadata": {
        "colab": {
          "base_uri": "https://localhost:8080/"
        },
        "id": "RPOPrCyDI6iN",
        "outputId": "11de4ecc-75d9-4a98-db28-63fcb65291df"
      },
      "outputs": [
        {
          "data": {
            "text/plain": [
              "Qid                 1685264\n",
              "PostDateTime        1685264\n",
              "WhenAccountMade     1685264\n",
              "Karma               1685264\n",
              "NumAnswers          1685264\n",
              "Heading             1685264\n",
              "MainText            1685263\n",
              "PrimarySubject      1685186\n",
              "SecondarySubject    1422686\n",
              "TertiarySubject      990241\n",
              "OtherSubject         521209\n",
              "Target              1685264\n",
              "dtype: int64"
            ]
          },
          "execution_count": 6,
          "metadata": {},
          "output_type": "execute_result"
        }
      ],
      "source": [
        "train_df.count()"
      ]
    },
    {
      "cell_type": "code",
      "execution_count": null,
      "metadata": {
        "colab": {
          "base_uri": "https://localhost:8080/"
        },
        "id": "TBga4P3cJg6f",
        "outputId": "914163cc-5755-4650-f2ea-f3f463a4c697"
      },
      "outputs": [
        {
          "data": {
            "text/plain": [
              "Qid                       0\n",
              "PostDateTime              0\n",
              "WhenAccountMade           0\n",
              "Karma                     0\n",
              "NumAnswers                0\n",
              "Heading                   0\n",
              "MainText                  1\n",
              "PrimarySubject           78\n",
              "SecondarySubject     262578\n",
              "TertiarySubject      695023\n",
              "OtherSubject        1164055\n",
              "Target                    0\n",
              "dtype: int64"
            ]
          },
          "execution_count": 7,
          "metadata": {},
          "output_type": "execute_result"
        }
      ],
      "source": [
        "train_df.isna().sum()"
      ]
    },
    {
      "cell_type": "code",
      "execution_count": null,
      "metadata": {
        "id": "S-8vzrd5TNCS"
      },
      "outputs": [],
      "source": [
        ""
      ]
    },
    {
      "cell_type": "code",
      "execution_count": null,
      "metadata": {
        "colab": {
          "base_uri": "https://localhost:8080/"
        },
        "id": "hpMsv_IfKKzb",
        "outputId": "78d777b7-8d03-426c-9aba-fcc9ddc58826"
      },
      "outputs": [
        {
          "data": {
            "text/plain": [
              "0    1650196\n",
              "1      15394\n",
              "2       8765\n",
              "3       7830\n",
              "4       3079\n",
              "Name: Target, dtype: int64"
            ]
          },
          "execution_count": 8,
          "metadata": {},
          "output_type": "execute_result"
        }
      ],
      "source": [
        "train_df.Target.value_counts()"
      ]
    },
    {
      "cell_type": "code",
      "execution_count": null,
      "metadata": {
        "colab": {
          "base_uri": "https://localhost:8080/"
        },
        "id": "VrZ96uUPK9lB",
        "outputId": "ba65ea12-54ee-4bfb-d2c1-829422a53ed6"
      },
      "outputs": [
        {
          "data": {
            "text/plain": [
              "c#               141040\n",
              "java             120273\n",
              "php              113814\n",
              "javascript        92835\n",
              "android           87372\n",
              "                  ...  \n",
              "modeless              1\n",
              "tif                   1\n",
              "pascalscript          1\n",
              "read-csv              1\n",
              "lexical-scope         1\n",
              "Name: PrimarySubject, Length: 15362, dtype: int64"
            ]
          },
          "execution_count": 9,
          "metadata": {},
          "output_type": "execute_result"
        }
      ],
      "source": [
        "train_df.PrimarySubject.value_counts()"
      ]
    },
    {
      "cell_type": "code",
      "execution_count": null,
      "metadata": {
        "colab": {
          "base_uri": "https://localhost:8080/",
          "height": 300
        },
        "id": "O-nBQAMSKjRE",
        "outputId": "2a7d0c30-b782-491e-bd5d-c8cf630f84ed"
      },
      "outputs": [
        {
          "data": {
            "text/html": [
              "\n",
              "  <div id=\"df-e14082a5-7499-4441-8a7a-cd130dcb498d\">\n",
              "    <div class=\"colab-df-container\">\n",
              "      <div>\n",
              "<style scoped>\n",
              "    .dataframe tbody tr th:only-of-type {\n",
              "        vertical-align: middle;\n",
              "    }\n",
              "\n",
              "    .dataframe tbody tr th {\n",
              "        vertical-align: top;\n",
              "    }\n",
              "\n",
              "    .dataframe thead th {\n",
              "        text-align: right;\n",
              "    }\n",
              "</style>\n",
              "<table border=\"1\" class=\"dataframe\">\n",
              "  <thead>\n",
              "    <tr style=\"text-align: right;\">\n",
              "      <th></th>\n",
              "      <th>Qid</th>\n",
              "      <th>Karma</th>\n",
              "      <th>NumAnswers</th>\n",
              "      <th>Target</th>\n",
              "    </tr>\n",
              "  </thead>\n",
              "  <tbody>\n",
              "    <tr>\n",
              "      <th>count</th>\n",
              "      <td>1.685264e+06</td>\n",
              "      <td>1.685264e+06</td>\n",
              "      <td>1.685264e+06</td>\n",
              "      <td>1.685264e+06</td>\n",
              "    </tr>\n",
              "    <tr>\n",
              "      <th>mean</th>\n",
              "      <td>1.685049e+06</td>\n",
              "      <td>6.585267e+02</td>\n",
              "      <td>2.537575e+01</td>\n",
              "      <td>4.078293e-02</td>\n",
              "    </tr>\n",
              "    <tr>\n",
              "      <th>std</th>\n",
              "      <td>9.731675e+05</td>\n",
              "      <td>2.957257e+03</td>\n",
              "      <td>1.076235e+02</td>\n",
              "      <td>3.151552e-01</td>\n",
              "    </tr>\n",
              "    <tr>\n",
              "      <th>min</th>\n",
              "      <td>2.000000e+00</td>\n",
              "      <td>-4.100000e+01</td>\n",
              "      <td>0.000000e+00</td>\n",
              "      <td>0.000000e+00</td>\n",
              "    </tr>\n",
              "    <tr>\n",
              "      <th>25%</th>\n",
              "      <td>8.418928e+05</td>\n",
              "      <td>6.000000e+00</td>\n",
              "      <td>0.000000e+00</td>\n",
              "      <td>0.000000e+00</td>\n",
              "    </tr>\n",
              "    <tr>\n",
              "      <th>50%</th>\n",
              "      <td>1.684832e+06</td>\n",
              "      <td>6.200000e+01</td>\n",
              "      <td>2.000000e+00</td>\n",
              "      <td>0.000000e+00</td>\n",
              "    </tr>\n",
              "    <tr>\n",
              "      <th>75%</th>\n",
              "      <td>2.528051e+06</td>\n",
              "      <td>3.910000e+02</td>\n",
              "      <td>1.300000e+01</td>\n",
              "      <td>0.000000e+00</td>\n",
              "    </tr>\n",
              "    <tr>\n",
              "      <th>max</th>\n",
              "      <td>3.370526e+06</td>\n",
              "      <td>2.871010e+05</td>\n",
              "      <td>1.174900e+04</td>\n",
              "      <td>4.000000e+00</td>\n",
              "    </tr>\n",
              "  </tbody>\n",
              "</table>\n",
              "</div>\n",
              "      <button class=\"colab-df-convert\" onclick=\"convertToInteractive('df-e14082a5-7499-4441-8a7a-cd130dcb498d')\"\n",
              "              title=\"Convert this dataframe to an interactive table.\"\n",
              "              style=\"display:none;\">\n",
              "        \n",
              "  <svg xmlns=\"http://www.w3.org/2000/svg\" height=\"24px\"viewBox=\"0 0 24 24\"\n",
              "       width=\"24px\">\n",
              "    <path d=\"M0 0h24v24H0V0z\" fill=\"none\"/>\n",
              "    <path d=\"M18.56 5.44l.94 2.06.94-2.06 2.06-.94-2.06-.94-.94-2.06-.94 2.06-2.06.94zm-11 1L8.5 8.5l.94-2.06 2.06-.94-2.06-.94L8.5 2.5l-.94 2.06-2.06.94zm10 10l.94 2.06.94-2.06 2.06-.94-2.06-.94-.94-2.06-.94 2.06-2.06.94z\"/><path d=\"M17.41 7.96l-1.37-1.37c-.4-.4-.92-.59-1.43-.59-.52 0-1.04.2-1.43.59L10.3 9.45l-7.72 7.72c-.78.78-.78 2.05 0 2.83L4 21.41c.39.39.9.59 1.41.59.51 0 1.02-.2 1.41-.59l7.78-7.78 2.81-2.81c.8-.78.8-2.07 0-2.86zM5.41 20L4 18.59l7.72-7.72 1.47 1.35L5.41 20z\"/>\n",
              "  </svg>\n",
              "      </button>\n",
              "      \n",
              "  <style>\n",
              "    .colab-df-container {\n",
              "      display:flex;\n",
              "      flex-wrap:wrap;\n",
              "      gap: 12px;\n",
              "    }\n",
              "\n",
              "    .colab-df-convert {\n",
              "      background-color: #E8F0FE;\n",
              "      border: none;\n",
              "      border-radius: 50%;\n",
              "      cursor: pointer;\n",
              "      display: none;\n",
              "      fill: #1967D2;\n",
              "      height: 32px;\n",
              "      padding: 0 0 0 0;\n",
              "      width: 32px;\n",
              "    }\n",
              "\n",
              "    .colab-df-convert:hover {\n",
              "      background-color: #E2EBFA;\n",
              "      box-shadow: 0px 1px 2px rgba(60, 64, 67, 0.3), 0px 1px 3px 1px rgba(60, 64, 67, 0.15);\n",
              "      fill: #174EA6;\n",
              "    }\n",
              "\n",
              "    [theme=dark] .colab-df-convert {\n",
              "      background-color: #3B4455;\n",
              "      fill: #D2E3FC;\n",
              "    }\n",
              "\n",
              "    [theme=dark] .colab-df-convert:hover {\n",
              "      background-color: #434B5C;\n",
              "      box-shadow: 0px 1px 3px 1px rgba(0, 0, 0, 0.15);\n",
              "      filter: drop-shadow(0px 1px 2px rgba(0, 0, 0, 0.3));\n",
              "      fill: #FFFFFF;\n",
              "    }\n",
              "  </style>\n",
              "\n",
              "      <script>\n",
              "        const buttonEl =\n",
              "          document.querySelector('#df-e14082a5-7499-4441-8a7a-cd130dcb498d button.colab-df-convert');\n",
              "        buttonEl.style.display =\n",
              "          google.colab.kernel.accessAllowed ? 'block' : 'none';\n",
              "\n",
              "        async function convertToInteractive(key) {\n",
              "          const element = document.querySelector('#df-e14082a5-7499-4441-8a7a-cd130dcb498d');\n",
              "          const dataTable =\n",
              "            await google.colab.kernel.invokeFunction('convertToInteractive',\n",
              "                                                     [key], {});\n",
              "          if (!dataTable) return;\n",
              "\n",
              "          const docLinkHtml = 'Like what you see? Visit the ' +\n",
              "            '<a target=\"_blank\" href=https://colab.research.google.com/notebooks/data_table.ipynb>data table notebook</a>'\n",
              "            + ' to learn more about interactive tables.';\n",
              "          element.innerHTML = '';\n",
              "          dataTable['output_type'] = 'display_data';\n",
              "          await google.colab.output.renderOutput(dataTable, element);\n",
              "          const docLink = document.createElement('div');\n",
              "          docLink.innerHTML = docLinkHtml;\n",
              "          element.appendChild(docLink);\n",
              "        }\n",
              "      </script>\n",
              "    </div>\n",
              "  </div>\n",
              "  "
            ],
            "text/plain": [
              "                Qid         Karma    NumAnswers        Target\n",
              "count  1.685264e+06  1.685264e+06  1.685264e+06  1.685264e+06\n",
              "mean   1.685049e+06  6.585267e+02  2.537575e+01  4.078293e-02\n",
              "std    9.731675e+05  2.957257e+03  1.076235e+02  3.151552e-01\n",
              "min    2.000000e+00 -4.100000e+01  0.000000e+00  0.000000e+00\n",
              "25%    8.418928e+05  6.000000e+00  0.000000e+00  0.000000e+00\n",
              "50%    1.684832e+06  6.200000e+01  2.000000e+00  0.000000e+00\n",
              "75%    2.528051e+06  3.910000e+02  1.300000e+01  0.000000e+00\n",
              "max    3.370526e+06  2.871010e+05  1.174900e+04  4.000000e+00"
            ]
          },
          "execution_count": 10,
          "metadata": {},
          "output_type": "execute_result"
        }
      ],
      "source": [
        "train_df.describe()"
      ]
    },
    {
      "cell_type": "code",
      "execution_count": null,
      "metadata": {
        "id": "MKDvedRiIX71"
      },
      "outputs": [],
      "source": [
        "test_df = pd.read_csv(\"/content/drive/MyDrive/Colab Notebooks/our_contest_test.csv\" )"
      ]
    },
    {
      "cell_type": "code",
      "execution_count": null,
      "metadata": {
        "colab": {
          "base_uri": "https://localhost:8080/",
          "height": 337
        },
        "id": "0Ly3jkY8IkID",
        "outputId": "b5cf0847-c0e3-4bf0-ae4b-e066d00cf13e"
      },
      "outputs": [
        {
          "output_type": "execute_result",
          "data": {
            "text/html": [
              "\n",
              "  <div id=\"df-2107ab5f-cb82-48d5-a59b-047cdb905c89\">\n",
              "    <div class=\"colab-df-container\">\n",
              "      <div>\n",
              "<style scoped>\n",
              "    .dataframe tbody tr th:only-of-type {\n",
              "        vertical-align: middle;\n",
              "    }\n",
              "\n",
              "    .dataframe tbody tr th {\n",
              "        vertical-align: top;\n",
              "    }\n",
              "\n",
              "    .dataframe thead th {\n",
              "        text-align: right;\n",
              "    }\n",
              "</style>\n",
              "<table border=\"1\" class=\"dataframe\">\n",
              "  <thead>\n",
              "    <tr style=\"text-align: right;\">\n",
              "      <th></th>\n",
              "      <th>Qid</th>\n",
              "      <th>PostDateTime</th>\n",
              "      <th>WhenAccountMade</th>\n",
              "      <th>Karma</th>\n",
              "      <th>NumAnswers</th>\n",
              "      <th>Heading</th>\n",
              "      <th>MainText</th>\n",
              "      <th>PrimarySubject</th>\n",
              "      <th>SecondarySubject</th>\n",
              "      <th>TertiarySubject</th>\n",
              "      <th>OtherSubject</th>\n",
              "    </tr>\n",
              "  </thead>\n",
              "  <tbody>\n",
              "    <tr>\n",
              "      <th>0</th>\n",
              "      <td>542806</td>\n",
              "      <td>04/22/2010 14:12:38</td>\n",
              "      <td>04/22/2010 14:12:38</td>\n",
              "      <td>1</td>\n",
              "      <td>0</td>\n",
              "      <td>How to Stich multiple java.awt.Image objects</td>\n",
              "      <td>Refereing to my previous question,\\r\\n\\r\\nhttp...</td>\n",
              "      <td>java</td>\n",
              "      <td>swing</td>\n",
              "      <td>NaN</td>\n",
              "      <td>NaN</td>\n",
              "    </tr>\n",
              "    <tr>\n",
              "      <th>1</th>\n",
              "      <td>1226994</td>\n",
              "      <td>03/01/2011 19:14:36</td>\n",
              "      <td>02/28/2009 02:30:49</td>\n",
              "      <td>1944</td>\n",
              "      <td>60</td>\n",
              "      <td>Create a git patch from the changes in the cur...</td>\n",
              "      <td>Say I have uncommitted changes in my working d...</td>\n",
              "      <td>git</td>\n",
              "      <td>git-patch</td>\n",
              "      <td>NaN</td>\n",
              "      <td>NaN</td>\n",
              "    </tr>\n",
              "    <tr>\n",
              "      <th>2</th>\n",
              "      <td>3299216</td>\n",
              "      <td>07/09/2012 15:04:54</td>\n",
              "      <td>06/06/2012 16:48:12</td>\n",
              "      <td>50</td>\n",
              "      <td>2</td>\n",
              "      <td>Symfony2: Dynamic Routing Prefix</td>\n",
              "      <td>I need to create a dynamic routing scheme, whe...</td>\n",
              "      <td>php</td>\n",
              "      <td>symfony-2.0</td>\n",
              "      <td>NaN</td>\n",
              "      <td>NaN</td>\n",
              "    </tr>\n",
              "    <tr>\n",
              "      <th>3</th>\n",
              "      <td>1631029</td>\n",
              "      <td>06/29/2011 16:08:57</td>\n",
              "      <td>02/10/2010 22:37:58</td>\n",
              "      <td>333</td>\n",
              "      <td>7</td>\n",
              "      <td>memset after malloc</td>\n",
              "      <td>I have three lines (version) of a linux produc...</td>\n",
              "      <td>c</td>\n",
              "      <td>linux</td>\n",
              "      <td>memory</td>\n",
              "      <td>malloc</td>\n",
              "    </tr>\n",
              "    <tr>\n",
              "      <th>4</th>\n",
              "      <td>1963405</td>\n",
              "      <td>03/20/2012 16:09:47</td>\n",
              "      <td>10/28/2009 14:55:35</td>\n",
              "      <td>3515</td>\n",
              "      <td>53</td>\n",
              "      <td>Is it with Curses possible, to print to STDERR...</td>\n",
              "      <td>How could I print \"Hello, World!\\n\" (using [Cu...</td>\n",
              "      <td>perl</td>\n",
              "      <td>printing</td>\n",
              "      <td>stdout</td>\n",
              "      <td>stderr</td>\n",
              "    </tr>\n",
              "  </tbody>\n",
              "</table>\n",
              "</div>\n",
              "      <button class=\"colab-df-convert\" onclick=\"convertToInteractive('df-2107ab5f-cb82-48d5-a59b-047cdb905c89')\"\n",
              "              title=\"Convert this dataframe to an interactive table.\"\n",
              "              style=\"display:none;\">\n",
              "        \n",
              "  <svg xmlns=\"http://www.w3.org/2000/svg\" height=\"24px\"viewBox=\"0 0 24 24\"\n",
              "       width=\"24px\">\n",
              "    <path d=\"M0 0h24v24H0V0z\" fill=\"none\"/>\n",
              "    <path d=\"M18.56 5.44l.94 2.06.94-2.06 2.06-.94-2.06-.94-.94-2.06-.94 2.06-2.06.94zm-11 1L8.5 8.5l.94-2.06 2.06-.94-2.06-.94L8.5 2.5l-.94 2.06-2.06.94zm10 10l.94 2.06.94-2.06 2.06-.94-2.06-.94-.94-2.06-.94 2.06-2.06.94z\"/><path d=\"M17.41 7.96l-1.37-1.37c-.4-.4-.92-.59-1.43-.59-.52 0-1.04.2-1.43.59L10.3 9.45l-7.72 7.72c-.78.78-.78 2.05 0 2.83L4 21.41c.39.39.9.59 1.41.59.51 0 1.02-.2 1.41-.59l7.78-7.78 2.81-2.81c.8-.78.8-2.07 0-2.86zM5.41 20L4 18.59l7.72-7.72 1.47 1.35L5.41 20z\"/>\n",
              "  </svg>\n",
              "      </button>\n",
              "      \n",
              "  <style>\n",
              "    .colab-df-container {\n",
              "      display:flex;\n",
              "      flex-wrap:wrap;\n",
              "      gap: 12px;\n",
              "    }\n",
              "\n",
              "    .colab-df-convert {\n",
              "      background-color: #E8F0FE;\n",
              "      border: none;\n",
              "      border-radius: 50%;\n",
              "      cursor: pointer;\n",
              "      display: none;\n",
              "      fill: #1967D2;\n",
              "      height: 32px;\n",
              "      padding: 0 0 0 0;\n",
              "      width: 32px;\n",
              "    }\n",
              "\n",
              "    .colab-df-convert:hover {\n",
              "      background-color: #E2EBFA;\n",
              "      box-shadow: 0px 1px 2px rgba(60, 64, 67, 0.3), 0px 1px 3px 1px rgba(60, 64, 67, 0.15);\n",
              "      fill: #174EA6;\n",
              "    }\n",
              "\n",
              "    [theme=dark] .colab-df-convert {\n",
              "      background-color: #3B4455;\n",
              "      fill: #D2E3FC;\n",
              "    }\n",
              "\n",
              "    [theme=dark] .colab-df-convert:hover {\n",
              "      background-color: #434B5C;\n",
              "      box-shadow: 0px 1px 3px 1px rgba(0, 0, 0, 0.15);\n",
              "      filter: drop-shadow(0px 1px 2px rgba(0, 0, 0, 0.3));\n",
              "      fill: #FFFFFF;\n",
              "    }\n",
              "  </style>\n",
              "\n",
              "      <script>\n",
              "        const buttonEl =\n",
              "          document.querySelector('#df-2107ab5f-cb82-48d5-a59b-047cdb905c89 button.colab-df-convert');\n",
              "        buttonEl.style.display =\n",
              "          google.colab.kernel.accessAllowed ? 'block' : 'none';\n",
              "\n",
              "        async function convertToInteractive(key) {\n",
              "          const element = document.querySelector('#df-2107ab5f-cb82-48d5-a59b-047cdb905c89');\n",
              "          const dataTable =\n",
              "            await google.colab.kernel.invokeFunction('convertToInteractive',\n",
              "                                                     [key], {});\n",
              "          if (!dataTable) return;\n",
              "\n",
              "          const docLinkHtml = 'Like what you see? Visit the ' +\n",
              "            '<a target=\"_blank\" href=https://colab.research.google.com/notebooks/data_table.ipynb>data table notebook</a>'\n",
              "            + ' to learn more about interactive tables.';\n",
              "          element.innerHTML = '';\n",
              "          dataTable['output_type'] = 'display_data';\n",
              "          await google.colab.output.renderOutput(dataTable, element);\n",
              "          const docLink = document.createElement('div');\n",
              "          docLink.innerHTML = docLinkHtml;\n",
              "          element.appendChild(docLink);\n",
              "        }\n",
              "      </script>\n",
              "    </div>\n",
              "  </div>\n",
              "  "
            ],
            "text/plain": [
              "       Qid         PostDateTime  ... TertiarySubject  OtherSubject\n",
              "0   542806  04/22/2010 14:12:38  ...             NaN           NaN\n",
              "1  1226994  03/01/2011 19:14:36  ...             NaN           NaN\n",
              "2  3299216  07/09/2012 15:04:54  ...             NaN           NaN\n",
              "3  1631029  06/29/2011 16:08:57  ...          memory        malloc\n",
              "4  1963405  03/20/2012 16:09:47  ...          stdout        stderr\n",
              "\n",
              "[5 rows x 11 columns]"
            ]
          },
          "metadata": {},
          "execution_count": 6
        }
      ],
      "source": [
        "test_df.head()"
      ]
    },
    {
      "cell_type": "code",
      "execution_count": null,
      "metadata": {
        "colab": {
          "base_uri": "https://localhost:8080/"
        },
        "id": "fE_oeFOWhyPm",
        "outputId": "21844128-92fb-4721-db2f-5074f34308c6"
      },
      "outputs": [
        {
          "data": {
            "text/plain": [
              "Qid                       0\n",
              "PostDateTime              0\n",
              "WhenAccountMade           0\n",
              "Karma                     0\n",
              "NumAnswers                0\n",
              "Heading                   0\n",
              "MainText                  0\n",
              "PrimarySubject           82\n",
              "SecondarySubject     262596\n",
              "TertiarySubject      694181\n",
              "OtherSubject        1164434\n",
              "dtype: int64"
            ]
          },
          "execution_count": 14,
          "metadata": {},
          "output_type": "execute_result"
        }
      ],
      "source": [
        "test_df.isna().sum()"
      ]
    },
    {
      "cell_type": "code",
      "execution_count": null,
      "metadata": {
        "colab": {
          "base_uri": "https://localhost:8080/",
          "height": 300
        },
        "id": "OD_ZyOHriB2t",
        "outputId": "d39bb472-50b6-4377-fe71-cc875e848bea"
      },
      "outputs": [
        {
          "data": {
            "text/html": [
              "<div>\n",
              "<style scoped>\n",
              "    .dataframe tbody tr th:only-of-type {\n",
              "        vertical-align: middle;\n",
              "    }\n",
              "\n",
              "    .dataframe tbody tr th {\n",
              "        vertical-align: top;\n",
              "    }\n",
              "\n",
              "    .dataframe thead th {\n",
              "        text-align: right;\n",
              "    }\n",
              "</style>\n",
              "<table border=\"1\" class=\"dataframe\">\n",
              "  <thead>\n",
              "    <tr style=\"text-align: right;\">\n",
              "      <th></th>\n",
              "      <th>Qid</th>\n",
              "      <th>Karma</th>\n",
              "      <th>NumAnswers</th>\n",
              "    </tr>\n",
              "  </thead>\n",
              "  <tbody>\n",
              "    <tr>\n",
              "      <th>count</th>\n",
              "      <td>1.685264e+06</td>\n",
              "      <td>1.685264e+06</td>\n",
              "      <td>1.685264e+06</td>\n",
              "    </tr>\n",
              "    <tr>\n",
              "      <th>mean</th>\n",
              "      <td>1.685478e+06</td>\n",
              "      <td>6.587846e+02</td>\n",
              "      <td>2.542847e+01</td>\n",
              "    </tr>\n",
              "    <tr>\n",
              "      <th>std</th>\n",
              "      <td>9.728083e+05</td>\n",
              "      <td>2.987831e+03</td>\n",
              "      <td>1.118820e+02</td>\n",
              "    </tr>\n",
              "    <tr>\n",
              "      <th>min</th>\n",
              "      <td>0.000000e+00</td>\n",
              "      <td>-5.500000e+01</td>\n",
              "      <td>0.000000e+00</td>\n",
              "    </tr>\n",
              "    <tr>\n",
              "      <th>25%</th>\n",
              "      <td>8.433845e+05</td>\n",
              "      <td>6.000000e+00</td>\n",
              "      <td>0.000000e+00</td>\n",
              "    </tr>\n",
              "    <tr>\n",
              "      <th>50%</th>\n",
              "      <td>1.685750e+06</td>\n",
              "      <td>6.200000e+01</td>\n",
              "      <td>2.000000e+00</td>\n",
              "    </tr>\n",
              "    <tr>\n",
              "      <th>75%</th>\n",
              "      <td>2.527724e+06</td>\n",
              "      <td>3.910000e+02</td>\n",
              "      <td>1.300000e+01</td>\n",
              "    </tr>\n",
              "    <tr>\n",
              "      <th>max</th>\n",
              "      <td>3.370527e+06</td>\n",
              "      <td>4.613110e+05</td>\n",
              "      <td>2.153200e+04</td>\n",
              "    </tr>\n",
              "  </tbody>\n",
              "</table>\n",
              "</div>"
            ],
            "text/plain": [
              "                Qid         Karma    NumAnswers\n",
              "count  1.685264e+06  1.685264e+06  1.685264e+06\n",
              "mean   1.685478e+06  6.587846e+02  2.542847e+01\n",
              "std    9.728083e+05  2.987831e+03  1.118820e+02\n",
              "min    0.000000e+00 -5.500000e+01  0.000000e+00\n",
              "25%    8.433845e+05  6.000000e+00  0.000000e+00\n",
              "50%    1.685750e+06  6.200000e+01  2.000000e+00\n",
              "75%    2.527724e+06  3.910000e+02  1.300000e+01\n",
              "max    3.370527e+06  4.613110e+05  2.153200e+04"
            ]
          },
          "execution_count": 6,
          "metadata": {},
          "output_type": "execute_result"
        }
      ],
      "source": [
        "test_df.describe()"
      ]
    },
    {
      "cell_type": "markdown",
      "metadata": {
        "id": "nV7sLT5INIZH"
      },
      "source": [
        "so here i am doing some preprocessing on text data using NLTK library.\n"
      ]
    },
    {
      "cell_type": "code",
      "execution_count": null,
      "metadata": {
        "id": "dMZ73Vd9NGdp"
      },
      "outputs": [],
      "source": [
        "import nltk"
      ]
    },
    {
      "cell_type": "code",
      "execution_count": null,
      "metadata": {
        "id": "HrMmhd9LOOjU"
      },
      "outputs": [],
      "source": [
        "###  nltk.download()"
      ]
    },
    {
      "cell_type": "code",
      "execution_count": null,
      "metadata": {
        "colab": {
          "base_uri": "https://localhost:8080/",
          "height": 300
        },
        "id": "XC6cC60BQO27",
        "outputId": "9f325e2b-ee4b-47ad-e34f-355544696843"
      },
      "outputs": [
        {
          "data": {
            "text/html": [
              "\n",
              "  <div id=\"df-0727a246-f300-4fb1-8f37-6eff45535cac\">\n",
              "    <div class=\"colab-df-container\">\n",
              "      <div>\n",
              "<style scoped>\n",
              "    .dataframe tbody tr th:only-of-type {\n",
              "        vertical-align: middle;\n",
              "    }\n",
              "\n",
              "    .dataframe tbody tr th {\n",
              "        vertical-align: top;\n",
              "    }\n",
              "\n",
              "    .dataframe thead th {\n",
              "        text-align: right;\n",
              "    }\n",
              "</style>\n",
              "<table border=\"1\" class=\"dataframe\">\n",
              "  <thead>\n",
              "    <tr style=\"text-align: right;\">\n",
              "      <th></th>\n",
              "      <th>Qid</th>\n",
              "      <th>Karma</th>\n",
              "      <th>NumAnswers</th>\n",
              "      <th>Target</th>\n",
              "    </tr>\n",
              "  </thead>\n",
              "  <tbody>\n",
              "    <tr>\n",
              "      <th>count</th>\n",
              "      <td>1.685264e+06</td>\n",
              "      <td>1.685264e+06</td>\n",
              "      <td>1.685264e+06</td>\n",
              "      <td>1.685264e+06</td>\n",
              "    </tr>\n",
              "    <tr>\n",
              "      <th>mean</th>\n",
              "      <td>1.685049e+06</td>\n",
              "      <td>6.585267e+02</td>\n",
              "      <td>2.537575e+01</td>\n",
              "      <td>4.078293e-02</td>\n",
              "    </tr>\n",
              "    <tr>\n",
              "      <th>std</th>\n",
              "      <td>9.731675e+05</td>\n",
              "      <td>2.957257e+03</td>\n",
              "      <td>1.076235e+02</td>\n",
              "      <td>3.151552e-01</td>\n",
              "    </tr>\n",
              "    <tr>\n",
              "      <th>min</th>\n",
              "      <td>2.000000e+00</td>\n",
              "      <td>-4.100000e+01</td>\n",
              "      <td>0.000000e+00</td>\n",
              "      <td>0.000000e+00</td>\n",
              "    </tr>\n",
              "    <tr>\n",
              "      <th>25%</th>\n",
              "      <td>8.418928e+05</td>\n",
              "      <td>6.000000e+00</td>\n",
              "      <td>0.000000e+00</td>\n",
              "      <td>0.000000e+00</td>\n",
              "    </tr>\n",
              "    <tr>\n",
              "      <th>50%</th>\n",
              "      <td>1.684832e+06</td>\n",
              "      <td>6.200000e+01</td>\n",
              "      <td>2.000000e+00</td>\n",
              "      <td>0.000000e+00</td>\n",
              "    </tr>\n",
              "    <tr>\n",
              "      <th>75%</th>\n",
              "      <td>2.528051e+06</td>\n",
              "      <td>3.910000e+02</td>\n",
              "      <td>1.300000e+01</td>\n",
              "      <td>0.000000e+00</td>\n",
              "    </tr>\n",
              "    <tr>\n",
              "      <th>max</th>\n",
              "      <td>3.370526e+06</td>\n",
              "      <td>2.871010e+05</td>\n",
              "      <td>1.174900e+04</td>\n",
              "      <td>4.000000e+00</td>\n",
              "    </tr>\n",
              "  </tbody>\n",
              "</table>\n",
              "</div>\n",
              "      <button class=\"colab-df-convert\" onclick=\"convertToInteractive('df-0727a246-f300-4fb1-8f37-6eff45535cac')\"\n",
              "              title=\"Convert this dataframe to an interactive table.\"\n",
              "              style=\"display:none;\">\n",
              "        \n",
              "  <svg xmlns=\"http://www.w3.org/2000/svg\" height=\"24px\"viewBox=\"0 0 24 24\"\n",
              "       width=\"24px\">\n",
              "    <path d=\"M0 0h24v24H0V0z\" fill=\"none\"/>\n",
              "    <path d=\"M18.56 5.44l.94 2.06.94-2.06 2.06-.94-2.06-.94-.94-2.06-.94 2.06-2.06.94zm-11 1L8.5 8.5l.94-2.06 2.06-.94-2.06-.94L8.5 2.5l-.94 2.06-2.06.94zm10 10l.94 2.06.94-2.06 2.06-.94-2.06-.94-.94-2.06-.94 2.06-2.06.94z\"/><path d=\"M17.41 7.96l-1.37-1.37c-.4-.4-.92-.59-1.43-.59-.52 0-1.04.2-1.43.59L10.3 9.45l-7.72 7.72c-.78.78-.78 2.05 0 2.83L4 21.41c.39.39.9.59 1.41.59.51 0 1.02-.2 1.41-.59l7.78-7.78 2.81-2.81c.8-.78.8-2.07 0-2.86zM5.41 20L4 18.59l7.72-7.72 1.47 1.35L5.41 20z\"/>\n",
              "  </svg>\n",
              "      </button>\n",
              "      \n",
              "  <style>\n",
              "    .colab-df-container {\n",
              "      display:flex;\n",
              "      flex-wrap:wrap;\n",
              "      gap: 12px;\n",
              "    }\n",
              "\n",
              "    .colab-df-convert {\n",
              "      background-color: #E8F0FE;\n",
              "      border: none;\n",
              "      border-radius: 50%;\n",
              "      cursor: pointer;\n",
              "      display: none;\n",
              "      fill: #1967D2;\n",
              "      height: 32px;\n",
              "      padding: 0 0 0 0;\n",
              "      width: 32px;\n",
              "    }\n",
              "\n",
              "    .colab-df-convert:hover {\n",
              "      background-color: #E2EBFA;\n",
              "      box-shadow: 0px 1px 2px rgba(60, 64, 67, 0.3), 0px 1px 3px 1px rgba(60, 64, 67, 0.15);\n",
              "      fill: #174EA6;\n",
              "    }\n",
              "\n",
              "    [theme=dark] .colab-df-convert {\n",
              "      background-color: #3B4455;\n",
              "      fill: #D2E3FC;\n",
              "    }\n",
              "\n",
              "    [theme=dark] .colab-df-convert:hover {\n",
              "      background-color: #434B5C;\n",
              "      box-shadow: 0px 1px 3px 1px rgba(0, 0, 0, 0.15);\n",
              "      filter: drop-shadow(0px 1px 2px rgba(0, 0, 0, 0.3));\n",
              "      fill: #FFFFFF;\n",
              "    }\n",
              "  </style>\n",
              "\n",
              "      <script>\n",
              "        const buttonEl =\n",
              "          document.querySelector('#df-0727a246-f300-4fb1-8f37-6eff45535cac button.colab-df-convert');\n",
              "        buttonEl.style.display =\n",
              "          google.colab.kernel.accessAllowed ? 'block' : 'none';\n",
              "\n",
              "        async function convertToInteractive(key) {\n",
              "          const element = document.querySelector('#df-0727a246-f300-4fb1-8f37-6eff45535cac');\n",
              "          const dataTable =\n",
              "            await google.colab.kernel.invokeFunction('convertToInteractive',\n",
              "                                                     [key], {});\n",
              "          if (!dataTable) return;\n",
              "\n",
              "          const docLinkHtml = 'Like what you see? Visit the ' +\n",
              "            '<a target=\"_blank\" href=https://colab.research.google.com/notebooks/data_table.ipynb>data table notebook</a>'\n",
              "            + ' to learn more about interactive tables.';\n",
              "          element.innerHTML = '';\n",
              "          dataTable['output_type'] = 'display_data';\n",
              "          await google.colab.output.renderOutput(dataTable, element);\n",
              "          const docLink = document.createElement('div');\n",
              "          docLink.innerHTML = docLinkHtml;\n",
              "          element.appendChild(docLink);\n",
              "        }\n",
              "      </script>\n",
              "    </div>\n",
              "  </div>\n",
              "  "
            ],
            "text/plain": [
              "                Qid         Karma    NumAnswers        Target\n",
              "count  1.685264e+06  1.685264e+06  1.685264e+06  1.685264e+06\n",
              "mean   1.685049e+06  6.585267e+02  2.537575e+01  4.078293e-02\n",
              "std    9.731675e+05  2.957257e+03  1.076235e+02  3.151552e-01\n",
              "min    2.000000e+00 -4.100000e+01  0.000000e+00  0.000000e+00\n",
              "25%    8.418928e+05  6.000000e+00  0.000000e+00  0.000000e+00\n",
              "50%    1.684832e+06  6.200000e+01  2.000000e+00  0.000000e+00\n",
              "75%    2.528051e+06  3.910000e+02  1.300000e+01  0.000000e+00\n",
              "max    3.370526e+06  2.871010e+05  1.174900e+04  4.000000e+00"
            ]
          },
          "execution_count": 16,
          "metadata": {},
          "output_type": "execute_result"
        }
      ],
      "source": [
        "train_df.describe()\n"
      ]
    },
    {
      "cell_type": "code",
      "execution_count": null,
      "metadata": {
        "colab": {
          "base_uri": "https://localhost:8080/",
          "height": 1000
        },
        "id": "sMC1Phl34Opk",
        "outputId": "db80c856-89b1-49fd-d471-a8db0885d0a6"
      },
      "outputs": [
        {
          "output_type": "stream",
          "name": "stdout",
          "text": [
            "Duplicate Rows :\n"
          ]
        },
        {
          "output_type": "execute_result",
          "data": {
            "text/html": [
              "\n",
              "  <div id=\"df-6c1b42d8-bdfa-4108-bf60-3cbf0e51415d\">\n",
              "    <div class=\"colab-df-container\">\n",
              "      <div>\n",
              "<style scoped>\n",
              "    .dataframe tbody tr th:only-of-type {\n",
              "        vertical-align: middle;\n",
              "    }\n",
              "\n",
              "    .dataframe tbody tr th {\n",
              "        vertical-align: top;\n",
              "    }\n",
              "\n",
              "    .dataframe thead th {\n",
              "        text-align: right;\n",
              "    }\n",
              "</style>\n",
              "<table border=\"1\" class=\"dataframe\">\n",
              "  <thead>\n",
              "    <tr style=\"text-align: right;\">\n",
              "      <th></th>\n",
              "      <th>Qid</th>\n",
              "      <th>PostDateTime</th>\n",
              "      <th>WhenAccountMade</th>\n",
              "      <th>Karma</th>\n",
              "      <th>NumAnswers</th>\n",
              "      <th>Heading</th>\n",
              "      <th>MainText</th>\n",
              "      <th>PrimarySubject</th>\n",
              "      <th>SecondarySubject</th>\n",
              "      <th>TertiarySubject</th>\n",
              "      <th>OtherSubject</th>\n",
              "      <th>Target</th>\n",
              "    </tr>\n",
              "  </thead>\n",
              "  <tbody>\n",
              "    <tr>\n",
              "      <th>86850</th>\n",
              "      <td>715209</td>\n",
              "      <td>07/26/2010 06:57:13</td>\n",
              "      <td>07/08/2009 05:51:58</td>\n",
              "      <td>2412</td>\n",
              "      <td>66</td>\n",
              "      <td>Add YAAF to the Microsoft Visual C++ search di...</td>\n",
              "      <td>I am completely new to working on MS Visual St...</td>\n",
              "      <td>visual-studio</td>\n",
              "      <td>visual-studio-2005</td>\n",
              "      <td>NaN</td>\n",
              "      <td>NaN</td>\n",
              "      <td>0</td>\n",
              "    </tr>\n",
              "    <tr>\n",
              "      <th>429363</th>\n",
              "      <td>859824</td>\n",
              "      <td>10/04/2010 12:16:52</td>\n",
              "      <td>05/01/2010 12:57:11</td>\n",
              "      <td>1</td>\n",
              "      <td>0</td>\n",
              "      <td>Redirecting standard output to a file containi...</td>\n",
              "      <td>I've searched for a while but i can't either f...</td>\n",
              "      <td>bash</td>\n",
              "      <td>scripting</td>\n",
              "      <td>command</td>\n",
              "      <td>line</td>\n",
              "      <td>0</td>\n",
              "    </tr>\n",
              "    <tr>\n",
              "      <th>433798</th>\n",
              "      <td>1137331</td>\n",
              "      <td>01/31/2011 07:11:57</td>\n",
              "      <td>10/26/2010 08:00:50</td>\n",
              "      <td>21</td>\n",
              "      <td>0</td>\n",
              "      <td>How to access Azure blob storage via Flex Appl...</td>\n",
              "      <td>I am trying to access Blob Storage on Azure vi...</td>\n",
              "      <td>flex4</td>\n",
              "      <td>azure</td>\n",
              "      <td>NaN</td>\n",
              "      <td>NaN</td>\n",
              "      <td>0</td>\n",
              "    </tr>\n",
              "    <tr>\n",
              "      <th>513579</th>\n",
              "      <td>625901</td>\n",
              "      <td>06/09/2010 06:08:33</td>\n",
              "      <td>06/09/2010 05:26:43</td>\n",
              "      <td>1</td>\n",
              "      <td>0</td>\n",
              "      <td>including tk.h and tcl.h in c program</td>\n",
              "      <td>i am working on an ubuntu system. My aim is to...</td>\n",
              "      <td>c</td>\n",
              "      <td>NaN</td>\n",
              "      <td>NaN</td>\n",
              "      <td>NaN</td>\n",
              "      <td>0</td>\n",
              "    </tr>\n",
              "    <tr>\n",
              "      <th>704227</th>\n",
              "      <td>1360711</td>\n",
              "      <td>04/11/2011 15:42:12</td>\n",
              "      <td>04/08/2011 06:37:04</td>\n",
              "      <td>6</td>\n",
              "      <td>0</td>\n",
              "      <td>SMTPRecipientsRefused in django</td>\n",
              "      <td>when i am trying to send mails through django ...</td>\n",
              "      <td>django</td>\n",
              "      <td>NaN</td>\n",
              "      <td>NaN</td>\n",
              "      <td>NaN</td>\n",
              "      <td>0</td>\n",
              "    </tr>\n",
              "    <tr>\n",
              "      <th>719876</th>\n",
              "      <td>866147</td>\n",
              "      <td>10/06/2010 22:58:46</td>\n",
              "      <td>06/23/2009 22:17:37</td>\n",
              "      <td>574</td>\n",
              "      <td>30</td>\n",
              "      <td>Trouble Figuring Out The routes.Maproute For T...</td>\n",
              "      <td>Despite the plethora of URL routing posts, I h...</td>\n",
              "      <td>c#</td>\n",
              "      <td>url-rewriting</td>\n",
              "      <td>url-routing</td>\n",
              "      <td>NaN</td>\n",
              "      <td>0</td>\n",
              "    </tr>\n",
              "    <tr>\n",
              "      <th>891206</th>\n",
              "      <td>1280604</td>\n",
              "      <td>03/18/2011 00:47:08</td>\n",
              "      <td>06/25/2010 16:20:39</td>\n",
              "      <td>393</td>\n",
              "      <td>30</td>\n",
              "      <td>Declarative integrity constraint between rows ...</td>\n",
              "      <td>I have a situation like the following join tab...</td>\n",
              "      <td>oracle</td>\n",
              "      <td>data-modeling</td>\n",
              "      <td>declarative</td>\n",
              "      <td>integrity</td>\n",
              "      <td>0</td>\n",
              "    </tr>\n",
              "    <tr>\n",
              "      <th>1001518</th>\n",
              "      <td>1328252</td>\n",
              "      <td>04/01/2011 10:44:11</td>\n",
              "      <td>07/16/2010 07:03:03</td>\n",
              "      <td>168</td>\n",
              "      <td>9</td>\n",
              "      <td>Distinguishing between iPhone app upgrade and ...</td>\n",
              "      <td>There is a situation that I am faced with whic...</td>\n",
              "      <td>iphone</td>\n",
              "      <td>iphone-sdk-4.0</td>\n",
              "      <td>NaN</td>\n",
              "      <td>NaN</td>\n",
              "      <td>0</td>\n",
              "    </tr>\n",
              "    <tr>\n",
              "      <th>1024519</th>\n",
              "      <td>874702</td>\n",
              "      <td>10/11/2010 15:13:43</td>\n",
              "      <td>10/11/2010 14:49:35</td>\n",
              "      <td>1</td>\n",
              "      <td>0</td>\n",
              "      <td>Publishing messages to a JMS server on another...</td>\n",
              "      <td>I need to publish messages to a topic on a JMS...</td>\n",
              "      <td>configuration</td>\n",
              "      <td>java-ee-6</td>\n",
              "      <td>glassfish-3</td>\n",
              "      <td>openmq</td>\n",
              "      <td>0</td>\n",
              "    </tr>\n",
              "    <tr>\n",
              "      <th>1042854</th>\n",
              "      <td>1344135</td>\n",
              "      <td>04/06/2011 12:44:57</td>\n",
              "      <td>11/19/2010 14:53:28</td>\n",
              "      <td>1085</td>\n",
              "      <td>98</td>\n",
              "      <td>Facebook fb-login not redirecting back</td>\n",
              "      <td>I want to authenticate the user using facebook...</td>\n",
              "      <td>facebook</td>\n",
              "      <td>ruby-on-rails-3</td>\n",
              "      <td>fbml</td>\n",
              "      <td>NaN</td>\n",
              "      <td>0</td>\n",
              "    </tr>\n",
              "    <tr>\n",
              "      <th>1049164</th>\n",
              "      <td>367587</td>\n",
              "      <td>01/03/2010 14:07:53</td>\n",
              "      <td>08/25/2009 10:45:47</td>\n",
              "      <td>51</td>\n",
              "      <td>18</td>\n",
              "      <td>uninitialized constant Active Scaffold rails 2...</td>\n",
              "      <td>I update my rails application 2.0.2 to 2.3.5. ...</td>\n",
              "      <td>ruby-on-rails</td>\n",
              "      <td>activescaffold</td>\n",
              "      <td>NaN</td>\n",
              "      <td>NaN</td>\n",
              "      <td>0</td>\n",
              "    </tr>\n",
              "    <tr>\n",
              "      <th>1056512</th>\n",
              "      <td>534927</td>\n",
              "      <td>04/18/2010 13:45:51</td>\n",
              "      <td>04/17/2010 21:52:15</td>\n",
              "      <td>1</td>\n",
              "      <td>0</td>\n",
              "      <td>How cookies are handled if you use a proxy bet...</td>\n",
              "      <td>How cookies are handled if you use a proxy bet...</td>\n",
              "      <td>cookies</td>\n",
              "      <td>NaN</td>\n",
              "      <td>NaN</td>\n",
              "      <td>NaN</td>\n",
              "      <td>0</td>\n",
              "    </tr>\n",
              "    <tr>\n",
              "      <th>1067741</th>\n",
              "      <td>1078721</td>\n",
              "      <td>01/09/2011 22:51:57</td>\n",
              "      <td>07/04/2009 20:43:22</td>\n",
              "      <td>417</td>\n",
              "      <td>7</td>\n",
              "      <td>Strange execution of get accesor in c#?</td>\n",
              "      <td>I set up a simple program just to test how the...</td>\n",
              "      <td>c#</td>\n",
              "      <td>get</td>\n",
              "      <td>NaN</td>\n",
              "      <td>NaN</td>\n",
              "      <td>0</td>\n",
              "    </tr>\n",
              "    <tr>\n",
              "      <th>1135636</th>\n",
              "      <td>1479316</td>\n",
              "      <td>05/16/2011 10:22:26</td>\n",
              "      <td>05/16/2011 10:00:48</td>\n",
              "      <td>1</td>\n",
              "      <td>0</td>\n",
              "      <td>Transmission Compression from .net to SQL</td>\n",
              "      <td>I have an win forms App that the users use off...</td>\n",
              "      <td>sql-server-2005</td>\n",
              "      <td>.net-2.0</td>\n",
              "      <td>compression</td>\n",
              "      <td>NaN</td>\n",
              "      <td>0</td>\n",
              "    </tr>\n",
              "    <tr>\n",
              "      <th>1199464</th>\n",
              "      <td>569920</td>\n",
              "      <td>05/06/2010 23:17:40</td>\n",
              "      <td>07/22/2009 18:01:00</td>\n",
              "      <td>175</td>\n",
              "      <td>10</td>\n",
              "      <td>Star schema [fact 1:n dimension]...how?</td>\n",
              "      <td>I am a newcomer to data warehouses and have wh...</td>\n",
              "      <td>datawarehouse</td>\n",
              "      <td>olap</td>\n",
              "      <td>NaN</td>\n",
              "      <td>NaN</td>\n",
              "      <td>0</td>\n",
              "    </tr>\n",
              "    <tr>\n",
              "      <th>1201464</th>\n",
              "      <td>2375174</td>\n",
              "      <td>01/10/2012 22:54:17</td>\n",
              "      <td>07/29/2011 18:02:10</td>\n",
              "      <td>185</td>\n",
              "      <td>1</td>\n",
              "      <td>Is it possible to keep a MySQL query from runn...</td>\n",
              "      <td>Is it possible to configure MySQL so that it h...</td>\n",
              "      <td>php</td>\n",
              "      <td>mysql</td>\n",
              "      <td>database</td>\n",
              "      <td>NaN</td>\n",
              "      <td>0</td>\n",
              "    </tr>\n",
              "    <tr>\n",
              "      <th>1216430</th>\n",
              "      <td>737695</td>\n",
              "      <td>08/05/2010 12:24:11</td>\n",
              "      <td>07/26/2010 23:14:33</td>\n",
              "      <td>6</td>\n",
              "      <td>0</td>\n",
              "      <td>C++ Reads/Writes XML without CLR</td>\n",
              "      <td>I know this is a very stupid question and I'm ...</td>\n",
              "      <td>c++</td>\n",
              "      <td>xml</td>\n",
              "      <td>NaN</td>\n",
              "      <td>NaN</td>\n",
              "      <td>0</td>\n",
              "    </tr>\n",
              "    <tr>\n",
              "      <th>1293434</th>\n",
              "      <td>959924</td>\n",
              "      <td>11/18/2010 11:21:52</td>\n",
              "      <td>03/21/2009 19:08:42</td>\n",
              "      <td>1021</td>\n",
              "      <td>59</td>\n",
              "      <td>mysql optimization: current &amp; previous orders ...</td>\n",
              "      <td>I want to know what's the most optimized way t...</td>\n",
              "      <td>mysql</td>\n",
              "      <td>query-optimization</td>\n",
              "      <td>NaN</td>\n",
              "      <td>NaN</td>\n",
              "      <td>0</td>\n",
              "    </tr>\n",
              "    <tr>\n",
              "      <th>1314741</th>\n",
              "      <td>803465</td>\n",
              "      <td>09/06/2010 17:08:46</td>\n",
              "      <td>09/25/2009 16:59:27</td>\n",
              "      <td>45</td>\n",
              "      <td>6</td>\n",
              "      <td>NSTableView requesting Data too early.</td>\n",
              "      <td>I've run into a bit of an issue with NSTableVi...</td>\n",
              "      <td>objective-c</td>\n",
              "      <td>nstableview</td>\n",
              "      <td>NaN</td>\n",
              "      <td>NaN</td>\n",
              "      <td>0</td>\n",
              "    </tr>\n",
              "    <tr>\n",
              "      <th>1329931</th>\n",
              "      <td>129517</td>\n",
              "      <td>05/12/2009 12:37:00</td>\n",
              "      <td>09/22/2008 08:56:41</td>\n",
              "      <td>33</td>\n",
              "      <td>1</td>\n",
              "      <td>Reverse proxy capable pure python webserver?</td>\n",
              "      <td>I am looking for a pure python based web serve...</td>\n",
              "      <td>webserver</td>\n",
              "      <td>reverse</td>\n",
              "      <td>proxy</td>\n",
              "      <td>python</td>\n",
              "      <td>0</td>\n",
              "    </tr>\n",
              "    <tr>\n",
              "      <th>1363745</th>\n",
              "      <td>669513</td>\n",
              "      <td>07/02/2010 09:29:52</td>\n",
              "      <td>02/25/2010 08:12:59</td>\n",
              "      <td>11</td>\n",
              "      <td>0</td>\n",
              "      <td>need help for planning software development , ...</td>\n",
              "      <td>I have been doing a coding in for last 7 month...</td>\n",
              "      <td>sql</td>\n",
              "      <td>sql-server</td>\n",
              "      <td>sql-server-2005</td>\n",
              "      <td>software-engineering</td>\n",
              "      <td>0</td>\n",
              "    </tr>\n",
              "    <tr>\n",
              "      <th>1374333</th>\n",
              "      <td>1274459</td>\n",
              "      <td>03/16/2011 12:14:47</td>\n",
              "      <td>03/16/2011 11:54:45</td>\n",
              "      <td>1</td>\n",
              "      <td>0</td>\n",
              "      <td>how to write xml schema(XSD)</td>\n",
              "      <td>I want to right one XML schema(XSD) \\r\\nin whi...</td>\n",
              "      <td>xml</td>\n",
              "      <td>xsd</td>\n",
              "      <td>NaN</td>\n",
              "      <td>NaN</td>\n",
              "      <td>0</td>\n",
              "    </tr>\n",
              "    <tr>\n",
              "      <th>1377265</th>\n",
              "      <td>178293</td>\n",
              "      <td>07/12/2009 16:05:56</td>\n",
              "      <td>06/01/2009 05:03:58</td>\n",
              "      <td>38</td>\n",
              "      <td>0</td>\n",
              "      <td>C# - How to put extended WinForms Control on T...</td>\n",
              "      <td>I plan to add functionalities to TextBox with ...</td>\n",
              "      <td>c#</td>\n",
              "      <td>winforms</td>\n",
              "      <td>NaN</td>\n",
              "      <td>NaN</td>\n",
              "      <td>0</td>\n",
              "    </tr>\n",
              "    <tr>\n",
              "      <th>1412609</th>\n",
              "      <td>1023494</td>\n",
              "      <td>12/14/2010 20:45:37</td>\n",
              "      <td>12/10/2010 22:44:07</td>\n",
              "      <td>1</td>\n",
              "      <td>0</td>\n",
              "      <td>[hibernate performance] Criteria v/s HQL .who ...</td>\n",
              "      <td>I have been reading some anwers, but i'm still...</td>\n",
              "      <td>hibernate</td>\n",
              "      <td>NaN</td>\n",
              "      <td>NaN</td>\n",
              "      <td>NaN</td>\n",
              "      <td>0</td>\n",
              "    </tr>\n",
              "    <tr>\n",
              "      <th>1450626</th>\n",
              "      <td>1180664</td>\n",
              "      <td>02/14/2011 23:07:33</td>\n",
              "      <td>02/14/2011 23:07:33</td>\n",
              "      <td>1</td>\n",
              "      <td>0</td>\n",
              "      <td>How do I change the name of an application tab?</td>\n",
              "      <td>I'm working on a facebook page for a client an...</td>\n",
              "      <td>facebook</td>\n",
              "      <td>NaN</td>\n",
              "      <td>NaN</td>\n",
              "      <td>NaN</td>\n",
              "      <td>0</td>\n",
              "    </tr>\n",
              "    <tr>\n",
              "      <th>1476522</th>\n",
              "      <td>810032</td>\n",
              "      <td>09/09/2010 12:08:39</td>\n",
              "      <td>09/09/2010 04:19:05</td>\n",
              "      <td>11</td>\n",
              "      <td>0</td>\n",
              "      <td>Fullscreen button in html5 tag</td>\n",
              "      <td>I'm writing a html5 page with a embedded video...</td>\n",
              "      <td>iphone</td>\n",
              "      <td>html</td>\n",
              "      <td>ios</td>\n",
              "      <td>NaN</td>\n",
              "      <td>0</td>\n",
              "    </tr>\n",
              "    <tr>\n",
              "      <th>1501681</th>\n",
              "      <td>1228463</td>\n",
              "      <td>03/02/2011 06:48:37</td>\n",
              "      <td>02/19/2011 07:06:59</td>\n",
              "      <td>13</td>\n",
              "      <td>0</td>\n",
              "      <td>how to make center alignment for text in tab b...</td>\n",
              "      <td>i want to put only text in tab bar no image......</td>\n",
              "      <td>android</td>\n",
              "      <td>NaN</td>\n",
              "      <td>NaN</td>\n",
              "      <td>NaN</td>\n",
              "      <td>0</td>\n",
              "    </tr>\n",
              "    <tr>\n",
              "      <th>1586155</th>\n",
              "      <td>1006134</td>\n",
              "      <td>12/07/2010 20:41:02</td>\n",
              "      <td>09/17/2010 08:41:22</td>\n",
              "      <td>24</td>\n",
              "      <td>0</td>\n",
              "      <td>finding unsupported apis with os version</td>\n",
              "      <td>i've developed and application for iphone. it ...</td>\n",
              "      <td>iphone</td>\n",
              "      <td>api</td>\n",
              "      <td>operating-system</td>\n",
              "      <td>version</td>\n",
              "      <td>0</td>\n",
              "    </tr>\n",
              "    <tr>\n",
              "      <th>1592212</th>\n",
              "      <td>550254</td>\n",
              "      <td>04/27/2010 07:33:13</td>\n",
              "      <td>04/20/2010 05:33:44</td>\n",
              "      <td>6</td>\n",
              "      <td>0</td>\n",
              "      <td>Django Forms Help needed</td>\n",
              "      <td>Im new to django and trying to make a user reg...</td>\n",
              "      <td>django</td>\n",
              "      <td>django-forms</td>\n",
              "      <td>NaN</td>\n",
              "      <td>NaN</td>\n",
              "      <td>0</td>\n",
              "    </tr>\n",
              "    <tr>\n",
              "      <th>1605855</th>\n",
              "      <td>435529</td>\n",
              "      <td>10/26/2009 15:16:43</td>\n",
              "      <td>04/14/2009 15:16:35</td>\n",
              "      <td>10</td>\n",
              "      <td>2</td>\n",
              "      <td>Where I can find the appWizard that can genera...</td>\n",
              "      <td>I have an project to modify. This project was ...</td>\n",
              "      <td>visual-studio-2008</td>\n",
              "      <td>application</td>\n",
              "      <td>NaN</td>\n",
              "      <td>NaN</td>\n",
              "      <td>0</td>\n",
              "    </tr>\n",
              "    <tr>\n",
              "      <th>1626224</th>\n",
              "      <td>805564</td>\n",
              "      <td>09/07/2010 16:47:48</td>\n",
              "      <td>09/07/2010 16:09:51</td>\n",
              "      <td>1</td>\n",
              "      <td>0</td>\n",
              "      <td>Notify server to client via Web service</td>\n",
              "      <td>I made a WebService chat. At the client side I...</td>\n",
              "      <td>web-services</td>\n",
              "      <td>soap</td>\n",
              "      <td>webservice-client</td>\n",
              "      <td>NaN</td>\n",
              "      <td>0</td>\n",
              "    </tr>\n",
              "    <tr>\n",
              "      <th>1659701</th>\n",
              "      <td>1203961</td>\n",
              "      <td>02/22/2011 13:29:04</td>\n",
              "      <td>02/12/2011 04:41:30</td>\n",
              "      <td>49</td>\n",
              "      <td>1</td>\n",
              "      <td>change data source dynamically from .net appli...</td>\n",
              "      <td>My Visual Studio .NET application uses SQL Ser...</td>\n",
              "      <td>.net</td>\n",
              "      <td>sql</td>\n",
              "      <td>application</td>\n",
              "      <td>roles</td>\n",
              "      <td>0</td>\n",
              "    </tr>\n",
              "    <tr>\n",
              "      <th>1663437</th>\n",
              "      <td>262478</td>\n",
              "      <td>10/07/2009 02:00:40</td>\n",
              "      <td>09/27/2009 11:27:55</td>\n",
              "      <td>260</td>\n",
              "      <td>4</td>\n",
              "      <td>Can a WIN32 program authenticate into Django a...</td>\n",
              "      <td>I have a web service with Django Framework.  \\...</td>\n",
              "      <td>mysql</td>\n",
              "      <td>python</td>\n",
              "      <td>django</td>\n",
              "      <td>windows</td>\n",
              "      <td>0</td>\n",
              "    </tr>\n",
              "  </tbody>\n",
              "</table>\n",
              "</div>\n",
              "      <button class=\"colab-df-convert\" onclick=\"convertToInteractive('df-6c1b42d8-bdfa-4108-bf60-3cbf0e51415d')\"\n",
              "              title=\"Convert this dataframe to an interactive table.\"\n",
              "              style=\"display:none;\">\n",
              "        \n",
              "  <svg xmlns=\"http://www.w3.org/2000/svg\" height=\"24px\"viewBox=\"0 0 24 24\"\n",
              "       width=\"24px\">\n",
              "    <path d=\"M0 0h24v24H0V0z\" fill=\"none\"/>\n",
              "    <path d=\"M18.56 5.44l.94 2.06.94-2.06 2.06-.94-2.06-.94-.94-2.06-.94 2.06-2.06.94zm-11 1L8.5 8.5l.94-2.06 2.06-.94-2.06-.94L8.5 2.5l-.94 2.06-2.06.94zm10 10l.94 2.06.94-2.06 2.06-.94-2.06-.94-.94-2.06-.94 2.06-2.06.94z\"/><path d=\"M17.41 7.96l-1.37-1.37c-.4-.4-.92-.59-1.43-.59-.52 0-1.04.2-1.43.59L10.3 9.45l-7.72 7.72c-.78.78-.78 2.05 0 2.83L4 21.41c.39.39.9.59 1.41.59.51 0 1.02-.2 1.41-.59l7.78-7.78 2.81-2.81c.8-.78.8-2.07 0-2.86zM5.41 20L4 18.59l7.72-7.72 1.47 1.35L5.41 20z\"/>\n",
              "  </svg>\n",
              "      </button>\n",
              "      \n",
              "  <style>\n",
              "    .colab-df-container {\n",
              "      display:flex;\n",
              "      flex-wrap:wrap;\n",
              "      gap: 12px;\n",
              "    }\n",
              "\n",
              "    .colab-df-convert {\n",
              "      background-color: #E8F0FE;\n",
              "      border: none;\n",
              "      border-radius: 50%;\n",
              "      cursor: pointer;\n",
              "      display: none;\n",
              "      fill: #1967D2;\n",
              "      height: 32px;\n",
              "      padding: 0 0 0 0;\n",
              "      width: 32px;\n",
              "    }\n",
              "\n",
              "    .colab-df-convert:hover {\n",
              "      background-color: #E2EBFA;\n",
              "      box-shadow: 0px 1px 2px rgba(60, 64, 67, 0.3), 0px 1px 3px 1px rgba(60, 64, 67, 0.15);\n",
              "      fill: #174EA6;\n",
              "    }\n",
              "\n",
              "    [theme=dark] .colab-df-convert {\n",
              "      background-color: #3B4455;\n",
              "      fill: #D2E3FC;\n",
              "    }\n",
              "\n",
              "    [theme=dark] .colab-df-convert:hover {\n",
              "      background-color: #434B5C;\n",
              "      box-shadow: 0px 1px 3px 1px rgba(0, 0, 0, 0.15);\n",
              "      filter: drop-shadow(0px 1px 2px rgba(0, 0, 0, 0.3));\n",
              "      fill: #FFFFFF;\n",
              "    }\n",
              "  </style>\n",
              "\n",
              "      <script>\n",
              "        const buttonEl =\n",
              "          document.querySelector('#df-6c1b42d8-bdfa-4108-bf60-3cbf0e51415d button.colab-df-convert');\n",
              "        buttonEl.style.display =\n",
              "          google.colab.kernel.accessAllowed ? 'block' : 'none';\n",
              "\n",
              "        async function convertToInteractive(key) {\n",
              "          const element = document.querySelector('#df-6c1b42d8-bdfa-4108-bf60-3cbf0e51415d');\n",
              "          const dataTable =\n",
              "            await google.colab.kernel.invokeFunction('convertToInteractive',\n",
              "                                                     [key], {});\n",
              "          if (!dataTable) return;\n",
              "\n",
              "          const docLinkHtml = 'Like what you see? Visit the ' +\n",
              "            '<a target=\"_blank\" href=https://colab.research.google.com/notebooks/data_table.ipynb>data table notebook</a>'\n",
              "            + ' to learn more about interactive tables.';\n",
              "          element.innerHTML = '';\n",
              "          dataTable['output_type'] = 'display_data';\n",
              "          await google.colab.output.renderOutput(dataTable, element);\n",
              "          const docLink = document.createElement('div');\n",
              "          docLink.innerHTML = docLinkHtml;\n",
              "          element.appendChild(docLink);\n",
              "        }\n",
              "      </script>\n",
              "    </div>\n",
              "  </div>\n",
              "  "
            ],
            "text/plain": [
              "             Qid         PostDateTime  ...          OtherSubject  Target\n",
              "86850     715209  07/26/2010 06:57:13  ...                   NaN       0\n",
              "429363    859824  10/04/2010 12:16:52  ...                  line       0\n",
              "433798   1137331  01/31/2011 07:11:57  ...                   NaN       0\n",
              "513579    625901  06/09/2010 06:08:33  ...                   NaN       0\n",
              "704227   1360711  04/11/2011 15:42:12  ...                   NaN       0\n",
              "719876    866147  10/06/2010 22:58:46  ...                   NaN       0\n",
              "891206   1280604  03/18/2011 00:47:08  ...             integrity       0\n",
              "1001518  1328252  04/01/2011 10:44:11  ...                   NaN       0\n",
              "1024519   874702  10/11/2010 15:13:43  ...                openmq       0\n",
              "1042854  1344135  04/06/2011 12:44:57  ...                   NaN       0\n",
              "1049164   367587  01/03/2010 14:07:53  ...                   NaN       0\n",
              "1056512   534927  04/18/2010 13:45:51  ...                   NaN       0\n",
              "1067741  1078721  01/09/2011 22:51:57  ...                   NaN       0\n",
              "1135636  1479316  05/16/2011 10:22:26  ...                   NaN       0\n",
              "1199464   569920  05/06/2010 23:17:40  ...                   NaN       0\n",
              "1201464  2375174  01/10/2012 22:54:17  ...                   NaN       0\n",
              "1216430   737695  08/05/2010 12:24:11  ...                   NaN       0\n",
              "1293434   959924  11/18/2010 11:21:52  ...                   NaN       0\n",
              "1314741   803465  09/06/2010 17:08:46  ...                   NaN       0\n",
              "1329931   129517  05/12/2009 12:37:00  ...                python       0\n",
              "1363745   669513  07/02/2010 09:29:52  ...  software-engineering       0\n",
              "1374333  1274459  03/16/2011 12:14:47  ...                   NaN       0\n",
              "1377265   178293  07/12/2009 16:05:56  ...                   NaN       0\n",
              "1412609  1023494  12/14/2010 20:45:37  ...                   NaN       0\n",
              "1450626  1180664  02/14/2011 23:07:33  ...                   NaN       0\n",
              "1476522   810032  09/09/2010 12:08:39  ...                   NaN       0\n",
              "1501681  1228463  03/02/2011 06:48:37  ...                   NaN       0\n",
              "1586155  1006134  12/07/2010 20:41:02  ...               version       0\n",
              "1592212   550254  04/27/2010 07:33:13  ...                   NaN       0\n",
              "1605855   435529  10/26/2009 15:16:43  ...                   NaN       0\n",
              "1626224   805564  09/07/2010 16:47:48  ...                   NaN       0\n",
              "1659701  1203961  02/22/2011 13:29:04  ...                 roles       0\n",
              "1663437   262478  10/07/2009 02:00:40  ...               windows       0\n",
              "\n",
              "[33 rows x 12 columns]"
            ]
          },
          "metadata": {},
          "execution_count": 8
        }
      ],
      "source": [
        "duplicate = train_df[train_df.duplicated(['Heading','MainText'])]\n",
        "  \n",
        "print(\"Duplicate Rows :\")\n",
        "  \n",
        "# Print the resultant Dataframe\n",
        "duplicate"
      ]
    },
    {
      "cell_type": "code",
      "execution_count": null,
      "metadata": {
        "colab": {
          "base_uri": "https://localhost:8080/"
        },
        "id": "RKUJUbyzAtOd",
        "outputId": "c1b6009d-4812-473b-ecf8-8c8aec81bc9a"
      },
      "outputs": [
        {
          "data": {
            "text/plain": [
              "(33, 12)"
            ]
          },
          "execution_count": 9,
          "metadata": {},
          "output_type": "execute_result"
        }
      ],
      "source": [
        "duplicate.shape"
      ]
    },
    {
      "cell_type": "code",
      "execution_count": null,
      "metadata": {
        "colab": {
          "base_uri": "https://localhost:8080/"
        },
        "id": "ub6nn-KWAFL6",
        "outputId": "f9c8cab3-0d6f-4d7b-bf8c-9e57b59a0986"
      },
      "outputs": [
        {
          "data": {
            "text/plain": [
              "(1685264, 12)"
            ]
          },
          "execution_count": 10,
          "metadata": {},
          "output_type": "execute_result"
        }
      ],
      "source": [
        "train_df.shape"
      ]
    },
    {
      "cell_type": "code",
      "execution_count": null,
      "metadata": {
        "colab": {
          "base_uri": "https://localhost:8080/"
        },
        "id": "jVX6ylfz8282",
        "outputId": "8877d8cb-2f71-45e5-b3aa-22a5104530f5"
      },
      "outputs": [
        {
          "output_type": "execute_result",
          "data": {
            "text/plain": [
              "(1685231, 12)"
            ]
          },
          "metadata": {},
          "execution_count": 9
        }
      ],
      "source": [
        "train_df=train_df.drop_duplicates(subset={'Heading','MainText'},keep ='first', inplace = False)\n",
        "train_df.shape\n",
        "\n",
        "\n",
        "\n",
        "\n",
        "#### this is the shape of  the train data after dropping the duplicates."
      ]
    },
    {
      "cell_type": "code",
      "execution_count": null,
      "metadata": {
        "colab": {
          "base_uri": "https://localhost:8080/"
        },
        "id": "MG59pohYAQsz",
        "outputId": "d30def48-a50e-433a-dc03-2fea87e2ea8f"
      },
      "outputs": [
        {
          "data": {
            "text/plain": [
              "(1685264, 11)"
            ]
          },
          "execution_count": 21,
          "metadata": {},
          "output_type": "execute_result"
        }
      ],
      "source": [
        "test_df.shape"
      ]
    },
    {
      "cell_type": "code",
      "execution_count": null,
      "metadata": {
        "colab": {
          "base_uri": "https://localhost:8080/"
        },
        "id": "Sl59gZgJAiiL",
        "outputId": "c06c229a-ffa7-4558-8d13-3b326472222c"
      },
      "outputs": [
        {
          "data": {
            "text/plain": [
              "(1685240, 11)"
            ]
          },
          "execution_count": 21,
          "metadata": {},
          "output_type": "execute_result"
        }
      ],
      "source": [
        "# test_df=test_df.drop_duplicates(subset={'Heading','MainText'},keep ='first', inplace = False)\n",
        "# test_df.shape\n",
        "\n",
        "\n",
        "\n",
        "\n",
        "\n",
        "######## This is the shape of test dataset after removing the duplicate \n"
      ]
    },
    {
      "cell_type": "code",
      "execution_count": null,
      "metadata": {
        "colab": {
          "base_uri": "https://localhost:8080/",
          "height": 1000
        },
        "id": "b2TSmzBDBIpe",
        "outputId": "caf799e7-5e5d-4008-be80-008ba8e8439c"
      },
      "outputs": [
        {
          "output_type": "execute_result",
          "data": {
            "text/html": [
              "\n",
              "  <div id=\"df-41d7819b-63ce-41c6-bfa6-3ef14a7ec9e9\">\n",
              "    <div class=\"colab-df-container\">\n",
              "      <div>\n",
              "<style scoped>\n",
              "    .dataframe tbody tr th:only-of-type {\n",
              "        vertical-align: middle;\n",
              "    }\n",
              "\n",
              "    .dataframe tbody tr th {\n",
              "        vertical-align: top;\n",
              "    }\n",
              "\n",
              "    .dataframe thead th {\n",
              "        text-align: right;\n",
              "    }\n",
              "</style>\n",
              "<table border=\"1\" class=\"dataframe\">\n",
              "  <thead>\n",
              "    <tr style=\"text-align: right;\">\n",
              "      <th></th>\n",
              "      <th>Qid</th>\n",
              "      <th>PostDateTime</th>\n",
              "      <th>WhenAccountMade</th>\n",
              "      <th>Karma</th>\n",
              "      <th>NumAnswers</th>\n",
              "      <th>Heading</th>\n",
              "      <th>MainText</th>\n",
              "      <th>PrimarySubject</th>\n",
              "      <th>SecondarySubject</th>\n",
              "      <th>TertiarySubject</th>\n",
              "      <th>OtherSubject</th>\n",
              "      <th>Target</th>\n",
              "    </tr>\n",
              "  </thead>\n",
              "  <tbody>\n",
              "    <tr>\n",
              "      <th>246250</th>\n",
              "      <td>205075</td>\n",
              "      <td>08/10/2009 16:46:41</td>\n",
              "      <td>08/10/2009 13:58:09</td>\n",
              "      <td>6</td>\n",
              "      <td>0</td>\n",
              "      <td>Getting the selector from a method directly? N...</td>\n",
              "      <td>Is it possible?</td>\n",
              "      <td>objective-c-runtime</td>\n",
              "      <td>NaN</td>\n",
              "      <td>NaN</td>\n",
              "      <td>NaN</td>\n",
              "      <td>0</td>\n",
              "    </tr>\n",
              "    <tr>\n",
              "      <th>330753</th>\n",
              "      <td>1472055</td>\n",
              "      <td>05/13/2011 11:48:34</td>\n",
              "      <td>05/13/2011 11:48:34</td>\n",
              "      <td>1</td>\n",
              "      <td>0</td>\n",
              "      <td>Is there a way to get a movie clip to identify...</td>\n",
              "      <td>Basically, I'm making a very simple turn based...</td>\n",
              "      <td>flash</td>\n",
              "      <td>movieclip</td>\n",
              "      <td>actionscript-2</td>\n",
              "      <td>rpg</td>\n",
              "      <td>0</td>\n",
              "    </tr>\n",
              "    <tr>\n",
              "      <th>356114</th>\n",
              "      <td>743463</td>\n",
              "      <td>08/08/2010 21:54:45</td>\n",
              "      <td>07/19/2010 18:52:56</td>\n",
              "      <td>3</td>\n",
              "      <td>2</td>\n",
              "      <td>unrecognized selector sent to instance... Sour...</td>\n",
              "      <td>I'm going crazy with this my little app... Ple...</td>\n",
              "      <td>iphone</td>\n",
              "      <td>xcode</td>\n",
              "      <td>NaN</td>\n",
              "      <td>NaN</td>\n",
              "      <td>0</td>\n",
              "    </tr>\n",
              "    <tr>\n",
              "      <th>381441</th>\n",
              "      <td>837970</td>\n",
              "      <td>09/23/2010 07:13:30</td>\n",
              "      <td>12/24/2009 04:19:24</td>\n",
              "      <td>725</td>\n",
              "      <td>22</td>\n",
              "      <td>In vim, what's the difference between remap, n...</td>\n",
              "      <td>Question says it all.</td>\n",
              "      <td>vim</td>\n",
              "      <td>customization</td>\n",
              "      <td>vimrc</td>\n",
              "      <td>NaN</td>\n",
              "      <td>0</td>\n",
              "    </tr>\n",
              "    <tr>\n",
              "      <th>401495</th>\n",
              "      <td>282891</td>\n",
              "      <td>10/26/2009 12:19:26</td>\n",
              "      <td>09/26/2009 02:25:54</td>\n",
              "      <td>196</td>\n",
              "      <td>1</td>\n",
              "      <td>How to convert HTML file to word?</td>\n",
              "      <td>Is it possible?</td>\n",
              "      <td>html</td>\n",
              "      <td>word</td>\n",
              "      <td>NaN</td>\n",
              "      <td>NaN</td>\n",
              "      <td>0</td>\n",
              "    </tr>\n",
              "    <tr>\n",
              "      <th>...</th>\n",
              "      <td>...</td>\n",
              "      <td>...</td>\n",
              "      <td>...</td>\n",
              "      <td>...</td>\n",
              "      <td>...</td>\n",
              "      <td>...</td>\n",
              "      <td>...</td>\n",
              "      <td>...</td>\n",
              "      <td>...</td>\n",
              "      <td>...</td>\n",
              "      <td>...</td>\n",
              "      <td>...</td>\n",
              "    </tr>\n",
              "    <tr>\n",
              "      <th>1663954</th>\n",
              "      <td>107795</td>\n",
              "      <td>04/08/2009 19:00:26</td>\n",
              "      <td>02/09/2009 10:01:18</td>\n",
              "      <td>18</td>\n",
              "      <td>1</td>\n",
              "      <td>Master Form concept?</td>\n",
              "      <td>Like Master pages in ASP.NET, do we have any s...</td>\n",
              "      <td>master</td>\n",
              "      <td>pages</td>\n",
              "      <td>NaN</td>\n",
              "      <td>NaN</td>\n",
              "      <td>0</td>\n",
              "    </tr>\n",
              "    <tr>\n",
              "      <th>1672419</th>\n",
              "      <td>1000436</td>\n",
              "      <td>12/05/2010 19:46:17</td>\n",
              "      <td>03/29/2009 18:16:33</td>\n",
              "      <td>851</td>\n",
              "      <td>6</td>\n",
              "      <td>what's the diff: WS_EX_RIGHTSCROLLBAR v.s. WS_...</td>\n",
              "      <td>see the question title.</td>\n",
              "      <td>windows</td>\n",
              "      <td>gui</td>\n",
              "      <td>winapi</td>\n",
              "      <td>NaN</td>\n",
              "      <td>0</td>\n",
              "    </tr>\n",
              "    <tr>\n",
              "      <th>1674513</th>\n",
              "      <td>932644</td>\n",
              "      <td>11/06/2010 23:31:27</td>\n",
              "      <td>11/02/2010 21:58:27</td>\n",
              "      <td>193</td>\n",
              "      <td>11</td>\n",
              "      <td>Iphone simulator without iphone SDK?</td>\n",
              "      <td>Is it possible?</td>\n",
              "      <td>iphone</td>\n",
              "      <td>NaN</td>\n",
              "      <td>NaN</td>\n",
              "      <td>NaN</td>\n",
              "      <td>0</td>\n",
              "    </tr>\n",
              "    <tr>\n",
              "      <th>1677362</th>\n",
              "      <td>615291</td>\n",
              "      <td>06/03/2010 08:43:51</td>\n",
              "      <td>06/03/2010 07:59:26</td>\n",
              "      <td>1</td>\n",
              "      <td>0</td>\n",
              "      <td>How to filter the drop down list by using othe...</td>\n",
              "      <td>everyone, I encounter a problem when I try to ...</td>\n",
              "      <td>asp.net-mvc</td>\n",
              "      <td>NaN</td>\n",
              "      <td>NaN</td>\n",
              "      <td>NaN</td>\n",
              "      <td>0</td>\n",
              "    </tr>\n",
              "    <tr>\n",
              "      <th>1682719</th>\n",
              "      <td>740525</td>\n",
              "      <td>08/06/2010 15:13:17</td>\n",
              "      <td>08/06/2010 15:13:17</td>\n",
              "      <td>1</td>\n",
              "      <td>0</td>\n",
              "      <td>How to restart a gif animation on a new page?</td>\n",
              "      <td>I made a GIF animation running for a few secon...</td>\n",
              "      <td>javascript</td>\n",
              "      <td>animation</td>\n",
              "      <td>gif</td>\n",
              "      <td>NaN</td>\n",
              "      <td>0</td>\n",
              "    </tr>\n",
              "  </tbody>\n",
              "</table>\n",
              "<p>61 rows × 12 columns</p>\n",
              "</div>\n",
              "      <button class=\"colab-df-convert\" onclick=\"convertToInteractive('df-41d7819b-63ce-41c6-bfa6-3ef14a7ec9e9')\"\n",
              "              title=\"Convert this dataframe to an interactive table.\"\n",
              "              style=\"display:none;\">\n",
              "        \n",
              "  <svg xmlns=\"http://www.w3.org/2000/svg\" height=\"24px\"viewBox=\"0 0 24 24\"\n",
              "       width=\"24px\">\n",
              "    <path d=\"M0 0h24v24H0V0z\" fill=\"none\"/>\n",
              "    <path d=\"M18.56 5.44l.94 2.06.94-2.06 2.06-.94-2.06-.94-.94-2.06-.94 2.06-2.06.94zm-11 1L8.5 8.5l.94-2.06 2.06-.94-2.06-.94L8.5 2.5l-.94 2.06-2.06.94zm10 10l.94 2.06.94-2.06 2.06-.94-2.06-.94-.94-2.06-.94 2.06-2.06.94z\"/><path d=\"M17.41 7.96l-1.37-1.37c-.4-.4-.92-.59-1.43-.59-.52 0-1.04.2-1.43.59L10.3 9.45l-7.72 7.72c-.78.78-.78 2.05 0 2.83L4 21.41c.39.39.9.59 1.41.59.51 0 1.02-.2 1.41-.59l7.78-7.78 2.81-2.81c.8-.78.8-2.07 0-2.86zM5.41 20L4 18.59l7.72-7.72 1.47 1.35L5.41 20z\"/>\n",
              "  </svg>\n",
              "      </button>\n",
              "      \n",
              "  <style>\n",
              "    .colab-df-container {\n",
              "      display:flex;\n",
              "      flex-wrap:wrap;\n",
              "      gap: 12px;\n",
              "    }\n",
              "\n",
              "    .colab-df-convert {\n",
              "      background-color: #E8F0FE;\n",
              "      border: none;\n",
              "      border-radius: 50%;\n",
              "      cursor: pointer;\n",
              "      display: none;\n",
              "      fill: #1967D2;\n",
              "      height: 32px;\n",
              "      padding: 0 0 0 0;\n",
              "      width: 32px;\n",
              "    }\n",
              "\n",
              "    .colab-df-convert:hover {\n",
              "      background-color: #E2EBFA;\n",
              "      box-shadow: 0px 1px 2px rgba(60, 64, 67, 0.3), 0px 1px 3px 1px rgba(60, 64, 67, 0.15);\n",
              "      fill: #174EA6;\n",
              "    }\n",
              "\n",
              "    [theme=dark] .colab-df-convert {\n",
              "      background-color: #3B4455;\n",
              "      fill: #D2E3FC;\n",
              "    }\n",
              "\n",
              "    [theme=dark] .colab-df-convert:hover {\n",
              "      background-color: #434B5C;\n",
              "      box-shadow: 0px 1px 3px 1px rgba(0, 0, 0, 0.15);\n",
              "      filter: drop-shadow(0px 1px 2px rgba(0, 0, 0, 0.3));\n",
              "      fill: #FFFFFF;\n",
              "    }\n",
              "  </style>\n",
              "\n",
              "      <script>\n",
              "        const buttonEl =\n",
              "          document.querySelector('#df-41d7819b-63ce-41c6-bfa6-3ef14a7ec9e9 button.colab-df-convert');\n",
              "        buttonEl.style.display =\n",
              "          google.colab.kernel.accessAllowed ? 'block' : 'none';\n",
              "\n",
              "        async function convertToInteractive(key) {\n",
              "          const element = document.querySelector('#df-41d7819b-63ce-41c6-bfa6-3ef14a7ec9e9');\n",
              "          const dataTable =\n",
              "            await google.colab.kernel.invokeFunction('convertToInteractive',\n",
              "                                                     [key], {});\n",
              "          if (!dataTable) return;\n",
              "\n",
              "          const docLinkHtml = 'Like what you see? Visit the ' +\n",
              "            '<a target=\"_blank\" href=https://colab.research.google.com/notebooks/data_table.ipynb>data table notebook</a>'\n",
              "            + ' to learn more about interactive tables.';\n",
              "          element.innerHTML = '';\n",
              "          dataTable['output_type'] = 'display_data';\n",
              "          await google.colab.output.renderOutput(dataTable, element);\n",
              "          const docLink = document.createElement('div');\n",
              "          docLink.innerHTML = docLinkHtml;\n",
              "          element.appendChild(docLink);\n",
              "        }\n",
              "      </script>\n",
              "    </div>\n",
              "  </div>\n",
              "  "
            ],
            "text/plain": [
              "             Qid         PostDateTime  ... OtherSubject  Target\n",
              "246250    205075  08/10/2009 16:46:41  ...          NaN       0\n",
              "330753   1472055  05/13/2011 11:48:34  ...          rpg       0\n",
              "356114    743463  08/08/2010 21:54:45  ...          NaN       0\n",
              "381441    837970  09/23/2010 07:13:30  ...          NaN       0\n",
              "401495    282891  10/26/2009 12:19:26  ...          NaN       0\n",
              "...          ...                  ...  ...          ...     ...\n",
              "1663954   107795  04/08/2009 19:00:26  ...          NaN       0\n",
              "1672419  1000436  12/05/2010 19:46:17  ...          NaN       0\n",
              "1674513   932644  11/06/2010 23:31:27  ...          NaN       0\n",
              "1677362   615291  06/03/2010 08:43:51  ...          NaN       0\n",
              "1682719   740525  08/06/2010 15:13:17  ...          NaN       0\n",
              "\n",
              "[61 rows x 12 columns]"
            ]
          },
          "metadata": {},
          "execution_count": 10
        }
      ],
      "source": [
        "dup2=train_df[train_df.duplicated(['MainText'])]\n",
        "dup2\n",
        "\n",
        "\n",
        "\n",
        "\n",
        "\n",
        "\n",
        "###### for checking the duplicates in the train datasets"
      ]
    },
    {
      "cell_type": "code",
      "execution_count": null,
      "metadata": {
        "colab": {
          "base_uri": "https://localhost:8080/"
        },
        "id": "KFs1IR8qWn6_",
        "outputId": "94dfea06-980d-4439-ae65-0f2eab0bb343"
      },
      "outputs": [
        {
          "output_type": "execute_result",
          "data": {
            "text/plain": [
              "(1685170, 12)"
            ]
          },
          "metadata": {},
          "execution_count": 11
        }
      ],
      "source": [
        "train_df=train_df.drop_duplicates(subset={'MainText'},keep ='first', inplace = False)\n",
        "\n",
        "\n",
        "train_df.shape\n",
        "\n",
        "\n",
        "\n",
        "###### Now here we are updating the  train dataframe  by removing the duplicates whose MainText are same "
      ]
    },
    {
      "cell_type": "code",
      "execution_count": null,
      "metadata": {
        "colab": {
          "base_uri": "https://localhost:8080/",
          "height": 450
        },
        "id": "CHB67jWWYkJz",
        "outputId": "fd2cc5c7-54d7-45cb-b3c0-c3b5ada9b84a"
      },
      "outputs": [
        {
          "ename": "KeyboardInterrupt",
          "evalue": "ignored",
          "output_type": "error",
          "traceback": [
            "\u001b[0;31m---------------------------------------------------------------------------\u001b[0m",
            "\u001b[0;31mKeyboardInterrupt\u001b[0m                         Traceback (most recent call last)",
            "\u001b[0;32m<ipython-input-14-48bc1b132aff>\u001b[0m in \u001b[0;36m<module>\u001b[0;34m()\u001b[0m\n\u001b[0;32m----> 1\u001b[0;31m \u001b[0mtest_df\u001b[0m\u001b[0;34m=\u001b[0m\u001b[0mtest_df\u001b[0m\u001b[0;34m.\u001b[0m\u001b[0mdrop_duplicates\u001b[0m\u001b[0;34m(\u001b[0m\u001b[0msubset\u001b[0m\u001b[0;34m=\u001b[0m\u001b[0;34m{\u001b[0m\u001b[0;34m'MainText'\u001b[0m\u001b[0;34m}\u001b[0m\u001b[0;34m,\u001b[0m\u001b[0mkeep\u001b[0m \u001b[0;34m=\u001b[0m\u001b[0;34m'first'\u001b[0m\u001b[0;34m,\u001b[0m \u001b[0minplace\u001b[0m \u001b[0;34m=\u001b[0m \u001b[0;32mFalse\u001b[0m\u001b[0;34m)\u001b[0m\u001b[0;34m\u001b[0m\u001b[0;34m\u001b[0m\u001b[0m\n\u001b[0m\u001b[1;32m      2\u001b[0m \u001b[0;34m\u001b[0m\u001b[0m\n\u001b[1;32m      3\u001b[0m \u001b[0;34m\u001b[0m\u001b[0m\n\u001b[1;32m      4\u001b[0m \u001b[0mtest_df\u001b[0m\u001b[0;34m.\u001b[0m\u001b[0mshape\u001b[0m\u001b[0;34m\u001b[0m\u001b[0;34m\u001b[0m\u001b[0m\n\u001b[1;32m      5\u001b[0m \u001b[0;34m\u001b[0m\u001b[0m\n",
            "\u001b[0;32m/usr/local/lib/python3.7/dist-packages/pandas/core/frame.py\u001b[0m in \u001b[0;36mdrop_duplicates\u001b[0;34m(self, subset, keep, inplace, ignore_index)\u001b[0m\n\u001b[1;32m   5110\u001b[0m \u001b[0;34m\u001b[0m\u001b[0m\n\u001b[1;32m   5111\u001b[0m         \u001b[0minplace\u001b[0m \u001b[0;34m=\u001b[0m \u001b[0mvalidate_bool_kwarg\u001b[0m\u001b[0;34m(\u001b[0m\u001b[0minplace\u001b[0m\u001b[0;34m,\u001b[0m \u001b[0;34m\"inplace\"\u001b[0m\u001b[0;34m)\u001b[0m\u001b[0;34m\u001b[0m\u001b[0;34m\u001b[0m\u001b[0m\n\u001b[0;32m-> 5112\u001b[0;31m         \u001b[0mduplicated\u001b[0m \u001b[0;34m=\u001b[0m \u001b[0mself\u001b[0m\u001b[0;34m.\u001b[0m\u001b[0mduplicated\u001b[0m\u001b[0;34m(\u001b[0m\u001b[0msubset\u001b[0m\u001b[0;34m,\u001b[0m \u001b[0mkeep\u001b[0m\u001b[0;34m=\u001b[0m\u001b[0mkeep\u001b[0m\u001b[0;34m)\u001b[0m\u001b[0;34m\u001b[0m\u001b[0;34m\u001b[0m\u001b[0m\n\u001b[0m\u001b[1;32m   5113\u001b[0m \u001b[0;34m\u001b[0m\u001b[0m\n\u001b[1;32m   5114\u001b[0m         \u001b[0mresult\u001b[0m \u001b[0;34m=\u001b[0m \u001b[0mself\u001b[0m\u001b[0;34m[\u001b[0m\u001b[0;34m-\u001b[0m\u001b[0mduplicated\u001b[0m\u001b[0;34m]\u001b[0m\u001b[0;34m\u001b[0m\u001b[0;34m\u001b[0m\u001b[0m\n",
            "\u001b[0;32m/usr/local/lib/python3.7/dist-packages/pandas/core/frame.py\u001b[0m in \u001b[0;36mduplicated\u001b[0;34m(self, subset, keep)\u001b[0m\n\u001b[1;32m   5249\u001b[0m \u001b[0;34m\u001b[0m\u001b[0m\n\u001b[1;32m   5250\u001b[0m         \u001b[0mvals\u001b[0m \u001b[0;34m=\u001b[0m \u001b[0;34m(\u001b[0m\u001b[0mcol\u001b[0m\u001b[0;34m.\u001b[0m\u001b[0mvalues\u001b[0m \u001b[0;32mfor\u001b[0m \u001b[0mname\u001b[0m\u001b[0;34m,\u001b[0m \u001b[0mcol\u001b[0m \u001b[0;32min\u001b[0m \u001b[0mself\u001b[0m\u001b[0;34m.\u001b[0m\u001b[0mitems\u001b[0m\u001b[0;34m(\u001b[0m\u001b[0;34m)\u001b[0m \u001b[0;32mif\u001b[0m \u001b[0mname\u001b[0m \u001b[0;32min\u001b[0m \u001b[0msubset\u001b[0m\u001b[0;34m)\u001b[0m\u001b[0;34m\u001b[0m\u001b[0;34m\u001b[0m\u001b[0m\n\u001b[0;32m-> 5251\u001b[0;31m         \u001b[0mlabels\u001b[0m\u001b[0;34m,\u001b[0m \u001b[0mshape\u001b[0m \u001b[0;34m=\u001b[0m \u001b[0mmap\u001b[0m\u001b[0;34m(\u001b[0m\u001b[0mlist\u001b[0m\u001b[0;34m,\u001b[0m \u001b[0mzip\u001b[0m\u001b[0;34m(\u001b[0m\u001b[0;34m*\u001b[0m\u001b[0mmap\u001b[0m\u001b[0;34m(\u001b[0m\u001b[0mf\u001b[0m\u001b[0;34m,\u001b[0m \u001b[0mvals\u001b[0m\u001b[0;34m)\u001b[0m\u001b[0;34m)\u001b[0m\u001b[0;34m)\u001b[0m\u001b[0;34m\u001b[0m\u001b[0;34m\u001b[0m\u001b[0m\n\u001b[0m\u001b[1;32m   5252\u001b[0m \u001b[0;34m\u001b[0m\u001b[0m\n\u001b[1;32m   5253\u001b[0m         \u001b[0mids\u001b[0m \u001b[0;34m=\u001b[0m \u001b[0mget_group_index\u001b[0m\u001b[0;34m(\u001b[0m\u001b[0mlabels\u001b[0m\u001b[0;34m,\u001b[0m \u001b[0mshape\u001b[0m\u001b[0;34m,\u001b[0m \u001b[0msort\u001b[0m\u001b[0;34m=\u001b[0m\u001b[0;32mFalse\u001b[0m\u001b[0;34m,\u001b[0m \u001b[0mxnull\u001b[0m\u001b[0;34m=\u001b[0m\u001b[0;32mFalse\u001b[0m\u001b[0;34m)\u001b[0m\u001b[0;34m\u001b[0m\u001b[0;34m\u001b[0m\u001b[0m\n",
            "\u001b[0;32m/usr/local/lib/python3.7/dist-packages/pandas/core/frame.py\u001b[0m in \u001b[0;36mf\u001b[0;34m(vals)\u001b[0m\n\u001b[1;32m   5224\u001b[0m         \u001b[0;32mdef\u001b[0m \u001b[0mf\u001b[0m\u001b[0;34m(\u001b[0m\u001b[0mvals\u001b[0m\u001b[0;34m)\u001b[0m\u001b[0;34m:\u001b[0m\u001b[0;34m\u001b[0m\u001b[0;34m\u001b[0m\u001b[0m\n\u001b[1;32m   5225\u001b[0m             labels, shape = algorithms.factorize(\n\u001b[0;32m-> 5226\u001b[0;31m                 \u001b[0mvals\u001b[0m\u001b[0;34m,\u001b[0m \u001b[0msize_hint\u001b[0m\u001b[0;34m=\u001b[0m\u001b[0mmin\u001b[0m\u001b[0;34m(\u001b[0m\u001b[0mlen\u001b[0m\u001b[0;34m(\u001b[0m\u001b[0mself\u001b[0m\u001b[0;34m)\u001b[0m\u001b[0;34m,\u001b[0m \u001b[0m_SIZE_HINT_LIMIT\u001b[0m\u001b[0;34m)\u001b[0m\u001b[0;34m\u001b[0m\u001b[0;34m\u001b[0m\u001b[0m\n\u001b[0m\u001b[1;32m   5227\u001b[0m             )\n\u001b[1;32m   5228\u001b[0m             \u001b[0;32mreturn\u001b[0m \u001b[0mlabels\u001b[0m\u001b[0;34m.\u001b[0m\u001b[0mastype\u001b[0m\u001b[0;34m(\u001b[0m\u001b[0;34m\"i8\"\u001b[0m\u001b[0;34m,\u001b[0m \u001b[0mcopy\u001b[0m\u001b[0;34m=\u001b[0m\u001b[0;32mFalse\u001b[0m\u001b[0;34m)\u001b[0m\u001b[0;34m,\u001b[0m \u001b[0mlen\u001b[0m\u001b[0;34m(\u001b[0m\u001b[0mshape\u001b[0m\u001b[0;34m)\u001b[0m\u001b[0;34m\u001b[0m\u001b[0;34m\u001b[0m\u001b[0m\n",
            "\u001b[0;32m/usr/local/lib/python3.7/dist-packages/pandas/core/algorithms.py\u001b[0m in \u001b[0;36mfactorize\u001b[0;34m(values, sort, na_sentinel, size_hint)\u001b[0m\n\u001b[1;32m    700\u001b[0m \u001b[0;34m\u001b[0m\u001b[0m\n\u001b[1;32m    701\u001b[0m         codes, uniques = _factorize_array(\n\u001b[0;32m--> 702\u001b[0;31m             \u001b[0mvalues\u001b[0m\u001b[0;34m,\u001b[0m \u001b[0mna_sentinel\u001b[0m\u001b[0;34m=\u001b[0m\u001b[0mna_sentinel\u001b[0m\u001b[0;34m,\u001b[0m \u001b[0msize_hint\u001b[0m\u001b[0;34m=\u001b[0m\u001b[0msize_hint\u001b[0m\u001b[0;34m,\u001b[0m \u001b[0mna_value\u001b[0m\u001b[0;34m=\u001b[0m\u001b[0mna_value\u001b[0m\u001b[0;34m\u001b[0m\u001b[0;34m\u001b[0m\u001b[0m\n\u001b[0m\u001b[1;32m    703\u001b[0m         )\n\u001b[1;32m    704\u001b[0m \u001b[0;34m\u001b[0m\u001b[0m\n",
            "\u001b[0;32m/usr/local/lib/python3.7/dist-packages/pandas/core/algorithms.py\u001b[0m in \u001b[0;36m_factorize_array\u001b[0;34m(values, na_sentinel, size_hint, na_value, mask)\u001b[0m\n\u001b[1;32m    509\u001b[0m     \u001b[0mtable\u001b[0m \u001b[0;34m=\u001b[0m \u001b[0mhash_klass\u001b[0m\u001b[0;34m(\u001b[0m\u001b[0msize_hint\u001b[0m \u001b[0;32mor\u001b[0m \u001b[0mlen\u001b[0m\u001b[0;34m(\u001b[0m\u001b[0mvalues\u001b[0m\u001b[0;34m)\u001b[0m\u001b[0;34m)\u001b[0m\u001b[0;34m\u001b[0m\u001b[0;34m\u001b[0m\u001b[0m\n\u001b[1;32m    510\u001b[0m     uniques, codes = table.factorize(\n\u001b[0;32m--> 511\u001b[0;31m         \u001b[0mvalues\u001b[0m\u001b[0;34m,\u001b[0m \u001b[0mna_sentinel\u001b[0m\u001b[0;34m=\u001b[0m\u001b[0mna_sentinel\u001b[0m\u001b[0;34m,\u001b[0m \u001b[0mna_value\u001b[0m\u001b[0;34m=\u001b[0m\u001b[0mna_value\u001b[0m\u001b[0;34m,\u001b[0m \u001b[0mmask\u001b[0m\u001b[0;34m=\u001b[0m\u001b[0mmask\u001b[0m\u001b[0;34m\u001b[0m\u001b[0;34m\u001b[0m\u001b[0m\n\u001b[0m\u001b[1;32m    512\u001b[0m     )\n\u001b[1;32m    513\u001b[0m \u001b[0;34m\u001b[0m\u001b[0m\n",
            "\u001b[0;32mpandas/_libs/hashtable_class_helper.pxi\u001b[0m in \u001b[0;36mpandas._libs.hashtable.StringHashTable.factorize\u001b[0;34m()\u001b[0m\n",
            "\u001b[0;32mpandas/_libs/hashtable_class_helper.pxi\u001b[0m in \u001b[0;36mpandas._libs.hashtable.StringHashTable._unique\u001b[0;34m()\u001b[0m\n",
            "\u001b[0;32m/usr/local/lib/python3.7/dist-packages/numpy/core/_asarray.py\u001b[0m in \u001b[0;36masarray\u001b[0;34m(a, dtype, order)\u001b[0m\n\u001b[1;32m     12\u001b[0m ]\n\u001b[1;32m     13\u001b[0m \u001b[0;34m\u001b[0m\u001b[0m\n\u001b[0;32m---> 14\u001b[0;31m \u001b[0;34m@\u001b[0m\u001b[0mset_module\u001b[0m\u001b[0;34m(\u001b[0m\u001b[0;34m'numpy'\u001b[0m\u001b[0;34m)\u001b[0m\u001b[0;34m\u001b[0m\u001b[0;34m\u001b[0m\u001b[0m\n\u001b[0m\u001b[1;32m     15\u001b[0m \u001b[0;32mdef\u001b[0m \u001b[0masarray\u001b[0m\u001b[0;34m(\u001b[0m\u001b[0ma\u001b[0m\u001b[0;34m,\u001b[0m \u001b[0mdtype\u001b[0m\u001b[0;34m=\u001b[0m\u001b[0;32mNone\u001b[0m\u001b[0;34m,\u001b[0m \u001b[0morder\u001b[0m\u001b[0;34m=\u001b[0m\u001b[0;32mNone\u001b[0m\u001b[0;34m)\u001b[0m\u001b[0;34m:\u001b[0m\u001b[0;34m\u001b[0m\u001b[0;34m\u001b[0m\u001b[0m\n\u001b[1;32m     16\u001b[0m     \"\"\"Convert the input to an array.\n",
            "\u001b[0;31mKeyboardInterrupt\u001b[0m: "
          ]
        }
      ],
      "source": [
        "test_df=test_df.drop_duplicates(subset={'MainText'},keep ='first', inplace = False)\n",
        "\n",
        "\n",
        "test_df.shape\n",
        "\n",
        "\n",
        "\n",
        "###### Now here we are updating the  test dataframe  by removing the duplicates whose MainText are same \n",
        "\n",
        "\n",
        "\n"
      ]
    },
    {
      "cell_type": "code",
      "execution_count": null,
      "metadata": {
        "colab": {
          "base_uri": "https://localhost:8080/"
        },
        "id": "ANisPLr1ZKZH",
        "outputId": "975b84ab-dd44-41be-a464-08209f58fea8"
      },
      "outputs": [
        {
          "output_type": "execute_result",
          "data": {
            "text/plain": [
              "Qid                       0\n",
              "PostDateTime              0\n",
              "WhenAccountMade           0\n",
              "Karma                     0\n",
              "NumAnswers                0\n",
              "Heading                   0\n",
              "MainText                  1\n",
              "PrimarySubject           78\n",
              "SecondarySubject     262560\n",
              "TertiarySubject      694971\n",
              "OtherSubject        1163981\n",
              "Target                    0\n",
              "dtype: int64"
            ]
          },
          "metadata": {},
          "execution_count": 12
        }
      ],
      "source": [
        "train_df.isna().sum()"
      ]
    },
    {
      "cell_type": "code",
      "execution_count": null,
      "metadata": {
        "id": "eSSDecn7ZKVa"
      },
      "outputs": [],
      "source": [
        "train_df.dropna(subset=['MainText'] ,inplace = True)\n",
        "\n"
      ]
    },
    {
      "cell_type": "code",
      "execution_count": null,
      "metadata": {
        "colab": {
          "base_uri": "https://localhost:8080/"
        },
        "id": "59MOS3wVdBvK",
        "outputId": "af3f662c-6260-489d-c520-1f7abfbbb74f"
      },
      "outputs": [
        {
          "output_type": "execute_result",
          "data": {
            "text/plain": [
              "(1685169, 12)"
            ]
          },
          "metadata": {},
          "execution_count": 14
        }
      ],
      "source": [
        "train_df.shape"
      ]
    },
    {
      "cell_type": "code",
      "execution_count": null,
      "metadata": {
        "colab": {
          "base_uri": "https://localhost:8080/"
        },
        "id": "558qmNs8ZKK4",
        "outputId": "cf3b55a9-ad13-438b-8e30-fbfdc8d16b52"
      },
      "outputs": [
        {
          "output_type": "execute_result",
          "data": {
            "text/plain": [
              "Qid                       0\n",
              "PostDateTime              0\n",
              "WhenAccountMade           0\n",
              "Karma                     0\n",
              "NumAnswers                0\n",
              "Heading                   0\n",
              "MainText                  0\n",
              "PrimarySubject           82\n",
              "SecondarySubject     262596\n",
              "TertiarySubject      694181\n",
              "OtherSubject        1164434\n",
              "dtype: int64"
            ]
          },
          "metadata": {},
          "execution_count": 15
        }
      ],
      "source": [
        "test_df.isna().sum()"
      ]
    },
    {
      "cell_type": "code",
      "execution_count": null,
      "metadata": {
        "id": "MDpqQ9gJac4f"
      },
      "outputs": [],
      "source": [
        "train_df.dropna(subset=['PrimarySubject'], inplace = True)   #### dropping the rows which rae having null values in their primary subject\n",
        "\n"
      ]
    },
    {
      "cell_type": "code",
      "execution_count": null,
      "metadata": {
        "colab": {
          "base_uri": "https://localhost:8080/"
        },
        "id": "ceqbOV03bq0_",
        "outputId": "fbd9b8b8-02e0-48c5-bd51-8109a1d470c0"
      },
      "outputs": [
        {
          "data": {
            "text/plain": [
              "(1685091, 12)"
            ]
          },
          "execution_count": 26,
          "metadata": {},
          "output_type": "execute_result"
        }
      ],
      "source": [
        "train_df.shape"
      ]
    },
    {
      "cell_type": "code",
      "execution_count": null,
      "metadata": {
        "colab": {
          "base_uri": "https://localhost:8080/"
        },
        "id": "63UIbC6Tac1B",
        "outputId": "7b1b2453-dbdc-4f96-dd63-267266358f85"
      },
      "outputs": [
        {
          "output_type": "execute_result",
          "data": {
            "text/plain": [
              "Qid                       0\n",
              "PostDateTime              0\n",
              "WhenAccountMade           0\n",
              "Karma                     0\n",
              "NumAnswers                0\n",
              "Heading                   0\n",
              "MainText                  0\n",
              "PrimarySubject            0\n",
              "SecondarySubject     262550\n",
              "TertiarySubject      694942\n",
              "OtherSubject        1163928\n",
              "Target                    0\n",
              "dtype: int64"
            ]
          },
          "metadata": {},
          "execution_count": 17
        }
      ],
      "source": [
        "train_df.isna().sum()"
      ]
    },
    {
      "cell_type": "code",
      "execution_count": null,
      "metadata": {
        "id": "I4oFp_Soacs-"
      },
      "outputs": [],
      "source": [
        "test_df.dropna(subset=['PrimarySubject'], inplace = True)"
      ]
    },
    {
      "cell_type": "code",
      "execution_count": null,
      "metadata": {
        "colab": {
          "base_uri": "https://localhost:8080/"
        },
        "id": "PKgo5uCUehiw",
        "outputId": "5f43816d-147f-4c24-92d8-836e1fc232f5"
      },
      "outputs": [
        {
          "data": {
            "text/plain": [
              "(1685264, 11)"
            ]
          },
          "execution_count": 16,
          "metadata": {},
          "output_type": "execute_result"
        }
      ],
      "source": [
        "test_df.shape"
      ]
    },
    {
      "cell_type": "code",
      "execution_count": null,
      "metadata": {
        "id": "hivg8zEeeuHe"
      },
      "outputs": [],
      "source": [
        "train_df['SecondarySubject'].fillna(\"Not Available\",inplace=True)"
      ]
    },
    {
      "cell_type": "code",
      "execution_count": null,
      "metadata": {
        "id": "128AEzb9euE8"
      },
      "outputs": [],
      "source": [
        "train_df['TertiarySubject'].fillna(\"Not Available\",inplace=True)"
      ]
    },
    {
      "cell_type": "code",
      "execution_count": null,
      "metadata": {
        "id": "l9QUx0dRet5v"
      },
      "outputs": [],
      "source": [
        "train_df['OtherSubject'].fillna(\"Not Available\",inplace=True)"
      ]
    },
    {
      "cell_type": "code",
      "execution_count": null,
      "metadata": {
        "colab": {
          "base_uri": "https://localhost:8080/"
        },
        "id": "zLfYguT4et3H",
        "outputId": "e77d0ec3-2467-4919-bbbd-36b7605a2ce7"
      },
      "outputs": [
        {
          "output_type": "execute_result",
          "data": {
            "text/plain": [
              "Qid                 0\n",
              "PostDateTime        0\n",
              "WhenAccountMade     0\n",
              "Karma               0\n",
              "NumAnswers          0\n",
              "Heading             0\n",
              "MainText            0\n",
              "PrimarySubject      0\n",
              "SecondarySubject    0\n",
              "TertiarySubject     0\n",
              "OtherSubject        0\n",
              "Target              0\n",
              "dtype: int64"
            ]
          },
          "metadata": {},
          "execution_count": 21
        }
      ],
      "source": [
        "train_df.isna().sum()"
      ]
    },
    {
      "cell_type": "code",
      "execution_count": null,
      "metadata": {
        "id": "CINjAKTXetpu"
      },
      "outputs": [],
      "source": [
        "# test_df['SecondarySubject'].fillna(\"Not Available\",inplace=True)"
      ]
    },
    {
      "cell_type": "code",
      "execution_count": null,
      "metadata": {
        "id": "Y_x4mI8_g9VA"
      },
      "outputs": [],
      "source": [
        "# test_df['TertiarySubject'].fillna(\"Not Available\",inplace=True)"
      ]
    },
    {
      "cell_type": "code",
      "execution_count": null,
      "metadata": {
        "id": "1vDiKYvfg9Sz"
      },
      "outputs": [],
      "source": [
        "# test_df['OtherSubject'].fillna(\"Not Available\",inplace=True)"
      ]
    },
    {
      "cell_type": "code",
      "execution_count": null,
      "metadata": {
        "colab": {
          "base_uri": "https://localhost:8080/"
        },
        "id": "C6TqQjUCg9Q8",
        "outputId": "74a4b9dd-8d56-4658-ecc9-40a33b5dc2f0"
      },
      "outputs": [
        {
          "data": {
            "text/plain": [
              "Qid                       0\n",
              "PostDateTime              0\n",
              "WhenAccountMade           0\n",
              "Karma                     0\n",
              "NumAnswers                0\n",
              "Heading                   0\n",
              "MainText                  0\n",
              "PrimarySubject           82\n",
              "SecondarySubject     262596\n",
              "TertiarySubject      694181\n",
              "OtherSubject        1164434\n",
              "dtype: int64"
            ]
          },
          "execution_count": 29,
          "metadata": {},
          "output_type": "execute_result"
        }
      ],
      "source": [
        "test_df.isna().sum()"
      ]
    },
    {
      "cell_type": "code",
      "execution_count": null,
      "metadata": {
        "colab": {
          "base_uri": "https://localhost:8080/",
          "height": 678
        },
        "id": "OuolrHiQg9O4",
        "outputId": "994227a8-8bf2-45ad-fdaf-8b7018c71bb9"
      },
      "outputs": [
        {
          "data": {
            "text/html": [
              "<div>\n",
              "<style scoped>\n",
              "    .dataframe tbody tr th:only-of-type {\n",
              "        vertical-align: middle;\n",
              "    }\n",
              "\n",
              "    .dataframe tbody tr th {\n",
              "        vertical-align: top;\n",
              "    }\n",
              "\n",
              "    .dataframe thead th {\n",
              "        text-align: right;\n",
              "    }\n",
              "</style>\n",
              "<table border=\"1\" class=\"dataframe\">\n",
              "  <thead>\n",
              "    <tr style=\"text-align: right;\">\n",
              "      <th></th>\n",
              "      <th>Qid</th>\n",
              "      <th>PostDateTime</th>\n",
              "      <th>WhenAccountMade</th>\n",
              "      <th>Karma</th>\n",
              "      <th>NumAnswers</th>\n",
              "      <th>Heading</th>\n",
              "      <th>MainText</th>\n",
              "      <th>PrimarySubject</th>\n",
              "      <th>SecondarySubject</th>\n",
              "      <th>TertiarySubject</th>\n",
              "      <th>OtherSubject</th>\n",
              "      <th>Target</th>\n",
              "    </tr>\n",
              "  </thead>\n",
              "  <tbody>\n",
              "    <tr>\n",
              "      <th>0</th>\n",
              "      <td>1827014</td>\n",
              "      <td>08/23/2011 04:57:58</td>\n",
              "      <td>08/10/2011 06:47:09</td>\n",
              "      <td>1</td>\n",
              "      <td>0</td>\n",
              "      <td>Populate dropdown list using ajax In grails</td>\n",
              "      <td>we are trying to implement ajax in new inciden...</td>\n",
              "      <td>grails</td>\n",
              "      <td>Not Available</td>\n",
              "      <td>Not Available</td>\n",
              "      <td>Not Available</td>\n",
              "      <td>0</td>\n",
              "    </tr>\n",
              "    <tr>\n",
              "      <th>1</th>\n",
              "      <td>623028</td>\n",
              "      <td>06/07/2010 20:41:14</td>\n",
              "      <td>07/25/2009 02:38:47</td>\n",
              "      <td>230</td>\n",
              "      <td>1</td>\n",
              "      <td>How to query database where date and time fiel...</td>\n",
              "      <td>In Table, Time and date fields are two separat...</td>\n",
              "      <td>sql-server</td>\n",
              "      <td>tsql</td>\n",
              "      <td>Not Available</td>\n",
              "      <td>Not Available</td>\n",
              "      <td>0</td>\n",
              "    </tr>\n",
              "    <tr>\n",
              "      <th>2</th>\n",
              "      <td>927745</td>\n",
              "      <td>11/04/2010 14:23:59</td>\n",
              "      <td>08/13/2010 06:43:46</td>\n",
              "      <td>1</td>\n",
              "      <td>0</td>\n",
              "      <td>Character Casing in Silverlight 4 TextBox</td>\n",
              "      <td>I am writing a Silverlight 4 business applicat...</td>\n",
              "      <td>silverlight-4.0</td>\n",
              "      <td>textbox</td>\n",
              "      <td>Not Available</td>\n",
              "      <td>Not Available</td>\n",
              "      <td>0</td>\n",
              "    </tr>\n",
              "    <tr>\n",
              "      <th>3</th>\n",
              "      <td>657891</td>\n",
              "      <td>06/25/2010 23:15:07</td>\n",
              "      <td>05/15/2009 18:15:11</td>\n",
              "      <td>5273</td>\n",
              "      <td>381</td>\n",
              "      <td>Stop exception from being thrown for non-exist...</td>\n",
              "      <td>Ok, so I am stumped on this issue. I have seen...</td>\n",
              "      <td>asp.net-mvc-2</td>\n",
              "      <td>httpexception</td>\n",
              "      <td>Not Available</td>\n",
              "      <td>Not Available</td>\n",
              "      <td>0</td>\n",
              "    </tr>\n",
              "    <tr>\n",
              "      <th>4</th>\n",
              "      <td>3321018</td>\n",
              "      <td>07/04/2012 09:05:59</td>\n",
              "      <td>06/19/2012 11:33:48</td>\n",
              "      <td>8</td>\n",
              "      <td>0</td>\n",
              "      <td>search for campaigns with multiple values for ...</td>\n",
              "      <td>I'd like to ask for the correct parameter to p...</td>\n",
              "      <td>foursquare</td>\n",
              "      <td>Not Available</td>\n",
              "      <td>Not Available</td>\n",
              "      <td>Not Available</td>\n",
              "      <td>0</td>\n",
              "    </tr>\n",
              "  </tbody>\n",
              "</table>\n",
              "</div>"
            ],
            "text/plain": [
              "       Qid         PostDateTime  ...   OtherSubject  Target\n",
              "0  1827014  08/23/2011 04:57:58  ...  Not Available       0\n",
              "1   623028  06/07/2010 20:41:14  ...  Not Available       0\n",
              "2   927745  11/04/2010 14:23:59  ...  Not Available       0\n",
              "3   657891  06/25/2010 23:15:07  ...  Not Available       0\n",
              "4  3321018  07/04/2012 09:05:59  ...  Not Available       0\n",
              "\n",
              "[5 rows x 12 columns]"
            ]
          },
          "execution_count": 42,
          "metadata": {},
          "output_type": "execute_result"
        }
      ],
      "source": [
        "train_df.head()"
      ]
    },
    {
      "cell_type": "code",
      "execution_count": null,
      "metadata": {
        "colab": {
          "base_uri": "https://localhost:8080/",
          "height": 469
        },
        "id": "kq7l0bLfg9Lo",
        "outputId": "02c8bae0-eba7-411f-8552-9f96cb5771ca"
      },
      "outputs": [
        {
          "data": {
            "text/html": [
              "<div>\n",
              "<style scoped>\n",
              "    .dataframe tbody tr th:only-of-type {\n",
              "        vertical-align: middle;\n",
              "    }\n",
              "\n",
              "    .dataframe tbody tr th {\n",
              "        vertical-align: top;\n",
              "    }\n",
              "\n",
              "    .dataframe thead th {\n",
              "        text-align: right;\n",
              "    }\n",
              "</style>\n",
              "<table border=\"1\" class=\"dataframe\">\n",
              "  <thead>\n",
              "    <tr style=\"text-align: right;\">\n",
              "      <th></th>\n",
              "      <th>Qid</th>\n",
              "      <th>PostDateTime</th>\n",
              "      <th>WhenAccountMade</th>\n",
              "      <th>Karma</th>\n",
              "      <th>NumAnswers</th>\n",
              "      <th>Heading</th>\n",
              "      <th>MainText</th>\n",
              "      <th>PrimarySubject</th>\n",
              "      <th>SecondarySubject</th>\n",
              "      <th>TertiarySubject</th>\n",
              "      <th>OtherSubject</th>\n",
              "    </tr>\n",
              "  </thead>\n",
              "  <tbody>\n",
              "    <tr>\n",
              "      <th>0</th>\n",
              "      <td>542806</td>\n",
              "      <td>04/22/2010 14:12:38</td>\n",
              "      <td>04/22/2010 14:12:38</td>\n",
              "      <td>1</td>\n",
              "      <td>0</td>\n",
              "      <td>How to Stich multiple java.awt.Image objects</td>\n",
              "      <td>Refereing to my previous question,\\r\\n\\r\\nhttp...</td>\n",
              "      <td>java</td>\n",
              "      <td>swing</td>\n",
              "      <td>Not Available</td>\n",
              "      <td>Not Available</td>\n",
              "    </tr>\n",
              "    <tr>\n",
              "      <th>1</th>\n",
              "      <td>1226994</td>\n",
              "      <td>03/01/2011 19:14:36</td>\n",
              "      <td>02/28/2009 02:30:49</td>\n",
              "      <td>1944</td>\n",
              "      <td>60</td>\n",
              "      <td>Create a git patch from the changes in the cur...</td>\n",
              "      <td>Say I have uncommitted changes in my working d...</td>\n",
              "      <td>git</td>\n",
              "      <td>git-patch</td>\n",
              "      <td>Not Available</td>\n",
              "      <td>Not Available</td>\n",
              "    </tr>\n",
              "    <tr>\n",
              "      <th>2</th>\n",
              "      <td>3299216</td>\n",
              "      <td>07/09/2012 15:04:54</td>\n",
              "      <td>06/06/2012 16:48:12</td>\n",
              "      <td>50</td>\n",
              "      <td>2</td>\n",
              "      <td>Symfony2: Dynamic Routing Prefix</td>\n",
              "      <td>I need to create a dynamic routing scheme, whe...</td>\n",
              "      <td>php</td>\n",
              "      <td>symfony-2.0</td>\n",
              "      <td>Not Available</td>\n",
              "      <td>Not Available</td>\n",
              "    </tr>\n",
              "    <tr>\n",
              "      <th>3</th>\n",
              "      <td>1631029</td>\n",
              "      <td>06/29/2011 16:08:57</td>\n",
              "      <td>02/10/2010 22:37:58</td>\n",
              "      <td>333</td>\n",
              "      <td>7</td>\n",
              "      <td>memset after malloc</td>\n",
              "      <td>I have three lines (version) of a linux produc...</td>\n",
              "      <td>c</td>\n",
              "      <td>linux</td>\n",
              "      <td>memory</td>\n",
              "      <td>malloc</td>\n",
              "    </tr>\n",
              "    <tr>\n",
              "      <th>4</th>\n",
              "      <td>1963405</td>\n",
              "      <td>03/20/2012 16:09:47</td>\n",
              "      <td>10/28/2009 14:55:35</td>\n",
              "      <td>3515</td>\n",
              "      <td>53</td>\n",
              "      <td>Is it with Curses possible, to print to STDERR...</td>\n",
              "      <td>How could I print \"Hello, World!\\n\" (using [Cu...</td>\n",
              "      <td>perl</td>\n",
              "      <td>printing</td>\n",
              "      <td>stdout</td>\n",
              "      <td>stderr</td>\n",
              "    </tr>\n",
              "  </tbody>\n",
              "</table>\n",
              "</div>"
            ],
            "text/plain": [
              "       Qid         PostDateTime  ... TertiarySubject   OtherSubject\n",
              "0   542806  04/22/2010 14:12:38  ...   Not Available  Not Available\n",
              "1  1226994  03/01/2011 19:14:36  ...   Not Available  Not Available\n",
              "2  3299216  07/09/2012 15:04:54  ...   Not Available  Not Available\n",
              "3  1631029  06/29/2011 16:08:57  ...          memory         malloc\n",
              "4  1963405  03/20/2012 16:09:47  ...          stdout         stderr\n",
              "\n",
              "[5 rows x 11 columns]"
            ]
          },
          "execution_count": 43,
          "metadata": {},
          "output_type": "execute_result"
        }
      ],
      "source": [
        "test_df.head()"
      ]
    },
    {
      "cell_type": "markdown",
      "metadata": {
        "id": "lbcq56sB7eJn"
      },
      "source": [
        "Let's start Preprocessing the data after data cleaning and data visualisation :-"
      ]
    },
    {
      "cell_type": "code",
      "execution_count": null,
      "metadata": {
        "id": "h1SyhTnlg9I-"
      },
      "outputs": [],
      "source": [
        "\n",
        "\n",
        "import numpy as np \n",
        "import nltk\n",
        "import string\n",
        "import matplotlib.pyplot as plt\n",
        "import seaborn as sns\n",
        "\n",
        "\n",
        "from sklearn.feature_extraction.text import TfidfTransformer\n",
        "from sklearn.feature_extraction.text import TfidfVectorizer\n",
        "\n",
        "\n",
        "from sklearn.feature_extraction.text import CountVectorizer\n",
        "from sklearn.metrics import confusion_matrix\n",
        "from sklearn import metrics\n",
        "from sklearn.metrics import roc_curve , auc\n",
        "\n",
        "\n",
        "import re\n",
        "from nltk.stem.porter import PorterStemmer\n",
        "from nltk.corpus import stopwords\n",
        "from nltk.stem.wordnet import WordNetLemmatizer\n",
        "\n",
        "\n",
        "\n",
        "\n",
        "\n",
        "\n",
        "\n",
        "\n",
        "\n",
        "\n",
        "\n"
      ]
    },
    {
      "cell_type": "code",
      "execution_count": null,
      "metadata": {
        "colab": {
          "base_uri": "https://localhost:8080/"
        },
        "id": "wOtg6yIYQI9D",
        "outputId": "be42677b-419a-4dfe-8bc5-09209056eddf"
      },
      "outputs": [
        {
          "output_type": "stream",
          "name": "stdout",
          "text": [
            "we are trying to implement ajax in new incident to get values of assign user id by click on  groups  for that we apply ajax in views on create.gsp\r\n",
            "----------------------------------------\r\n",
            "     \r\n",
            "\r\n",
            "ajax used in create.gsp\r\n",
            "\r\n",
            "  \r\n",
            "\r\n",
            "    <g:javascript>document.observe('dom:loaded', function() {$(\"groupId\").observe(\"change\", respondToSelect);});\t\t\r\n",
            "    \t\t\tfunction respondToSelect(event)\r\n",
            "    \t\t\t{new Ajax.Updater(\"userId\",\"/smartserv/incident/updateSelect\",{method:'get', parameters: {selectedValue : $F(\"groupId\")} });}</g:javascript>\r\n",
            "    \t\t\t\r\n",
            "\r\n",
            "\r\n",
            "this are tags used in create.gsp\r\n",
            "\r\n",
            " \r\n",
            "\r\n",
            "    <tr class=\"prop\"> <td valign=\"top\" class=\"name\">\r\n",
            "                                        <label for=\"groupId\"><g:message code=\"incident.groupId.label\" default=\"Assignment Group\" /></label>\r\n",
            "                                    </td>\r\n",
            "                                    <td valign=\"top\" class=\"value ${hasErrors(bean: incidentInstance, field: 'groupId', 'errors')}\">\r\n",
            "                                        <g:select id=\"groupId\" name=\"groupId\" from=\"${app.Usergroup.list()}\" optionKey=\"id\" value=\"${incidentInstance?.groupId?.id}\"  />\r\n",
            "                                    </td>\r\n",
            "                                </tr>\r\n",
            "                                <div id=\"userId\">\r\n",
            "                                <tr class=\"prop\">\r\n",
            "                                    <td valign=\"top\" class=\"name\">\r\n",
            "                                        <label for=\"userId\"><g:message code=\"incident.userId.label\" default=\"Assign Id\" /></label>\r\n",
            "                                    </td>\r\n",
            "                                    <td valign=\"top\" class=\"value ${hasErrors(bean: incidentInstance, field: 'userId', 'errors')}\">\r\n",
            "                                        <g:select  name=\"userId\" from=\"${app.User.list()}\" optionKey=\"id\" value=\"${incidentInstance?.userId?.id}\"  />\r\n",
            "                                    </td>\r\n",
            "                                </tr> \r\n",
            "                                </div> \r\n",
            "\r\n",
            "\r\n",
            "\r\n",
            "In incident controller we used  updateSelect to get values\r\n",
            "\r\n",
            "\r\n",
            " \r\n",
            "\r\n",
            "    def dataSource\r\n",
            "       def updateSelect = {\r\n",
            "    \t\t\t def sql = new Sql(dataSource)\r\n",
            "                             def user_id = sql.execute(\"SELECT distinct user_id FROM user_groups where user_groups.usergroup_id='+usergroup_id+'\")\r\n",
            "      render(usergroup_id:params.selectedValue,template:\"assignId\", model : ['user_id' : user_id])\r\n",
            "    }        \r\n",
            "\r\n",
            "               \r\n",
            "\r\n",
            "_assignId.gsp\r\n",
            "\r\n",
            "    <g:select\r\n",
            "           from=\"${groupId.members}\"\r\n",
            "           name=\"\" value=\"\">\r\n",
            "    </g:select>\r\n",
            "\r\n",
            "\r\n",
            "database table:group_(fields:groupid , description, application)\r\n",
            "\r\n",
            "\r\n",
            "table:user(fields:userid,username,etc)\r\n",
            "\r\n",
            "\r\n",
            "table:user_groups( fields:userid and usergroupid)\r\n",
            " \r\n",
            "\r\n",
            "\r\n",
            "\r\n",
            "by using this tables we have to get values by using ajax\r\n",
            "\r\n",
            "we are getting action on assignid but we are not getting particular values\r\n",
            "And Can anyone suggest website or pdf that how to implement sql queries in controller.\r\n",
            "\r\n",
            "                                                               \n",
            "==================================================\n",
            "I have model with `ImageFile` field:\r\n",
            "\r\n",
            "    def upload_course_cover(object, filename):\r\n",
            "    \treturn '/media/courses/%s_%s' % (Course.objects.aggregate(Max('id'))['id__max'] + 1, filename)\r\n",
            "\r\n",
            "    class Course(models.Model):\r\n",
            "    \t# ...\r\n",
            "    \tcover = models.ImageField(upload_to=upload_course_cover,  blank=True)\r\n",
            "\r\n",
            "When the image is saved, into `cover` field will be writen full image path `/media/courses/id_filename.ext`, but I want store only image name `id_filename.ext`.\r\n",
            "How to do it?\n",
            "==================================================\n",
            "can i use session values inside a Webmethod? \r\n",
            "ps: i used [System.Web.Services.WebMethod(EnableSession = true)] but i can't access Session parameter like in this example: [link text][1]\r\n",
            "\r\n",
            "\r\n",
            "  [1]: http://msdn.microsoft.com/en-us/library/byxd99hx(v=vs.90).aspx#vbtskusingwebmethodattributeenablesession\n",
            "==================================================\n",
            "I've got a newbie question concerning handling touch events. My simple class looks like that:\r\n",
            "\r\n",
            "\r\n",
            "`public class SplashActivity extends Activity implements OnKeyListener,\r\n",
            "\t\tOnTouchListener {\r\n",
            "\tprivate LinearLayout mLinearLayout;\r\n",
            "\r\n",
            "\tpublic void onCreate(Bundle savedInstanceState) {\r\n",
            "\t\tsuper.onCreate(savedInstanceState);\r\n",
            "\r\n",
            "\t\tmLinearLayout = new LinearLayout(this);\r\n",
            "\t\tmLinearLayout.addView(getBgImg());\r\n",
            "\t\tmLinearLayout.setOnKeyListener(this);\r\n",
            "\t\tmLinearLayout.setOnTouchListener(this);\r\n",
            "\t\tmLinearLayout.setFocusable(true);\r\n",
            "\t\tsetContentView(mLinearLayout);\r\n",
            "\t}\r\n",
            "\r\n",
            "\tprivate ImageView getBgImg() {\r\n",
            "\t\tImageView imgV = new ImageView(this);\r\n",
            "\t\timgV.setImageResource(R.drawable.splash);\r\n",
            "\t\timgV.setAdjustViewBounds(true);\r\n",
            "\t\timgV.setLayoutParams(new Gallery.LayoutParams(\r\n",
            "\t\t\t\tLayoutParams.WRAP_CONTENT, LayoutParams.WRAP_CONTENT));\r\n",
            "\t\treturn imgV;\r\n",
            "\t}\r\n",
            "\r\n",
            "\t@Override\r\n",
            "\tpublic boolean onKey(View v, int keyCode, KeyEvent event) {\r\n",
            "\t\tSystem.out.println(\"test2\");\r\n",
            "\t\treturn true;\r\n",
            "\t}\r\n",
            "\r\n",
            "\t@Override\r\n",
            "\tpublic boolean onTouch(View v, MotionEvent event) {\r\n",
            "\t\tSystem.out.println(\"test1\");\r\n",
            "\t\treturn true;\r\n",
            "\t}\r\n",
            "\r\n",
            "\t@Override\r\n",
            "\tpublic boolean onKeyDown(int keyCode, KeyEvent event) {\r\n",
            "\t\tswitch (keyCode) {\r\n",
            "\t\tcase KeyEvent.KEYCODE_S:\r\n",
            "\t\t\t// mDoSat = !mDoSat;\r\n",
            "\t\t\treturn true;\r\n",
            "\t\t}\r\n",
            "\t\treturn super.onKeyDown(keyCode, event);\r\n",
            "\t}\r\n",
            "}`\r\n",
            "\r\n",
            "unfortunately in spite of pressing buttons on the emulator and clicking on the screen, I get no \"test1\" or \"test2\" printed in the LogCat... I have no idea what's wrong...\r\n",
            "thank you in advance for any hint...\n",
            "==================================================\n"
          ]
        }
      ],
      "source": [
        "# printing some random Main Text \n",
        "\n",
        "\n",
        "sent_0 = train_df['MainText'].values[0]\n",
        "print(sent_0)\n",
        "print(\"=\"*50)\n",
        "\n",
        "sent_1000 = train_df['MainText'].values[1000]\n",
        "print(sent_1000)\n",
        "print(\"=\"*50)\n",
        "\n",
        "sent_1500 =train_df['MainText'].values[1500]\n",
        "print(sent_1500)\n",
        "print(\"=\"*50)\n",
        "\n",
        "sent_45000 = train_df['MainText'].values[45000]\n",
        "print(sent_45000)\n",
        "print(\"=\"*50)"
      ]
    },
    {
      "cell_type": "code",
      "execution_count": null,
      "metadata": {
        "colab": {
          "base_uri": "https://localhost:8080/"
        },
        "id": "emBPKEu7Rupy",
        "outputId": "9e501276-7d2e-4f3c-e540-4858566f0cce"
      },
      "outputs": [
        {
          "output_type": "stream",
          "name": "stdout",
          "text": [
            "can i use session values inside a Webmethod? \r\n",
            "ps: i used [System.Web.Services.WebMethod(EnableSession = true)] but i can't access Session parameter like in this example: [link text][1]\r\n",
            "\r\n",
            "\r\n",
            "  [1]: \n"
          ]
        }
      ],
      "source": [
        " #### we are removing the link here from 1500th line and watching it \n",
        "\n",
        "sent_1500 = re.sub(r\"http\\S+\", \"\", sent_1500)\n",
        "print(sent_1500)"
      ]
    },
    {
      "cell_type": "code",
      "execution_count": null,
      "metadata": {
        "colab": {
          "base_uri": "https://localhost:8080/"
        },
        "id": "hMfvLO7rfzlS",
        "outputId": "8020771e-9546-4440-cd6f-1eb16e9c3714"
      },
      "outputs": [
        {
          "output_type": "stream",
          "name": "stdout",
          "text": [
            "Okay so this is for a school assignment.  I have had no problems doing a recursive binary search but the assignment specifically says that the method should only take 2 arguments, the list, and the item you are searching for.  This is where I am getting a little lost.\r\n",
            "\r\n",
            "    \tpublic int binarySearch(List<Card> cards, Card key)\r\n",
            "\t{\r\n",
            "\t\tint mid = (cards.size()) / 2;\r\n",
            "\t\tif(cards.size() == 1){\r\n",
            "\t\t\tif(key.equals(cards.get(0))){\r\n",
            "\t\t\t\treturn 0;\r\n",
            "\t\t\t}\r\n",
            "\t\t}\r\n",
            "\t\telse{\r\n",
            "\t\t\tif(key.equals(cards.get(mid))){\r\n",
            "\t\t\t\treturn mid;\r\n",
            "\t\t\t}\r\n",
            "\t\t\telse if(key.compareTo(cards.get(mid)) == - 1){\r\n",
            "\t\t\t\treturn binarySearch(cards.subList(0, mid), key);\r\n",
            "\t\t\t}\r\n",
            "\t\t\telse if(key.compareTo(cards.get(mid)) ==  1){\r\n",
            "\t\t\t\treturn mid + 1 + binarySearch(cards.subList(mid + 1, cards.size()), key);\r\n",
            "\t\t\t}\r\n",
            "\t\t}\r\n",
            "\t\treturn -1;\r\n",
            "\r\n",
            "So this will work fine unless I am searching for something that doesn't exist and it belongs in the upper half of the list.  Because I am only passing through 2 arguments, I have to change the list with each recursive call, however, if it's in the upper half i can't lose my index spot so I have to add those on there with the recursive call, if it ends up not being in the upper half then it returns -1 + all those indexes i was accounting for previously.  Is there a way I can clear it all out and make it just return -1?  Any advise is appreciated. \n",
            "==================================================\n",
            "I'm using a micro-orm (dapper) and am trying to come up with a Unit Of Work (UoW) implementation for my repositories to use. I am a little bit stumped how best to deal with parent-child (foreign key) relationships in my UoW. So for example if I have the following two entities which map directly to database tables:\r\n",
            "\r\n",
            "<!-- language: lang-cs -->\r\n",
            "\r\n",
            "    public class User\r\n",
            "    {\r\n",
            "        public int Id { get; set; }\r\n",
            "        public string Email { get; set; }\r\n",
            "        public string Password { get; set; }\r\n",
            "        public string Name { get; set; }\r\n",
            "        public int ClientDatabaseId { get; set; }\r\n",
            "\r\n",
            "        public ClientDatabase ClientDb { get; set; }\r\n",
            "    }\r\n",
            "\r\n",
            "    public class ClientDatabase\r\n",
            "    {\r\n",
            "        public int Id { get; set; }\r\n",
            "        public string DataSource { get; set; }\r\n",
            "        public string FailoverPartner { get; set; }\r\n",
            "        public string InitialCatalog { get; set; }\r\n",
            "    }\r\n",
            "\r\n",
            "Where a User has parent-child relationship with a ClientDatabase via the foreign key User.ClientDatabaseId. The Id property on both User and ClientDatabase are Identity columns. My UoW interface is defined as follows:\r\n",
            "\r\n",
            "<!-- language: lang-cs -->\r\n",
            "\r\n",
            "    public interface IUnitOfWork\r\n",
            "    {\r\n",
            "        void MarkDirty(object entity);\r\n",
            "        void MarkNew(object entity);\r\n",
            "        void MarkDeleted(object entity);\r\n",
            "        void Commit();\r\n",
            "        void Rollback();\r\n",
            "    }\r\n",
            "\r\n",
            "At some point, within the same IUnitOfWork I want to call MarkNew() for both a ClientDatabase and a User and then Commit(). Now what I want to happen is for the ClientDatabase to be saved first (child entity) and then for the Id that was set on ClientDatabase, as a result of it's database insertion, to be set as the ClientDatabaseId foreign key property on User before it is then also inserted into the database. I just wondered whether anyone had solved this sort of problem in a nice generic fashion?\n",
            "==================================================\n",
            "For an assignment, we are to write the merge sort function:\r\n",
            "sort(int* array, unsigned len); in C\r\n",
            "\r\n",
            "I have the code written and working, but its runtime is O(N^2*log[N]) which defeats the purpose of merge sort. The reason for the inefficiency is because the merge part is as follows:\r\n",
            "\r\n",
            "    while(ct1 < len1 && ct2 < len2){\r\n",
            "\t\tif(array[0] < array[len1 - ct1]){\r\n",
            "\t\t\tct1++;\r\n",
            "\t\t\tarray++;\t// no longer look at that element\r\n",
            "\t\t}\r\n",
            "\t\telse{\r\n",
            "\t\t\tint position = len1 - ct1;\r\n",
            "\t\t\tint hold = array[position];\r\n",
            "\t\t\twhile(position > 0){\r\n",
            "\t\t\t\tarray[position] = array[position - 1];\r\n",
            "\t\t\t\tposition--;\r\n",
            "\t\t\t}\r\n",
            "\t\t\tarray[0] = hold;\r\n",
            "\t\t\tct2++;\r\n",
            "\t\t\tarray++;\r\n",
            "\t\t}\r\n",
            "\t}\r\n",
            "\r\n",
            "where ct1 is a counter for the left list, ct2 is counter for the right list, and array is the pointer to the array. Both ct1 and ct2 are initially set to zero. Like I said, this works, it's just inefficient because you have to shift everything. I was wanting to split the sub arrays into two temporary arrays before sorting, but you supposedly cannot create arrays whose lengths aren't defined as constants. I should also note that although I can use helper functions, I cannot change the function parameters: there must be a pointer to an array, and the length.\r\n",
            "\r\n",
            "Thanks to all who can help,\r\n",
            "Duncan\n",
            "==================================================\n"
          ]
        }
      ],
      "source": [
        "sent_500 = train_df['MainText'].values[500]\n",
        "print(sent_500)\n",
        "print(\"=\"*50)\n",
        "\n",
        "\n",
        "sent_5000 = train_df['MainText'].values[5000]\n",
        "print(sent_5000)\n",
        "print(\"=\"*50)\n",
        "\n",
        "\n",
        "sent_50000 = train_df['MainText'].values[50000]\n",
        "print(sent_50000)\n",
        "print(\"=\"*50)\n",
        "\n",
        "\n"
      ]
    },
    {
      "cell_type": "code",
      "execution_count": null,
      "metadata": {
        "colab": {
          "base_uri": "https://localhost:8080/"
        },
        "id": "s73ZZ-7MHdcj",
        "outputId": "eace64d4-c5b2-422d-f022-cac0e94a8107"
      },
      "outputs": [
        {
          "output_type": "stream",
          "name": "stdout",
          "text": [
            "we are trying to implement ajax in new incident to get values of assign user id by click on  groups  for that we apply ajax in views on create.gsp\r\n",
            "----------------------------------------\r\n",
            "     \r\n",
            "\r\n",
            "ajax used in create.gsp\r\n",
            "\r\n",
            "  \r\n",
            "\r\n",
            "    document.observe('dom:loaded', function() {$(\"groupId\").observe(\"change\", respondToSelect);});\t\t\r\n",
            "    \t\t\tfunction respondToSelect(event)\r\n",
            "    \t\t\t{new Ajax.Updater(\"userId\",\"/smartserv/incident/updateSelect\",{method:'get', parameters: {selectedValue : $F(\"groupId\")} });}\r\n",
            "    \t\t\t\r\n",
            "\r\n",
            "\r\n",
            "this are tags used in create.gsp\r\n",
            "\r\n",
            " \r\n",
            "\r\n",
            "     \n",
            "\n",
            "\n",
            "\n",
            "\n",
            "\n",
            "\n",
            "\n",
            "\n",
            "\n",
            "\n",
            "\n",
            "\n",
            "\n",
            "\n",
            "\n",
            " \r\n",
            "\r\n",
            "\r\n",
            "\r\n",
            "In incident controller we used  updateSelect to get values\r\n",
            "\r\n",
            "\r\n",
            " \r\n",
            "\r\n",
            "    def dataSource\r\n",
            "       def updateSelect = {\r\n",
            "    \t\t\t def sql = new Sql(dataSource)\r\n",
            "                             def user_id = sql.execute(\"SELECT distinct user_id FROM user_groups where user_groups.usergroup_id='+usergroup_id+'\")\r\n",
            "      render(usergroup_id:params.selectedValue,template:\"assignId\", model : ['user_id' : user_id])\r\n",
            "    }        \r\n",
            "\r\n",
            "               \r\n",
            "\r\n",
            "_assignId.gsp\r\n",
            "\r\n",
            "    \n",
            "\r\n",
            "\r\n",
            "\r\n",
            "database table:group_(fields:groupid , description, application)\r\n",
            "\r\n",
            "\r\n",
            "table:user(fields:userid,username,etc)\r\n",
            "\r\n",
            "\r\n",
            "table:user_groups( fields:userid and usergroupid)\r\n",
            " \r\n",
            "\r\n",
            "\r\n",
            "\r\n",
            "by using this tables we have to get values by using ajax\r\n",
            "\r\n",
            "we are getting action on assignid but we are not getting particular values\r\n",
            "And Can anyone suggest website or pdf that how to implement sql queries in controller.\r\n",
            "\r\n",
            "                                                               \n",
            "==================================================\n",
            "I have model with `ImageFile` field:\r\n",
            "\r\n",
            "    def upload_course_cover(object, filename):\r\n",
            "    \treturn '/media/courses/%s_%s' % (Course.objects.aggregate(Max('id'))['id__max'] + 1, filename)\r\n",
            "\r\n",
            "    class Course(models.Model):\r\n",
            "    \t# ...\r\n",
            "    \tcover = models.ImageField(upload_to=upload_course_cover,  blank=True)\r\n",
            "\r\n",
            "When the image is saved, into `cover` field will be writen full image path `/media/courses/id_filename.ext`, but I want store only image name `id_filename.ext`.\r\n",
            "How to do it?\n",
            "==================================================\n",
            "can i use session values inside a Webmethod? \r\n",
            "ps: i used [System.Web.Services.WebMethod(EnableSession = true)] but i can't access Session parameter like in this example: [link text][1]\r\n",
            "\r\n",
            "\r\n",
            "  [1]: \n",
            "==================================================\n",
            "I'm using a micro-orm (dapper) and am trying to come up with a Unit Of Work (UoW) implementation for my repositories to use. I am a little bit stumped how best to deal with parent-child (foreign key) relationships in my UoW. So for example if I have the following two entities which map directly to database tables:\r\n",
            "\r\n",
            "\r\n",
            "\r\n",
            "    public class User\r\n",
            "    {\r\n",
            "        public int Id { get; set; }\r\n",
            "        public string Email { get; set; }\r\n",
            "        public string Password { get; set; }\r\n",
            "        public string Name { get; set; }\r\n",
            "        public int ClientDatabaseId { get; set; }\r\n",
            "\r\n",
            "        public ClientDatabase ClientDb { get; set; }\r\n",
            "    }\r\n",
            "\r\n",
            "    public class ClientDatabase\r\n",
            "    {\r\n",
            "        public int Id { get; set; }\r\n",
            "        public string DataSource { get; set; }\r\n",
            "        public string FailoverPartner { get; set; }\r\n",
            "        public string InitialCatalog { get; set; }\r\n",
            "    }\r\n",
            "\r\n",
            "Where a User has parent-child relationship with a ClientDatabase via the foreign key User.ClientDatabaseId. The Id property on both User and ClientDatabase are Identity columns. My UoW interface is defined as follows:\r\n",
            "\r\n",
            "\r\n",
            "\r\n",
            "    public interface IUnitOfWork\r\n",
            "    {\r\n",
            "        void MarkDirty(object entity);\r\n",
            "        void MarkNew(object entity);\r\n",
            "        void MarkDeleted(object entity);\r\n",
            "        void Commit();\r\n",
            "        void Rollback();\r\n",
            "    }\r\n",
            "\r\n",
            "At some point, within the same IUnitOfWork I want to call MarkNew() for both a ClientDatabase and a User and then Commit(). Now what I want to happen is for the ClientDatabase to be saved first (child entity) and then for the Id that was set on ClientDatabase, as a result of it's database insertion, to be set as the ClientDatabaseId foreign key property on User before it is then also inserted into the database. I just wondered whether anyone had solved this sort of problem in a nice generic fashion?\n"
          ]
        }
      ],
      "source": [
        "### ---------------verymuch much important---------------\n",
        "####-------BeautifulSoup   is a Python library for pulling data out of HTML and XML files. It works with your favorite parser to provide idiomatic ways of navigating,\n",
        "\n",
        "\n",
        "\n",
        "\n",
        "\n",
        "from bs4 import BeautifulSoup\n",
        "\n",
        "soup = BeautifulSoup(sent_0, 'lxml')\n",
        "text = soup.get_text()\n",
        "print(text)\n",
        "print(\"=\"*50)\n",
        "\n",
        "\n",
        "\n",
        "soup = BeautifulSoup(sent_1000, 'lxml')\n",
        "text = soup.get_text()\n",
        "print(text)\n",
        "print(\"=\"*50)\n",
        "\n",
        "\n",
        "\n",
        "soup = BeautifulSoup(sent_1500, 'lxml')\n",
        "text = soup.get_text()\n",
        "print(text)\n",
        "print(\"=\"*50)\n",
        "\n",
        "\n",
        "\n",
        "soup = BeautifulSoup(sent_5000, 'lxml')\n",
        "text = soup.get_text()\n",
        "print(text)"
      ]
    },
    {
      "cell_type": "code",
      "execution_count": null,
      "metadata": {
        "id": "IoyV6Sp8HdYN"
      },
      "outputs": [],
      "source": [
        "def decontracted(phrase):\n",
        "  \n",
        "    phrase = re.sub(r\"won't\", \"will not\", phrase)\n",
        "    phrase = re.sub(r\"can\\'t\", \"can not\", phrase)\n",
        "    phrase = re.sub(r\"n\\'t\", \" not\", phrase)\n",
        "    phrase = re.sub(r\"\\'re\", \" are\", phrase)\n",
        "    phrase = re.sub(r\"\\'s\", \" is\", phrase)\n",
        "    phrase = re.sub(r\"\\'d\", \" would\", phrase)\n",
        "    phrase = re.sub(r\"\\'ll\", \" will\", phrase)\n",
        "    phrase = re.sub(r\"\\'t\", \" not\", phrase)\n",
        "    phrase = re.sub(r\"\\'ve\", \" have\", phrase)\n",
        "    phrase = re.sub(r\"\\'m\", \" am\", phrase)\n",
        "    return phrase"
      ]
    },
    {
      "cell_type": "code",
      "execution_count": null,
      "metadata": {
        "colab": {
          "base_uri": "https://localhost:8080/"
        },
        "id": "JKh0V588kzqi",
        "outputId": "7c6bde79-c2ea-473a-d549-71a91a483863"
      },
      "outputs": [
        {
          "output_type": "stream",
          "name": "stdout",
          "text": [
            "can i use session values inside a Webmethod? \r\n",
            "ps: i used [System.Web.Services.WebMethod(EnableSession = true)] but i can't access Session parameter like in this example: [link text][1]\r\n",
            "\r\n",
            "\r\n",
            "  [1]: \n",
            "==================================================\n"
          ]
        }
      ],
      "source": [
        "print(sent_1500)\n",
        "print(\"=\"*50)"
      ]
    },
    {
      "cell_type": "code",
      "execution_count": null,
      "metadata": {
        "colab": {
          "base_uri": "https://localhost:8080/"
        },
        "id": "7Lcmmmm1etmu",
        "outputId": "5155362b-a099-4a80-ce6e-fe8d9d7e2510"
      },
      "outputs": [
        {
          "output_type": "stream",
          "name": "stdout",
          "text": [
            "can i use session values inside a Webmethod? \r\n",
            "ps: i used [System.Web.Services.WebMethod(EnableSession = true)] but i can not access Session parameter like in this example: [link text][1]\r\n",
            "\r\n",
            "\r\n",
            "  [1]: \n",
            "==================================================\n"
          ]
        }
      ],
      "source": [
        "sent_1500 = decontracted(sent_1500)\n",
        "print(sent_1500)\n",
        "print(\"=\"*50)"
      ]
    },
    {
      "cell_type": "code",
      "execution_count": null,
      "metadata": {
        "colab": {
          "base_uri": "https://localhost:8080/"
        },
        "id": "xkbeTyfPlbuT",
        "outputId": "708267e1-cc7b-4757-de40-24b6bd1e33ad"
      },
      "outputs": [
        {
          "output_type": "stream",
          "name": "stdout",
          "text": [
            "can i use session values inside a Webmethod? \r\n",
            "ps: i used [System.Web.Services.WebMethod(EnableSession = true)] but i can not access Session parameter like in this example: [link\n"
          ]
        }
      ],
      "source": [
        "#######  remove words with numbers likw mn453kh , mjh675rtyu , ............................\n",
        "\n",
        "\n",
        "\n",
        "sent_1500 = re.sub(\"\\S*\\d\\S*\", \"\", sent_1500).strip()\n",
        "print(sent_1500)\n",
        "\n",
        "\n"
      ]
    },
    {
      "cell_type": "code",
      "execution_count": null,
      "metadata": {
        "colab": {
          "base_uri": "https://localhost:8080/"
        },
        "id": "pV1bl2VBlbsy",
        "outputId": "42678dc4-2710-4c02-82a6-96efe4e68c7b"
      },
      "outputs": [
        {
          "output_type": "stream",
          "name": "stdout",
          "text": [
            "I have model with ImageFile field def upload course cover object filename return media courses s s Course objects aggregate Max id id max 1 filename class Course models Model cover models ImageField upload to upload course cover blank True When the image is saved into cover field will be writen full image path media courses id filename ext but I want store only image name id filename ext How to do it \n"
          ]
        }
      ],
      "source": [
        "########## ---------  remove special character ----------------------\n",
        "\n",
        "\n",
        "\n",
        "sent_1000 = re.sub('[^A-Za-z0-9]+', ' ', sent_1000)\n",
        "print(sent_1000)"
      ]
    },
    {
      "cell_type": "code",
      "execution_count": null,
      "metadata": {
        "id": "1MgsdBiflbpb"
      },
      "outputs": [],
      "source": [
        "##########  we are removing the words from the stop words list: 'no', 'nor', 'not'\n",
        "##########  <br /><br /> ==> after the above steps, we are getting \"br br\"\n",
        "##########   we are including them into stop words list\n",
        "\n",
        "stopwords= set(['br', 'the', 'i', 'me', 'my', 'myself', 'we', 'our', 'ours', 'ourselves', 'you', \"you're\", \"you've\",\\\n",
        "            \"you'll\", \"you'd\", 'your', 'yours', 'yourself', 'yourselves', 'he', 'him', 'his', 'himself', \\\n",
        "            'she', \"she's\", 'her', 'hers', 'herself', 'it', \"it's\", 'its', 'itself', 'they', 'them', 'their',\\\n",
        "            'theirs', 'themselves', 'what', 'which', 'who', 'whom', 'this', 'that', \"that'll\", 'these', 'those', \\\n",
        "            'am', 'is', 'are', 'was', 'were', 'be', 'been', 'being', 'have', 'has', 'had', 'having', 'do', 'does', \\\n",
        "            'did', 'doing', 'a', 'an', 'the', 'and', 'but', 'if', 'or', 'because', 'as', 'until', 'while', 'of', \\\n",
        "            'at', 'by', 'for', 'with', 'about', 'against', 'between', 'into', 'through', 'during', 'before', 'after',\\\n",
        "            'above', 'below', 'to', 'from', 'up', 'down', 'in', 'out', 'on', 'off', 'over', 'under', 'again', 'further',\\\n",
        "            'then', 'once', 'here', 'there', 'when', 'where', 'why', 'how', 'all', 'any', 'both', 'each', 'few', 'more',\\\n",
        "            'most', 'other', 'some', 'such', 'only', 'own', 'same', 'so', 'than', 'too', 'very', \\\n",
        "            's', 't', 'can', 'will', 'just', 'don', \"don't\", 'should', \"should've\", 'now', 'd', 'll', 'm', 'o', 're', \\\n",
        "            've', 'y', 'ain', 'aren', \"aren't\", 'couldn', \"couldn't\", 'didn', \"didn't\", 'doesn', \"doesn't\", 'hadn',\\\n",
        "            \"hadn't\", 'hasn', \"hasn't\", 'haven', \"haven't\", 'isn', \"isn't\", 'ma', 'mightn', \"mightn't\", 'mustn',\\\n",
        "            \"mustn't\", 'needn', \"needn't\", 'shan', \"shan't\", 'shouldn', \"shouldn't\", 'wasn', \"wasn't\", 'weren', \"weren't\", \\\n",
        "            'won', \"won't\", 'wouldn', \"wouldn't\"])"
      ]
    },
    {
      "cell_type": "code",
      "execution_count": null,
      "metadata": {
        "id": "j1ikUxyNosmo"
      },
      "outputs": [],
      "source": [
        "# # Combining all the above what i have done above in the preprocessing of data \n",
        "\n",
        "\n",
        "\n",
        "\n",
        "# from tqdm import tqdm\n",
        "# preprocessed_MainText = []\n",
        "# ###### tqdm is for printing the status bar\n",
        "\n",
        "\n",
        "# for sentence in tqdm(train_df['MainText'].values):\n",
        "#     sentence = re.sub(r\"http\\S+\", \"\", sentence)\n",
        "#     sentence = BeautifulSoup(sentence, 'lxml').get_text()\n",
        "#     sentence = decontracted(sentence)\n",
        "#     sentence = re.sub(\"\\S*\\d\\S*\", \"\", sentence).strip()\n",
        "#     sentence = re.sub('[^A-Za-z]+', ' ', sentence)\n",
        "   \n",
        "#     sentence = ' '.join(e.lower() for e in sentence.split() if e.lower() not in stopwords)\n",
        "#     preprocessed_MainText.append(sentence.strip())"
      ]
    },
    {
      "cell_type": "code",
      "execution_count": null,
      "metadata": {
        "id": "KaTrmicEose3"
      },
      "outputs": [],
      "source": [
        "#  preprocessed_MainText[0]"
      ]
    },
    {
      "cell_type": "code",
      "execution_count": null,
      "metadata": {
        "id": "FQLzqJMVzae3"
      },
      "outputs": [],
      "source": [
        "#  preprocessed_MainText[1200]"
      ]
    },
    {
      "cell_type": "code",
      "execution_count": null,
      "metadata": {
        "id": "RQHI2WU5i9Y8"
      },
      "outputs": [],
      "source": [
        "\n",
        "###------saving the preprocessed_MainText in a file that is below:-\n",
        "\n",
        "# import pandas as pd\n",
        "# dict={'Main_Text_after_preprocessing':preprocessed_MainText}\n",
        "# df=pd.DataFrame(dict)\n",
        "# df.to_csv('/content/drive/MyDrive/Colab Notebooks/Main_Text.csv')\n",
        "\n",
        "\n"
      ]
    },
    {
      "cell_type": "code",
      "execution_count": null,
      "metadata": {
        "id": "rudhnWkwth6j"
      },
      "outputs": [],
      "source": [
        "\n",
        "# import pandas as pd\n",
        "# MT=pd.read_csv('/content/drive/MyDrive/Colab Notebooks/Main_Text.csv')\n",
        "# MT.head()"
      ]
    },
    {
      "cell_type": "code",
      "execution_count": null,
      "metadata": {
        "id": "oWPF-B7Ruzcm"
      },
      "outputs": [],
      "source": [
        "# MT.drop('Unnamed: 0',axis='columns',inplace=True)\n",
        "# MT.head()"
      ]
    },
    {
      "cell_type": "code",
      "execution_count": null,
      "metadata": {
        "id": "8diWqw0_CpGp"
      },
      "outputs": [],
      "source": [
        "# print(type(MT))"
      ]
    },
    {
      "cell_type": "code",
      "execution_count": null,
      "metadata": {
        "id": "TRoJmbwRCYZH"
      },
      "outputs": [],
      "source": [
        "\n",
        "\n",
        "\n",
        "\n",
        "# MT_list = MT.values.tolist()\n",
        "# MT_list[0]"
      ]
    },
    {
      "cell_type": "code",
      "execution_count": null,
      "metadata": {
        "id": "zPbN5ZzMz5UF"
      },
      "outputs": [],
      "source": [
        "####  -------------- for Heading also we are doing the same -------------------\n",
        "\n",
        "\n",
        "\n",
        "\n",
        "\n",
        "# from tqdm import tqdm\n",
        "# preprocessed_Heading = []\n",
        "# # tqdm is for printing the status bar\n",
        "\n",
        "\n",
        "# for sentence in tqdm(train_df['Heading'].values):\n",
        "#     sentence = re.sub(r\"http\\S+\", \"\", sentence)\n",
        "#     sentence = BeautifulSoup(sentence, 'lxml').get_text()\n",
        "#     sentence = decontracted(sentence)\n",
        "#     sentence = re.sub(\"\\S*\\d\\S*\", \"\", sentence).strip()\n",
        "#     sentence = re.sub('[^A-Za-z]+', ' ', sentence)\n",
        "   \n",
        "#     sentence = ' '.join(e.lower() for e in sentence.split() if e.lower() not in stopwords)\n",
        "#     preprocessed_Heading.append(sentence.strip())"
      ]
    },
    {
      "cell_type": "code",
      "execution_count": null,
      "metadata": {
        "id": "LbFF6NvL4Zzp"
      },
      "outputs": [],
      "source": [
        ""
      ]
    },
    {
      "cell_type": "code",
      "execution_count": null,
      "metadata": {
        "id": "kk8ag2OsyGkI"
      },
      "outputs": [],
      "source": [
        "\n",
        "####-------------saving the preprocessed heading into heading csv file \n",
        "\n",
        "# import pandas as pd\n",
        "# dict={'Heading_after_preprocessing':preprocessed_Heading}\n",
        "# df=pd.DataFrame(dict)\n",
        "# df.to_csv('/content/drive/MyDrive/Colab Notebooks/Heading.csv',index=False)"
      ]
    },
    {
      "cell_type": "code",
      "execution_count": null,
      "metadata": {
        "id": "h_pJahtiyd9T"
      },
      "outputs": [],
      "source": [
        "# import pandas as pd\n",
        "# H=pd.read_csv('/content/drive/MyDrive/Colab Notebooks/Heading.csv')\n",
        "# H.head()"
      ]
    },
    {
      "cell_type": "code",
      "execution_count": null,
      "metadata": {
        "id": "RxF4AokgzfLn"
      },
      "outputs": [],
      "source": [
        "# print(type('Heading_after_preprocessing'))"
      ]
    },
    {
      "cell_type": "code",
      "execution_count": null,
      "metadata": {
        "id": "u08HGjDqzjvh"
      },
      "outputs": [],
      "source": [
        "\n",
        "\n",
        "\n",
        "from nltk.tokenize import sent_tokenize, word_tokenize\n",
        "from nltk.stem import PorterStemmer\n",
        "\n",
        "porter=PorterStemmer()\n",
        "\n",
        "def stemSentence(sentence):\n",
        "    token_words=word_tokenize(sentence)\n",
        "    token_words\n",
        "    stem_sentence=[]\n",
        "    for word in token_words:\n",
        "        stem_sentence.append(porter.stem(word))\n",
        "        stem_sentence.append(\" \")\n",
        "    return \"\".join(stem_sentence)\n",
        "\n",
        "print(preprocessed_MainText[0])\n",
        "print(\"Stemmed sentence\")\n",
        "x=stemSentence(preprocessed_MainText[0])\n",
        "print(x)"
      ]
    },
    {
      "cell_type": "code",
      "execution_count": null,
      "metadata": {
        "id": "sIXosxQRLMzB"
      },
      "outputs": [],
      "source": [
        "# import nltk\n",
        "# nltk.download('punkt')"
      ]
    },
    {
      "cell_type": "code",
      "execution_count": null,
      "metadata": {
        "id": "Qc6VKwmSQPbq"
      },
      "outputs": [],
      "source": [
        "\n",
        "# #BAG OF WORDS FEATURIZATION\n",
        "# #BoW\n",
        "\n",
        "\n",
        "\n",
        "# count_vect = CountVectorizer()                #####  in scikit-learn\n",
        "# count_vect.fit(preprocessed_MainText)\n",
        "# print(\"some feature names \", count_vect.get_feature_names()[:10])\n",
        "# print('='*50)\n",
        "\n",
        "# final_counts = count_vect.transform(preprocessed_MainText)\n",
        "# print(\"the type of count vectorizer \",type(final_counts))\n",
        "# print(\"the shape of out text BOW vectorizer \",final_counts.get_shape())\n",
        "# print(\"the number of unique words \", final_counts.get_shape()[1])"
      ]
    },
    {
      "cell_type": "code",
      "execution_count": null,
      "metadata": {
        "id": "qJ4fdmC6ZRjP"
      },
      "outputs": [],
      "source": [
        "#bi-gram, tri-gram and n-gram\n",
        "\n",
        "#removing stop words like \"not\" should be avoided before building n-grams\n",
        "\n",
        "\n",
        "\n",
        "count_vect = CountVectorizer(ngram_range=(1,2), min_df=10, max_features=5000)\n",
        "final_bigram_counts = count_vect.fit_transform(preprocessed_MainText)\n",
        "print(\"the type of count vectorizer \",type(final_bigram_counts))\n",
        "print(\"the shape of out text BOW vectorizer \",final_bigram_counts.get_shape())\n",
        "print(\"the number of unique words including both unigrams and bigrams \", final_bigram_counts.get_shape()[1])\n",
        "\n",
        "\n"
      ]
    },
    {
      "cell_type": "code",
      "execution_count": null,
      "metadata": {
        "id": "Abl2FVSoRD4a"
      },
      "outputs": [],
      "source": [
        " #TF-IDF (TERM FREQUENCY - INVERSE DOCUMENT FREQUENCY)\n",
        "\n",
        "\n",
        "\n",
        "tf_idf_vect = TfidfVectorizer(ngram_range=(1,2), min_df=10)\n",
        "tf_idf_vect.fit(preprocessed_Heading)\n",
        "print(\"some sample features(unique words in the corpus)\",tf_idf_vect.get_feature_names()[0:10])\n",
        "print('='*50)\n",
        "\n",
        "final_tf_idf = tf_idf_vect.transform(preprocessed_Heading)\n",
        "print(\"the type of count vectorizer \",type(final_tf_idf))\n",
        "print(\"the shape of out text TFIDF vectorizer \",final_tf_idf.get_shape())\n",
        "print(\"the number of unique words including both unigrams and bigrams \", final_tf_idf.get_shape()[1])\n",
        "\n",
        "\n",
        "\n",
        "\n"
      ]
    },
    {
      "cell_type": "code",
      "execution_count": null,
      "metadata": {
        "id": "kUrZbaQmtZbS"
      },
      "outputs": [],
      "source": [
        "from scipy import sparse\n",
        "\n",
        "#sparse.save_npz(\"/content/drive/MyDrive/Colab Notebooks/final_tf_idf_matrix.npz\", final_tf_idf)\n",
        "your_matrix_back = sparse.load_npz(\"/content/drive/MyDrive/Colab Notebooks/final_tf_idf_matrix.npz\")"
      ]
    },
    {
      "cell_type": "code",
      "execution_count": null,
      "metadata": {
        "colab": {
          "base_uri": "https://localhost:8080/"
        },
        "id": "2sqQsPDCwxIk",
        "outputId": "e36135d8-6055-4f44-d1c7-b8070a8a44b0"
      },
      "outputs": [
        {
          "output_type": "execute_result",
          "data": {
            "text/plain": [
              "scipy.sparse.csr.csr_matrix"
            ]
          },
          "metadata": {},
          "execution_count": 66
        }
      ],
      "source": [
        "type(your_matrix_back)"
      ]
    },
    {
      "cell_type": "code",
      "execution_count": null,
      "metadata": {
        "colab": {
          "base_uri": "https://localhost:8080/",
          "height": 165
        },
        "id": "HqxIGgehm0-7",
        "outputId": "731619d7-1267-402a-e36a-0b0d4fdbb2ff"
      },
      "outputs": [
        {
          "ename": "NameError",
          "evalue": "ignored",
          "output_type": "error",
          "traceback": [
            "\u001b[0;31m---------------------------------------------------------------------------\u001b[0m",
            "\u001b[0;31mNameError\u001b[0m                                 Traceback (most recent call last)",
            "\u001b[0;32m<ipython-input-74-bc9dde1934f3>\u001b[0m in \u001b[0;36m<module>\u001b[0;34m()\u001b[0m\n\u001b[0;32m----> 1\u001b[0;31m \u001b[0mtype\u001b[0m\u001b[0;34m(\u001b[0m\u001b[0mfinal_tf_idf\u001b[0m\u001b[0;34m)\u001b[0m\u001b[0;34m\u001b[0m\u001b[0;34m\u001b[0m\u001b[0m\n\u001b[0m",
            "\u001b[0;31mNameError\u001b[0m: name 'final_tf_idf' is not defined"
          ]
        }
      ],
      "source": [
        "type(final_tf_idf)"
      ]
    },
    {
      "cell_type": "code",
      "execution_count": null,
      "metadata": {
        "id": "Kwm96qDgnFox"
      },
      "outputs": [],
      "source": [
        "your_matrix_back.to()"
      ]
    },
    {
      "cell_type": "code",
      "execution_count": null,
      "metadata": {
        "id": "8U0PB-YL_E0_"
      },
      "outputs": [],
      "source": [
        "\n",
        "\n",
        "\n",
        "\n",
        "\n",
        "# # Train your own Word2Vec model using your own text corpus\n",
        "# i=0\n",
        "# list_of_sentance=[]\n",
        "# for sentance in preprocessed_Heading:\n",
        "#     list_of_sentance.append(sentance.split())"
      ]
    },
    {
      "cell_type": "code",
      "execution_count": null,
      "metadata": {
        "id": "nJ8LZgCKluVd"
      },
      "outputs": [],
      "source": [
        "# list_of_sentance[0]"
      ]
    },
    {
      "cell_type": "code",
      "execution_count": null,
      "metadata": {
        "id": "exkyikzd-1d0"
      },
      "outputs": [],
      "source": [
        "\n",
        "######--------word2vec-------------\n",
        "# from gensim.models import Word2Vec\n",
        "\n",
        "# want_to_train_w2v = True\n",
        "\n",
        "\n",
        "# if want_to_train_w2v:\n",
        "#     # min_count = 5 considers only words that occured atleast 5 times\n",
        "#     w2v_model=Word2Vec(list_of_sentance,min_count=5,size=50, workers=4)\n",
        "#     print(w2v_model.wv.most_similar('great'))\n",
        "#     print('='*50)\n",
        "#     print(w2v_model.wv.most_similar('worst'))"
      ]
    },
    {
      "cell_type": "code",
      "execution_count": null,
      "metadata": {
        "id": "U6MgjI3ufcPm"
      },
      "outputs": [],
      "source": [
        "# print(w2v_model)"
      ]
    },
    {
      "cell_type": "code",
      "execution_count": null,
      "metadata": {
        "id": "eDQpSX-giLJW"
      },
      "outputs": [],
      "source": [
        ""
      ]
    },
    {
      "cell_type": "code",
      "execution_count": null,
      "metadata": {
        "id": "Vb1hUv3k5oLu"
      },
      "outputs": [],
      "source": [
        "# w2v_model.save('w2v_model.bin')\n",
        "# # load model\n",
        "# new_model = Word2Vec.load('w2v_model.bin')\n",
        "# print(new_model)\n",
        "\n",
        "\n"
      ]
    },
    {
      "cell_type": "code",
      "execution_count": null,
      "metadata": {
        "id": "DUyyywmfgAnu"
      },
      "outputs": [],
      "source": [
        "\n",
        "\n",
        "# X = w2v_model[w2v_model.wv.vocab]"
      ]
    },
    {
      "cell_type": "code",
      "execution_count": null,
      "metadata": {
        "id": "QkmuyHbPgU8i"
      },
      "outputs": [],
      "source": [
        "# X"
      ]
    },
    {
      "cell_type": "code",
      "execution_count": null,
      "metadata": {
        "id": "UTHkJF-Egfty"
      },
      "outputs": [],
      "source": [
        "# train_df.columns"
      ]
    },
    {
      "cell_type": "code",
      "execution_count": null,
      "metadata": {
        "id": "9Zz5c0WIhPXx"
      },
      "outputs": [],
      "source": [
        "# X.shape"
      ]
    },
    {
      "cell_type": "code",
      "execution_count": null,
      "metadata": {
        "id": "Iirynt_WjLa5"
      },
      "outputs": [],
      "source": [
        "# X[0]"
      ]
    },
    {
      "cell_type": "code",
      "execution_count": null,
      "metadata": {
        "id": "koM9J96wgtU_"
      },
      "outputs": [],
      "source": [
        "\n",
        "\n",
        "\n",
        "Y= train_df.drop(axis=\"columns\", labels=['Qid', 'PostDateTime', 'WhenAccountMade', 'Karma', 'NumAnswers',\n",
        "       'Heading', 'MainText', 'PrimarySubject', 'SecondarySubject',\n",
        "       'TertiarySubject', 'OtherSubject',]).to_numpy().astype(np.float64)"
      ]
    },
    {
      "cell_type": "code",
      "execution_count": null,
      "metadata": {
        "colab": {
          "base_uri": "https://localhost:8080/"
        },
        "id": "73mX8mr8hcTC",
        "outputId": "5f38dc50-8604-4d50-c3c5-b6f2ae817113"
      },
      "outputs": [
        {
          "output_type": "execute_result",
          "data": {
            "text/plain": [
              "(1685091, 1)"
            ]
          },
          "metadata": {},
          "execution_count": 68
        }
      ],
      "source": [
        "Y.shape"
      ]
    },
    {
      "cell_type": "code",
      "execution_count": null,
      "metadata": {
        "colab": {
          "base_uri": "https://localhost:8080/"
        },
        "id": "0DhuCz-lyMci",
        "outputId": "1d529f72-c241-4d83-9b87-4a7abcefce5d"
      },
      "outputs": [
        {
          "output_type": "execute_result",
          "data": {
            "text/plain": [
              "(1685091, 122025)"
            ]
          },
          "metadata": {},
          "execution_count": 69
        }
      ],
      "source": [
        "your_matrix_back.shape"
      ]
    },
    {
      "cell_type": "code",
      "execution_count": null,
      "metadata": {
        "id": "U9giE1PHDEFY"
      },
      "outputs": [],
      "source": [
        ""
      ]
    },
    {
      "cell_type": "code",
      "execution_count": null,
      "metadata": {
        "id": "VDu7IWY3zNrk"
      },
      "outputs": [],
      "source": [
        "\n",
        "\n",
        "X=your_matrix_back"
      ]
    },
    {
      "cell_type": "code",
      "execution_count": null,
      "metadata": {
        "id": "134gJx9_zbl8"
      },
      "outputs": [],
      "source": [
        "\n",
        "\n",
        "\n",
        "from sklearn.model_selection import train_test_split \n",
        "\n",
        "\n",
        "train_X, test_X, train_Y, test_Y = train_test_split(X, Y, train_size=0.7)"
      ]
    },
    {
      "cell_type": "code",
      "execution_count": null,
      "metadata": {
        "colab": {
          "base_uri": "https://localhost:8080/"
        },
        "id": "QAvayx2QzrSZ",
        "outputId": "88580cd4-677d-4aac-e730-3eb5220e068e"
      },
      "outputs": [
        {
          "output_type": "stream",
          "name": "stdout",
          "text": [
            "train_X dimension=  (1179563, 122025)\n",
            "test_X dimension=  (505528, 122025)\n",
            "train_Y dimension=  (1179563, 1)\n",
            "test_Y dimension=  (505528, 1)\n"
          ]
        }
      ],
      "source": [
        "\n",
        "\n",
        "print('train_X dimension= ', train_X.shape)\n",
        "print('test_X dimension= ', test_X.shape)\n",
        "print('train_Y dimension= ', train_Y.shape)\n",
        "print('test_Y dimension= ', test_Y.shape)"
      ]
    },
    {
      "cell_type": "code",
      "execution_count": null,
      "metadata": {
        "colab": {
          "base_uri": "https://localhost:8080/"
        },
        "id": "pmj7xeTt6VAC",
        "outputId": "bdbd0cc4-61aa-441f-be30-13396b1d9b52"
      },
      "outputs": [
        {
          "output_type": "stream",
          "name": "stderr",
          "text": [
            "/usr/local/lib/python3.7/dist-packages/sklearn/utils/validation.py:985: DataConversionWarning: A column-vector y was passed when a 1d array was expected. Please change the shape of y to (n_samples, ), for example using ravel().\n",
            "  y = column_or_1d(y, warn=True)\n"
          ]
        },
        {
          "output_type": "execute_result",
          "data": {
            "text/plain": [
              "LogisticRegression(multi_class='ovr', solver='liblinear')"
            ]
          },
          "metadata": {},
          "execution_count": 73
        }
      ],
      "source": [
        "\n",
        "\n",
        "\n",
        "from sklearn import model_selection\n",
        "from sklearn import linear_model\n",
        "from sklearn import metrics\n",
        "\n",
        "\n",
        "#######   NOW HERE I AM APPLYING LOGISTIC REGRESSION MODEL AND THEN PREDICTING THE TARGET COUNTRY USING THIS MODEL I AM USING HERE IS LIBLINEAR SOLVER \n",
        "##########  BECAUSE it is beneficial  with huge dimension of datsets\n",
        "\n",
        "\n",
        "##### and  OVR means == one verses the rest   i am using because  of multi class classification\n",
        "\n",
        "\n",
        "\n",
        "lm = linear_model.LogisticRegression(multi_class='ovr', solver='liblinear')\n",
        "lm.fit(train_X, train_Y)"
      ]
    },
    {
      "cell_type": "code",
      "execution_count": null,
      "metadata": {
        "colab": {
          "base_uri": "https://localhost:8080/"
        },
        "id": "Q_NiwB_V6qkC",
        "outputId": "c1f07143-36f7-4140-e6e0-1d115267838f"
      },
      "outputs": [
        {
          "output_type": "execute_result",
          "data": {
            "text/plain": [
              "0.9792672215980124"
            ]
          },
          "metadata": {},
          "execution_count": 75
        }
      ],
      "source": [
        "\n",
        "\n",
        "\n",
        "Y_predicted=lm.predict(test_X)\n",
        "\n",
        "#### here i am predicting  the test_X data and the i am comparing the predicted y with thr truth y value and the finding the score \n",
        "\n",
        "### so accuracy we are finding here is about 98%\n",
        "\n",
        "lm.score(test_X, test_Y)"
      ]
    },
    {
      "cell_type": "code",
      "source": [
        "\n",
        "####################################\n",
        "\n",
        "print(accuracy_score(test_Y,Y_predicted ))\n",
        "\n",
        "\n",
        "print( f1_score(test_Y,Y_predicted,average=\"weighted\"))\n",
        "\n",
        "\n",
        "print(recall_score(test_Y,Y_predicted,average=\"macro\"))\n",
        "\n",
        "\n",
        "print(precision_score(test_Y,Y_predicted,average=\"macro\"))\n",
        "\n",
        "\n",
        "#print(classification_report(test_Y,Y_predicted))\n",
        "\n",
        "\n",
        "print(confusion_matrix(test_Y,Y_predicted))\n",
        "\n",
        "\n",
        "\n",
        "\n"
      ],
      "metadata": {
        "colab": {
          "base_uri": "https://localhost:8080/"
        },
        "id": "MLJMcTXa6OGI",
        "outputId": "069c1ad0-7c4e-4277-95bc-684b426c04cf"
      },
      "execution_count": null,
      "outputs": [
        {
          "output_type": "stream",
          "name": "stdout",
          "text": [
            "0.9792672215980124\n",
            "0.9693665534974973\n",
            "0.20824644660869915\n"
          ]
        },
        {
          "output_type": "stream",
          "name": "stderr",
          "text": [
            "/usr/local/lib/python3.7/dist-packages/sklearn/metrics/_classification.py:1308: UndefinedMetricWarning: Precision is ill-defined and being set to 0.0 in labels with no predicted samples. Use `zero_division` parameter to control this behavior.\n",
            "  _warn_prf(average, modifier, msg_start, len(result))\n"
          ]
        },
        {
          "output_type": "stream",
          "name": "stdout",
          "text": [
            "0.3627747690008311\n",
            "[[494951      0      6     79      0]\n",
            " [  4600      0      2      5      0]\n",
            " [  2660      0      7     18      0]\n",
            " [  2201      0      4     89      0]\n",
            " [   906      0      0      0      0]]\n"
          ]
        }
      ]
    },
    {
      "cell_type": "markdown",
      "metadata": {
        "id": "1JEute-K7ICW"
      },
      "source": [
        "NOW I AM TAKING TEST DATA:"
      ]
    },
    {
      "cell_type": "code",
      "execution_count": null,
      "metadata": {
        "colab": {
          "base_uri": "https://localhost:8080/"
        },
        "id": "Suc_x4Bz7-kW",
        "outputId": "c1586822-c49a-4bcf-ba20-e647fea26322"
      },
      "outputs": [
        {
          "data": {
            "text/plain": [
              "Index(['Qid', 'PostDateTime', 'WhenAccountMade', 'Karma', 'NumAnswers',\n",
              "       'Heading', 'MainText', 'PrimarySubject', 'SecondarySubject',\n",
              "       'TertiarySubject', 'OtherSubject'],\n",
              "      dtype='object')"
            ]
          },
          "execution_count": 83,
          "metadata": {},
          "output_type": "execute_result"
        }
      ],
      "source": [
        "test_df.columns"
      ]
    },
    {
      "cell_type": "code",
      "execution_count": null,
      "metadata": {
        "id": "ZWaOt24w7Egs"
      },
      "outputs": [],
      "source": [
        "\n",
        "\n",
        "\n",
        "# from tqdm import tqdm\n",
        "# preprocessed_Test_Heading = []\n",
        "# # tqdm is for printing the status bar\n",
        "\n",
        "\n",
        "# for sentence in tqdm(test_df['Heading'].values):\n",
        "#     sentence = re.sub(r\"http\\S+\", \"\", sentence)\n",
        "#     sentence = BeautifulSoup(sentence, 'lxml').get_text()\n",
        "#     sentence = decontracted(sentence)\n",
        "#     sentence = re.sub(\"\\S*\\d\\S*\", \"\", sentence).strip()\n",
        "#     sentence = re.sub('[^A-Za-z]+', ' ', sentence)\n",
        "   \n",
        "#     sentence = ' '.join(e.lower() for e in sentence.split() if e.lower() not in stopwords)\n",
        "#     preprocessed_Test_Heading.append(sentence.strip())\n",
        "\n"
      ]
    },
    {
      "cell_type": "code",
      "execution_count": null,
      "metadata": {
        "id": "TTOW-yBs-N5z"
      },
      "outputs": [],
      "source": [
        "\n",
        "\n",
        "\n",
        "#TF-IDF (TERM FREQUENCY - INVERSE DOCUMENT FREQUENCY)\n",
        "\n",
        "\n",
        "\n",
        "# tf_idf_vect = TfidfVectorizer(ngram_range=(1,2), min_df=10)\n",
        "# tf_idf_vect.fit(preprocessed_Test_Heading)\n",
        "# print(\"some sample features(unique words in the corpus)\",tf_idf_vect.get_feature_names()[0:10])\n",
        "# print('='*50)\n",
        "\n",
        "# final_tf_idf = tf_idf_vect.transform(preprocessed_Test_Heading)\n",
        "# print(\"the type of count vectorizer \",type(final_tf_idf))\n",
        "# print(\"the shape of out text TFIDF vectorizer \",final_tf_idf.get_shape())\n",
        "# print(\"the number of unique words including both unigrams and bigrams \", final_tf_idf.get_shape()[1])\n"
      ]
    },
    {
      "cell_type": "code",
      "execution_count": null,
      "metadata": {
        "id": "6vqPEcuv-8ML"
      },
      "outputs": [],
      "source": [
        "\n",
        "\n",
        "from scipy import sparse\n",
        "\n",
        "#sparse.save_npz(\"/content/drive/MyDrive/Colab Notebooks/final_tf_idf_matrix_Test.npz\", final_tf_idf)\n",
        "your_matrix_back_Test = sparse.load_npz(\"/content/drive/MyDrive/Colab Notebooks/final_tf_idf_matrix_Test.npz\")"
      ]
    },
    {
      "cell_type": "code",
      "execution_count": null,
      "metadata": {
        "colab": {
          "base_uri": "https://localhost:8080/"
        },
        "id": "za_Cvr1FALaE",
        "outputId": "f9a202b6-4ccd-4d38-9839-6a98e0433eaf"
      },
      "outputs": [
        {
          "data": {
            "text/plain": [
              "(1685105, 121892)"
            ]
          },
          "execution_count": 85,
          "metadata": {},
          "output_type": "execute_result"
        }
      ],
      "source": [
        "your_matrix_back_Test.shape"
      ]
    },
    {
      "cell_type": "code",
      "execution_count": null,
      "metadata": {
        "colab": {
          "base_uri": "https://localhost:8080/"
        },
        "id": "FwFj-Pw-CVLS",
        "outputId": "00e4016c-9bf0-46d5-95f3-ec59ebf8ade9"
      },
      "outputs": [
        {
          "data": {
            "text/plain": [
              "scipy.sparse.csr.csr_matrix"
            ]
          },
          "execution_count": 86,
          "metadata": {},
          "output_type": "execute_result"
        }
      ],
      "source": [
        "type(your_matrix_back_Test)"
      ]
    },
    {
      "cell_type": "code",
      "execution_count": null,
      "metadata": {
        "colab": {
          "base_uri": "https://localhost:8080/",
          "height": 346
        },
        "id": "9xZu2Bd7_fwz",
        "outputId": "4faef4e0-4a3f-47c5-c1a6-e8e8416caa20"
      },
      "outputs": [
        {
          "ename": "ValueError",
          "evalue": "ignored",
          "output_type": "error",
          "traceback": [
            "\u001b[0;31m---------------------------------------------------------------------------\u001b[0m",
            "\u001b[0;31mValueError\u001b[0m                                Traceback (most recent call last)",
            "\u001b[0;32m<ipython-input-91-aaa0463efcf6>\u001b[0m in \u001b[0;36m<module>\u001b[0;34m()\u001b[0m\n\u001b[1;32m      5\u001b[0m \u001b[0;34m\u001b[0m\u001b[0m\n\u001b[1;32m      6\u001b[0m \u001b[0;34m\u001b[0m\u001b[0m\n\u001b[0;32m----> 7\u001b[0;31m \u001b[0mY_predicted\u001b[0m \u001b[0;34m=\u001b[0m \u001b[0mlm\u001b[0m\u001b[0;34m.\u001b[0m\u001b[0mpredict\u001b[0m\u001b[0;34m(\u001b[0m\u001b[0myour_matrix_back_Test\u001b[0m\u001b[0;34m)\u001b[0m\u001b[0;34m\u001b[0m\u001b[0;34m\u001b[0m\u001b[0m\n\u001b[0m",
            "\u001b[0;32m/usr/local/lib/python3.7/dist-packages/sklearn/linear_model/_base.py\u001b[0m in \u001b[0;36mpredict\u001b[0;34m(self, X)\u001b[0m\n\u001b[1;32m    423\u001b[0m             \u001b[0mPredicted\u001b[0m \u001b[0;32mclass\u001b[0m \u001b[0mlabel\u001b[0m \u001b[0mper\u001b[0m \u001b[0msample\u001b[0m\u001b[0;34m.\u001b[0m\u001b[0;34m\u001b[0m\u001b[0;34m\u001b[0m\u001b[0m\n\u001b[1;32m    424\u001b[0m         \"\"\"\n\u001b[0;32m--> 425\u001b[0;31m         \u001b[0mscores\u001b[0m \u001b[0;34m=\u001b[0m \u001b[0mself\u001b[0m\u001b[0;34m.\u001b[0m\u001b[0mdecision_function\u001b[0m\u001b[0;34m(\u001b[0m\u001b[0mX\u001b[0m\u001b[0;34m)\u001b[0m\u001b[0;34m\u001b[0m\u001b[0;34m\u001b[0m\u001b[0m\n\u001b[0m\u001b[1;32m    426\u001b[0m         \u001b[0;32mif\u001b[0m \u001b[0mlen\u001b[0m\u001b[0;34m(\u001b[0m\u001b[0mscores\u001b[0m\u001b[0;34m.\u001b[0m\u001b[0mshape\u001b[0m\u001b[0;34m)\u001b[0m \u001b[0;34m==\u001b[0m \u001b[0;36m1\u001b[0m\u001b[0;34m:\u001b[0m\u001b[0;34m\u001b[0m\u001b[0;34m\u001b[0m\u001b[0m\n\u001b[1;32m    427\u001b[0m             \u001b[0mindices\u001b[0m \u001b[0;34m=\u001b[0m \u001b[0;34m(\u001b[0m\u001b[0mscores\u001b[0m \u001b[0;34m>\u001b[0m \u001b[0;36m0\u001b[0m\u001b[0;34m)\u001b[0m\u001b[0;34m.\u001b[0m\u001b[0mastype\u001b[0m\u001b[0;34m(\u001b[0m\u001b[0mint\u001b[0m\u001b[0;34m)\u001b[0m\u001b[0;34m\u001b[0m\u001b[0;34m\u001b[0m\u001b[0m\n",
            "\u001b[0;32m/usr/local/lib/python3.7/dist-packages/sklearn/linear_model/_base.py\u001b[0m in \u001b[0;36mdecision_function\u001b[0;34m(self, X)\u001b[0m\n\u001b[1;32m    405\u001b[0m         \u001b[0mcheck_is_fitted\u001b[0m\u001b[0;34m(\u001b[0m\u001b[0mself\u001b[0m\u001b[0;34m)\u001b[0m\u001b[0;34m\u001b[0m\u001b[0;34m\u001b[0m\u001b[0m\n\u001b[1;32m    406\u001b[0m \u001b[0;34m\u001b[0m\u001b[0m\n\u001b[0;32m--> 407\u001b[0;31m         \u001b[0mX\u001b[0m \u001b[0;34m=\u001b[0m \u001b[0mself\u001b[0m\u001b[0;34m.\u001b[0m\u001b[0m_validate_data\u001b[0m\u001b[0;34m(\u001b[0m\u001b[0mX\u001b[0m\u001b[0;34m,\u001b[0m \u001b[0maccept_sparse\u001b[0m\u001b[0;34m=\u001b[0m\u001b[0;34m\"csr\"\u001b[0m\u001b[0;34m,\u001b[0m \u001b[0mreset\u001b[0m\u001b[0;34m=\u001b[0m\u001b[0;32mFalse\u001b[0m\u001b[0;34m)\u001b[0m\u001b[0;34m\u001b[0m\u001b[0;34m\u001b[0m\u001b[0m\n\u001b[0m\u001b[1;32m    408\u001b[0m         \u001b[0mscores\u001b[0m \u001b[0;34m=\u001b[0m \u001b[0msafe_sparse_dot\u001b[0m\u001b[0;34m(\u001b[0m\u001b[0mX\u001b[0m\u001b[0;34m,\u001b[0m \u001b[0mself\u001b[0m\u001b[0;34m.\u001b[0m\u001b[0mcoef_\u001b[0m\u001b[0;34m.\u001b[0m\u001b[0mT\u001b[0m\u001b[0;34m,\u001b[0m \u001b[0mdense_output\u001b[0m\u001b[0;34m=\u001b[0m\u001b[0;32mTrue\u001b[0m\u001b[0;34m)\u001b[0m \u001b[0;34m+\u001b[0m \u001b[0mself\u001b[0m\u001b[0;34m.\u001b[0m\u001b[0mintercept_\u001b[0m\u001b[0;34m\u001b[0m\u001b[0;34m\u001b[0m\u001b[0m\n\u001b[1;32m    409\u001b[0m         \u001b[0;32mreturn\u001b[0m \u001b[0mscores\u001b[0m\u001b[0;34m.\u001b[0m\u001b[0mravel\u001b[0m\u001b[0;34m(\u001b[0m\u001b[0;34m)\u001b[0m \u001b[0;32mif\u001b[0m \u001b[0mscores\u001b[0m\u001b[0;34m.\u001b[0m\u001b[0mshape\u001b[0m\u001b[0;34m[\u001b[0m\u001b[0;36m1\u001b[0m\u001b[0;34m]\u001b[0m \u001b[0;34m==\u001b[0m \u001b[0;36m1\u001b[0m \u001b[0;32melse\u001b[0m \u001b[0mscores\u001b[0m\u001b[0;34m\u001b[0m\u001b[0;34m\u001b[0m\u001b[0m\n",
            "\u001b[0;32m/usr/local/lib/python3.7/dist-packages/sklearn/base.py\u001b[0m in \u001b[0;36m_validate_data\u001b[0;34m(self, X, y, reset, validate_separately, **check_params)\u001b[0m\n\u001b[1;32m    578\u001b[0m \u001b[0;34m\u001b[0m\u001b[0m\n\u001b[1;32m    579\u001b[0m         \u001b[0;32mif\u001b[0m \u001b[0;32mnot\u001b[0m \u001b[0mno_val_X\u001b[0m \u001b[0;32mand\u001b[0m \u001b[0mcheck_params\u001b[0m\u001b[0;34m.\u001b[0m\u001b[0mget\u001b[0m\u001b[0;34m(\u001b[0m\u001b[0;34m\"ensure_2d\"\u001b[0m\u001b[0;34m,\u001b[0m \u001b[0;32mTrue\u001b[0m\u001b[0;34m)\u001b[0m\u001b[0;34m:\u001b[0m\u001b[0;34m\u001b[0m\u001b[0;34m\u001b[0m\u001b[0m\n\u001b[0;32m--> 580\u001b[0;31m             \u001b[0mself\u001b[0m\u001b[0;34m.\u001b[0m\u001b[0m_check_n_features\u001b[0m\u001b[0;34m(\u001b[0m\u001b[0mX\u001b[0m\u001b[0;34m,\u001b[0m \u001b[0mreset\u001b[0m\u001b[0;34m=\u001b[0m\u001b[0mreset\u001b[0m\u001b[0;34m)\u001b[0m\u001b[0;34m\u001b[0m\u001b[0;34m\u001b[0m\u001b[0m\n\u001b[0m\u001b[1;32m    581\u001b[0m \u001b[0;34m\u001b[0m\u001b[0m\n\u001b[1;32m    582\u001b[0m         \u001b[0;32mreturn\u001b[0m \u001b[0mout\u001b[0m\u001b[0;34m\u001b[0m\u001b[0;34m\u001b[0m\u001b[0m\n",
            "\u001b[0;32m/usr/local/lib/python3.7/dist-packages/sklearn/base.py\u001b[0m in \u001b[0;36m_check_n_features\u001b[0;34m(self, X, reset)\u001b[0m\n\u001b[1;32m    394\u001b[0m         \u001b[0;32mif\u001b[0m \u001b[0mn_features\u001b[0m \u001b[0;34m!=\u001b[0m \u001b[0mself\u001b[0m\u001b[0;34m.\u001b[0m\u001b[0mn_features_in_\u001b[0m\u001b[0;34m:\u001b[0m\u001b[0;34m\u001b[0m\u001b[0;34m\u001b[0m\u001b[0m\n\u001b[1;32m    395\u001b[0m             raise ValueError(\n\u001b[0;32m--> 396\u001b[0;31m                 \u001b[0;34mf\"X has {n_features} features, but {self.__class__.__name__} \"\u001b[0m\u001b[0;34m\u001b[0m\u001b[0;34m\u001b[0m\u001b[0m\n\u001b[0m\u001b[1;32m    397\u001b[0m                 \u001b[0;34mf\"is expecting {self.n_features_in_} features as input.\"\u001b[0m\u001b[0;34m\u001b[0m\u001b[0;34m\u001b[0m\u001b[0m\n\u001b[1;32m    398\u001b[0m             )\n",
            "\u001b[0;31mValueError\u001b[0m: X has 121892 features, but LogisticRegression is expecting 122025 features as input."
          ]
        }
      ],
      "source": [
        "\n",
        "\n",
        "\n",
        "\n",
        "\n",
        "\n",
        "Y_predicted = lm.predict(your_matrix_back_Test) "
      ]
    },
    {
      "cell_type": "markdown",
      "metadata": {
        "id": "BQ2evDo_sJLG"
      },
      "source": [
        "JOINING THE TEST AND TRAIN DATAFRAME TOGETHER :-\n",
        "\n",
        "\n",
        "LETS DO NOW :- \n",
        "\n",
        "\n",
        "######\n",
        "######\n",
        "######\n",
        "######\n"
      ]
    },
    {
      "cell_type": "code",
      "execution_count": null,
      "metadata": {
        "id": "zX1qC9gMqnzq"
      },
      "outputs": [],
      "source": [
        "#   NOW ITS BIGTIME :-\n",
        "\n",
        "\n",
        "## mow i am joining the dataframe beacuse of feature difference  in the test data  and train datasets:-\n",
        "\n",
        "##########\n",
        "##########\n",
        "###########\n",
        "###########\n",
        "###########\n",
        "\n",
        "\n",
        "joint_df = train_df.append(test_df)\n"
      ]
    },
    {
      "cell_type": "code",
      "execution_count": null,
      "metadata": {
        "colab": {
          "base_uri": "https://localhost:8080/"
        },
        "id": "X9Fz9LZuwt24",
        "outputId": "90068b77-9f18-4c72-d757-a8b74ff6163f"
      },
      "outputs": [
        {
          "data": {
            "text/plain": [
              "(3370355, 12)"
            ]
          },
          "execution_count": 35,
          "metadata": {},
          "output_type": "execute_result"
        }
      ],
      "source": [
        "joint_df.shape"
      ]
    },
    {
      "cell_type": "code",
      "execution_count": null,
      "metadata": {
        "colab": {
          "base_uri": "https://localhost:8080/"
        },
        "id": "7fvg_rI-w3g_",
        "outputId": "d73bfb5b-3789-4063-d087-6eade6d140dd"
      },
      "outputs": [
        {
          "output_type": "execute_result",
          "data": {
            "text/plain": [
              "Qid                       0\n",
              "PostDateTime              0\n",
              "WhenAccountMade           0\n",
              "Karma                     0\n",
              "NumAnswers                0\n",
              "Heading                   0\n",
              "MainText                  0\n",
              "PrimarySubject            0\n",
              "SecondarySubject          0\n",
              "TertiarySubject           0\n",
              "OtherSubject              0\n",
              "Target              1685264\n",
              "dtype: int64"
            ]
          },
          "metadata": {},
          "execution_count": 41
        }
      ],
      "source": [
        "joint_df.isna().sum()"
      ]
    },
    {
      "cell_type": "code",
      "execution_count": null,
      "metadata": {
        "colab": {
          "base_uri": "https://localhost:8080/"
        },
        "id": "-IMtWhi5xDsn",
        "outputId": "def1c9a5-5093-4f8a-e2d3-15a622a03aee"
      },
      "outputs": [
        {
          "name": "stderr",
          "output_type": "stream",
          "text": [
            "100%|██████████| 3370355/3370355 [15:00<00:00, 3741.48it/s]\n"
          ]
        }
      ],
      "source": [
        "\n",
        "from tqdm import tqdm\n",
        "preprocessed_joint_Heading = []\n",
        "# tqdm is for printing the status bar\n",
        "\n",
        "\n",
        "for sentence in tqdm(joint_df['Heading'].values):\n",
        "    sentence = re.sub(r\"http\\S+\", \"\", sentence)\n",
        "    sentence = BeautifulSoup(sentence, 'lxml').get_text()\n",
        "    sentence = decontracted(sentence)\n",
        "    sentence = re.sub(\"\\S*\\d\\S*\", \"\", sentence).strip()\n",
        "    sentence = re.sub('[^A-Za-z]+', ' ', sentence)\n",
        "   \n",
        "    sentence = ' '.join(e.lower() for e in sentence.split() if e.lower() not in stopwords)\n",
        "    preprocessed_joint_Heading.append(sentence.strip())\n",
        "\n",
        "\n"
      ]
    },
    {
      "cell_type": "code",
      "execution_count": null,
      "metadata": {
        "colab": {
          "base_uri": "https://localhost:8080/"
        },
        "id": "Hg469u7K1EgK",
        "outputId": "37c6aa55-85aa-423e-ceb6-79790e53340a"
      },
      "outputs": [
        {
          "data": {
            "text/plain": [
              "list"
            ]
          },
          "execution_count": 96,
          "metadata": {},
          "output_type": "execute_result"
        }
      ],
      "source": [
        "type(preprocessed_joint_Heading)"
      ]
    },
    {
      "cell_type": "code",
      "execution_count": null,
      "metadata": {
        "id": "H6XTBRh3-RUk"
      },
      "outputs": [],
      "source": [
        ""
      ]
    },
    {
      "cell_type": "code",
      "execution_count": null,
      "metadata": {
        "colab": {
          "base_uri": "https://localhost:8080/"
        },
        "id": "eJftUqqL12d2",
        "outputId": "eed01ecf-a3be-4594-a85e-62c616ce2707"
      },
      "outputs": [
        {
          "name": "stderr",
          "output_type": "stream",
          "text": [
            "/usr/local/lib/python3.7/dist-packages/sklearn/utils/deprecation.py:87: FutureWarning: Function get_feature_names is deprecated; get_feature_names is deprecated in 1.0 and will be removed in 1.2. Please use get_feature_names_out instead.\n",
            "  warnings.warn(msg, category=FutureWarning)\n"
          ]
        },
        {
          "name": "stdout",
          "output_type": "stream",
          "text": [
            "some sample features(unique words in the corpus) ['aa', 'aaa', 'aabb', 'aac', 'aac audio', 'aac files', 'aaplication', 'aapt', 'aar', 'aasm']\n",
            "==================================================\n",
            "the type of count vectorizer  <class 'scipy.sparse.csr.csr_matrix'>\n",
            "the shape of out text TFIDF vectorizer  (3370355, 233495)\n",
            "the number of unique words including both unigrams and bigrams  233495\n"
          ]
        }
      ],
      "source": [
        "\n",
        "\n",
        "#TF-IDF (TERM FREQUENCY - INVERSE DOCUMENT FREQUENCY)\n",
        "\n",
        "\n",
        "\n",
        "tf_idf_vect = TfidfVectorizer(ngram_range=(1,2), min_df=10)\n",
        "tf_idf_vect.fit(preprocessed_joint_Heading)\n",
        "print(\"some sample features(unique words in the corpus)\",tf_idf_vect.get_feature_names()[0:10])\n",
        "print('='*50)\n",
        "\n",
        "final_tf_idf = tf_idf_vect.transform(preprocessed_joint_Heading)\n",
        "print(\"the type of count vectorizer \",type(final_tf_idf))\n",
        "print(\"the shape of out text TFIDF vectorizer \",final_tf_idf.get_shape())\n",
        "print(\"the number of unique words including both unigrams and bigrams \", final_tf_idf.get_shape()[1])\n"
      ]
    },
    {
      "cell_type": "code",
      "execution_count": null,
      "metadata": {
        "id": "1UxBtngy244N"
      },
      "outputs": [],
      "source": [
        "\n",
        "\n",
        "from scipy import sparse\n",
        "\n",
        "#sparse.save_npz(\"/content/drive/MyDrive/Colab Notebooks/new_final_tf_idf_matrix_joint.npz\", final_tf_idf)\n",
        "your_matrix_back_joint = sparse.load_npz(\"/content/drive/MyDrive/Colab Notebooks/new_final_tf_idf_matrix_joint.npz\")"
      ]
    },
    {
      "cell_type": "code",
      "execution_count": null,
      "metadata": {
        "id": "t7qUu9I85edN"
      },
      "outputs": [],
      "source": [
        "X=your_matrix_back_joint"
      ]
    },
    {
      "cell_type": "code",
      "execution_count": null,
      "metadata": {
        "id": "MGVUC5185lcx"
      },
      "outputs": [],
      "source": [
        "Y= joint_df.drop(axis=\"columns\", labels=['Qid', 'PostDateTime', 'WhenAccountMade', 'Karma', 'NumAnswers',\n",
        "       'Heading', 'MainText', 'PrimarySubject', 'SecondarySubject',\n",
        "       'TertiarySubject', 'OtherSubject',]).to_numpy().astype(np.float64)"
      ]
    },
    {
      "cell_type": "code",
      "source": [
        ""
      ],
      "metadata": {
        "id": "ZQ-Xr4WZ4Xx-"
      },
      "execution_count": null,
      "outputs": []
    },
    {
      "cell_type": "code",
      "execution_count": null,
      "metadata": {
        "colab": {
          "base_uri": "https://localhost:8080/"
        },
        "id": "aQh-Z3F0DJot",
        "outputId": "576aff60-36e7-422a-b2f8-a231e5576832"
      },
      "outputs": [
        {
          "data": {
            "text/plain": [
              "scipy.sparse.csr.csr_matrix"
            ]
          },
          "execution_count": 48,
          "metadata": {},
          "output_type": "execute_result"
        }
      ],
      "source": [
        "type(X)"
      ]
    },
    {
      "cell_type": "code",
      "execution_count": null,
      "metadata": {
        "colab": {
          "base_uri": "https://localhost:8080/"
        },
        "id": "PZ7PmpW_57qZ",
        "outputId": "ce84abb9-a4fe-43ba-ca38-f869f9db419f"
      },
      "outputs": [
        {
          "output_type": "execute_result",
          "data": {
            "text/plain": [
              "(3370355, 233495)"
            ]
          },
          "metadata": {},
          "execution_count": 45
        }
      ],
      "source": [
        "X.shape"
      ]
    },
    {
      "cell_type": "code",
      "execution_count": null,
      "metadata": {
        "colab": {
          "base_uri": "https://localhost:8080/"
        },
        "id": "odetjkZz6BVe",
        "outputId": "1ccef945-eaf7-4b66-be25-7aa91c80105a"
      },
      "outputs": [
        {
          "output_type": "execute_result",
          "data": {
            "text/plain": [
              "(3370355, 1)"
            ]
          },
          "metadata": {},
          "execution_count": 46
        }
      ],
      "source": [
        "Y.shape"
      ]
    },
    {
      "cell_type": "code",
      "execution_count": null,
      "metadata": {
        "colab": {
          "base_uri": "https://localhost:8080/"
        },
        "id": "Fj-UGD7y9IxC",
        "outputId": "3e6e89f9-e32c-4fca-9166-b10ef97cf086"
      },
      "outputs": [
        {
          "output_type": "execute_result",
          "data": {
            "text/plain": [
              "(1685091, 12)"
            ]
          },
          "metadata": {},
          "execution_count": 47
        }
      ],
      "source": [
        "train_df.shape"
      ]
    },
    {
      "cell_type": "code",
      "source": [
        "test_df.shape"
      ],
      "metadata": {
        "colab": {
          "base_uri": "https://localhost:8080/"
        },
        "id": "FP-6rsxs3YeD",
        "outputId": "d96485f5-6bb7-405e-f3ad-0e269b157315"
      },
      "execution_count": null,
      "outputs": [
        {
          "output_type": "execute_result",
          "data": {
            "text/plain": [
              "(1685264, 11)"
            ]
          },
          "metadata": {},
          "execution_count": 64
        }
      ]
    },
    {
      "cell_type": "code",
      "execution_count": null,
      "metadata": {
        "id": "2YMzCuGX3Zw-"
      },
      "outputs": [],
      "source": [
        "from sklearn.model_selection import train_test_split \n",
        "\n",
        "\n",
        "train_X, test_X, train_Y, test_Y = train_test_split(X, Y, train_size=1685091,shuffle=False)"
      ]
    },
    {
      "cell_type": "code",
      "execution_count": null,
      "metadata": {
        "colab": {
          "base_uri": "https://localhost:8080/"
        },
        "id": "9A2AsAMa48bI",
        "outputId": "64f7cd3f-58fd-4f13-e074-5677ce31daf9"
      },
      "outputs": [
        {
          "output_type": "stream",
          "name": "stdout",
          "text": [
            "train_X dimension=  (1685091, 233495)\n",
            "test_X dimension=  (1685264, 233495)\n",
            "train_Y dimension=  (1685091, 1)\n",
            "test_Y dimension=  (1685264, 1)\n"
          ]
        }
      ],
      "source": [
        "print('train_X dimension= ', train_X.shape)\n",
        "print('test_X dimension= ', test_X.shape)\n",
        "print('train_Y dimension= ', train_Y.shape)\n",
        "print('test_Y dimension= ', test_Y.shape)"
      ]
    },
    {
      "cell_type": "markdown",
      "metadata": {
        "id": "zbivEzZludjt"
      },
      "source": [
        "HERE I AM APPLYING THE SOFTMAX REGRESSION OR LOGISTIC REGRESSION FOR MULTICLASS CLASSIFICATION :-\n",
        "\n",
        "\n",
        "SO I AM USING HERE THE \"OVR\" (ONE VS REST) ⚡⚡⚡⚡⚡⚡\n"
      ]
    },
    {
      "cell_type": "code",
      "execution_count": null,
      "metadata": {
        "id": "S_R-UXpu6SPb",
        "colab": {
          "base_uri": "https://localhost:8080/"
        },
        "outputId": "5b0dce01-18e3-4a66-96dc-92abd041359e"
      },
      "outputs": [
        {
          "output_type": "stream",
          "name": "stderr",
          "text": [
            "/usr/local/lib/python3.7/dist-packages/sklearn/utils/validation.py:985: DataConversionWarning: A column-vector y was passed when a 1d array was expected. Please change the shape of y to (n_samples, ), for example using ravel().\n",
            "  y = column_or_1d(y, warn=True)\n"
          ]
        },
        {
          "output_type": "execute_result",
          "data": {
            "text/plain": [
              "LogisticRegression(multi_class='ovr', solver='liblinear')"
            ]
          },
          "metadata": {},
          "execution_count": 50
        }
      ],
      "source": [
        "\n",
        "\n",
        "\n",
        "from sklearn import model_selection\n",
        "from sklearn import linear_model\n",
        "from sklearn import metrics\n",
        "\n",
        "\n",
        "#######   NOW HERE I AM APPLYING LOGISTIC REGRESSION MODEL AND THEN PREDICTING THE TARGET COUNTRY USING THIS MODEL I AM USING HERE IS LIBLINEAR SOLVER \n",
        "##########  BECAUSE it is beneficial  with huge dimension of datsets\n",
        "\n",
        "\n",
        "##### and  OVR means == one verses the rest   i am using because  of multi class classification\n",
        "\n",
        "\n",
        "\n",
        "lm = linear_model.LogisticRegression(multi_class='ovr', solver='liblinear')\n",
        "lm.fit(train_X, train_Y)"
      ]
    },
    {
      "cell_type": "code",
      "execution_count": null,
      "metadata": {
        "id": "HfCriF0ZE9XI"
      },
      "outputs": [],
      "source": [
        "\n",
        "\n",
        "Y_predicted=lm.predict(test_X)"
      ]
    },
    {
      "cell_type": "code",
      "source": [
        "#####---------------------lets find out some metrics----------------------------#####\n",
        "\n",
        "\n",
        "\n",
        "from sklearn.metrics import precision_score,recall_score, confusion_matrix, classification_report,accuracy_score, f1_score\n",
        "\n",
        "\n",
        "\n"
      ],
      "metadata": {
        "id": "wEJZEcgP0LgQ"
      },
      "execution_count": null,
      "outputs": []
    },
    {
      "cell_type": "code",
      "source": [
        "print(accuracy_score(test_Y,Y_predicted ))\n",
        "\n",
        "\n",
        "print( f1_score(test_Y,Y_predicted))\n",
        "\n",
        "\n",
        "print(recall_score(test_Y,Y_predicted))\n",
        "\n",
        "\n",
        "print(precision_score(test_Y,Y_predicted))\n",
        "\n",
        "\n",
        "print(classification_report(test_Y,Y_predicted))\n",
        "\n",
        "\n",
        "print(confusion_matrix(test_Y,Y_predicted))\n"
      ],
      "metadata": {
        "colab": {
          "base_uri": "https://localhost:8080/",
          "height": 380
        },
        "id": "Z-aLhWH40jqH",
        "outputId": "e741761f-76db-4322-abf3-587c9a063e1b"
      },
      "execution_count": null,
      "outputs": [
        {
          "output_type": "error",
          "ename": "ValueError",
          "evalue": "ignored",
          "traceback": [
            "\u001b[0;31m---------------------------------------------------------------------------\u001b[0m",
            "\u001b[0;31mValueError\u001b[0m                                Traceback (most recent call last)",
            "\u001b[0;32m<ipython-input-60-0e7090ebe1d7>\u001b[0m in \u001b[0;36m<module>\u001b[0;34m()\u001b[0m\n\u001b[1;32m      2\u001b[0m \u001b[0;34m\u001b[0m\u001b[0m\n\u001b[1;32m      3\u001b[0m \u001b[0;34m\u001b[0m\u001b[0m\n\u001b[0;32m----> 4\u001b[0;31m \u001b[0mprint\u001b[0m\u001b[0;34m(\u001b[0m \u001b[0mf1_score\u001b[0m\u001b[0;34m(\u001b[0m\u001b[0mtest_Y\u001b[0m\u001b[0;34m,\u001b[0m\u001b[0mY_predicted\u001b[0m\u001b[0;34m)\u001b[0m\u001b[0;34m)\u001b[0m\u001b[0;34m\u001b[0m\u001b[0;34m\u001b[0m\u001b[0m\n\u001b[0m\u001b[1;32m      5\u001b[0m \u001b[0;34m\u001b[0m\u001b[0m\n\u001b[1;32m      6\u001b[0m \u001b[0;34m\u001b[0m\u001b[0m\n",
            "\u001b[0;32m/usr/local/lib/python3.7/dist-packages/sklearn/metrics/_classification.py\u001b[0m in \u001b[0;36mf1_score\u001b[0;34m(y_true, y_pred, labels, pos_label, average, sample_weight, zero_division)\u001b[0m\n\u001b[1;32m   1119\u001b[0m         \u001b[0maverage\u001b[0m\u001b[0;34m=\u001b[0m\u001b[0maverage\u001b[0m\u001b[0;34m,\u001b[0m\u001b[0;34m\u001b[0m\u001b[0;34m\u001b[0m\u001b[0m\n\u001b[1;32m   1120\u001b[0m         \u001b[0msample_weight\u001b[0m\u001b[0;34m=\u001b[0m\u001b[0msample_weight\u001b[0m\u001b[0;34m,\u001b[0m\u001b[0;34m\u001b[0m\u001b[0;34m\u001b[0m\u001b[0m\n\u001b[0;32m-> 1121\u001b[0;31m         \u001b[0mzero_division\u001b[0m\u001b[0;34m=\u001b[0m\u001b[0mzero_division\u001b[0m\u001b[0;34m,\u001b[0m\u001b[0;34m\u001b[0m\u001b[0;34m\u001b[0m\u001b[0m\n\u001b[0m\u001b[1;32m   1122\u001b[0m     )\n\u001b[1;32m   1123\u001b[0m \u001b[0;34m\u001b[0m\u001b[0m\n",
            "\u001b[0;32m/usr/local/lib/python3.7/dist-packages/sklearn/metrics/_classification.py\u001b[0m in \u001b[0;36mfbeta_score\u001b[0;34m(y_true, y_pred, beta, labels, pos_label, average, sample_weight, zero_division)\u001b[0m\n\u001b[1;32m   1258\u001b[0m         \u001b[0mwarn_for\u001b[0m\u001b[0;34m=\u001b[0m\u001b[0;34m(\u001b[0m\u001b[0;34m\"f-score\"\u001b[0m\u001b[0;34m,\u001b[0m\u001b[0;34m)\u001b[0m\u001b[0;34m,\u001b[0m\u001b[0;34m\u001b[0m\u001b[0;34m\u001b[0m\u001b[0m\n\u001b[1;32m   1259\u001b[0m         \u001b[0msample_weight\u001b[0m\u001b[0;34m=\u001b[0m\u001b[0msample_weight\u001b[0m\u001b[0;34m,\u001b[0m\u001b[0;34m\u001b[0m\u001b[0;34m\u001b[0m\u001b[0m\n\u001b[0;32m-> 1260\u001b[0;31m         \u001b[0mzero_division\u001b[0m\u001b[0;34m=\u001b[0m\u001b[0mzero_division\u001b[0m\u001b[0;34m,\u001b[0m\u001b[0;34m\u001b[0m\u001b[0;34m\u001b[0m\u001b[0m\n\u001b[0m\u001b[1;32m   1261\u001b[0m     )\n\u001b[1;32m   1262\u001b[0m     \u001b[0;32mreturn\u001b[0m \u001b[0mf\u001b[0m\u001b[0;34m\u001b[0m\u001b[0;34m\u001b[0m\u001b[0m\n",
            "\u001b[0;32m/usr/local/lib/python3.7/dist-packages/sklearn/metrics/_classification.py\u001b[0m in \u001b[0;36mprecision_recall_fscore_support\u001b[0;34m(y_true, y_pred, beta, labels, pos_label, average, warn_for, sample_weight, zero_division)\u001b[0m\n\u001b[1;32m   1532\u001b[0m     \u001b[0;32mif\u001b[0m \u001b[0mbeta\u001b[0m \u001b[0;34m<\u001b[0m \u001b[0;36m0\u001b[0m\u001b[0;34m:\u001b[0m\u001b[0;34m\u001b[0m\u001b[0;34m\u001b[0m\u001b[0m\n\u001b[1;32m   1533\u001b[0m         \u001b[0;32mraise\u001b[0m \u001b[0mValueError\u001b[0m\u001b[0;34m(\u001b[0m\u001b[0;34m\"beta should be >=0 in the F-beta score\"\u001b[0m\u001b[0;34m)\u001b[0m\u001b[0;34m\u001b[0m\u001b[0;34m\u001b[0m\u001b[0m\n\u001b[0;32m-> 1534\u001b[0;31m     \u001b[0mlabels\u001b[0m \u001b[0;34m=\u001b[0m \u001b[0m_check_set_wise_labels\u001b[0m\u001b[0;34m(\u001b[0m\u001b[0my_true\u001b[0m\u001b[0;34m,\u001b[0m \u001b[0my_pred\u001b[0m\u001b[0;34m,\u001b[0m \u001b[0maverage\u001b[0m\u001b[0;34m,\u001b[0m \u001b[0mlabels\u001b[0m\u001b[0;34m,\u001b[0m \u001b[0mpos_label\u001b[0m\u001b[0;34m)\u001b[0m\u001b[0;34m\u001b[0m\u001b[0;34m\u001b[0m\u001b[0m\n\u001b[0m\u001b[1;32m   1535\u001b[0m \u001b[0;34m\u001b[0m\u001b[0m\n\u001b[1;32m   1536\u001b[0m     \u001b[0;31m# Calculate tp_sum, pred_sum, true_sum ###\u001b[0m\u001b[0;34m\u001b[0m\u001b[0;34m\u001b[0m\u001b[0;34m\u001b[0m\u001b[0m\n",
            "\u001b[0;32m/usr/local/lib/python3.7/dist-packages/sklearn/metrics/_classification.py\u001b[0m in \u001b[0;36m_check_set_wise_labels\u001b[0;34m(y_true, y_pred, average, labels, pos_label)\u001b[0m\n\u001b[1;32m   1336\u001b[0m         \u001b[0;32mraise\u001b[0m \u001b[0mValueError\u001b[0m\u001b[0;34m(\u001b[0m\u001b[0;34m\"average has to be one of \"\u001b[0m \u001b[0;34m+\u001b[0m \u001b[0mstr\u001b[0m\u001b[0;34m(\u001b[0m\u001b[0maverage_options\u001b[0m\u001b[0;34m)\u001b[0m\u001b[0;34m)\u001b[0m\u001b[0;34m\u001b[0m\u001b[0;34m\u001b[0m\u001b[0m\n\u001b[1;32m   1337\u001b[0m \u001b[0;34m\u001b[0m\u001b[0m\n\u001b[0;32m-> 1338\u001b[0;31m     \u001b[0my_type\u001b[0m\u001b[0;34m,\u001b[0m \u001b[0my_true\u001b[0m\u001b[0;34m,\u001b[0m \u001b[0my_pred\u001b[0m \u001b[0;34m=\u001b[0m \u001b[0m_check_targets\u001b[0m\u001b[0;34m(\u001b[0m\u001b[0my_true\u001b[0m\u001b[0;34m,\u001b[0m \u001b[0my_pred\u001b[0m\u001b[0;34m)\u001b[0m\u001b[0;34m\u001b[0m\u001b[0;34m\u001b[0m\u001b[0m\n\u001b[0m\u001b[1;32m   1339\u001b[0m     \u001b[0;31m# Convert to Python primitive type to avoid NumPy type / Python str\u001b[0m\u001b[0;34m\u001b[0m\u001b[0;34m\u001b[0m\u001b[0;34m\u001b[0m\u001b[0m\n\u001b[1;32m   1340\u001b[0m     \u001b[0;31m# comparison. See https://github.com/numpy/numpy/issues/6784\u001b[0m\u001b[0;34m\u001b[0m\u001b[0;34m\u001b[0m\u001b[0;34m\u001b[0m\u001b[0m\n",
            "\u001b[0;32m/usr/local/lib/python3.7/dist-packages/sklearn/metrics/_classification.py\u001b[0m in \u001b[0;36m_check_targets\u001b[0;34m(y_true, y_pred)\u001b[0m\n\u001b[1;32m     83\u001b[0m     \"\"\"\n\u001b[1;32m     84\u001b[0m     \u001b[0mcheck_consistent_length\u001b[0m\u001b[0;34m(\u001b[0m\u001b[0my_true\u001b[0m\u001b[0;34m,\u001b[0m \u001b[0my_pred\u001b[0m\u001b[0;34m)\u001b[0m\u001b[0;34m\u001b[0m\u001b[0;34m\u001b[0m\u001b[0m\n\u001b[0;32m---> 85\u001b[0;31m     \u001b[0mtype_true\u001b[0m \u001b[0;34m=\u001b[0m \u001b[0mtype_of_target\u001b[0m\u001b[0;34m(\u001b[0m\u001b[0my_true\u001b[0m\u001b[0;34m)\u001b[0m\u001b[0;34m\u001b[0m\u001b[0;34m\u001b[0m\u001b[0m\n\u001b[0m\u001b[1;32m     86\u001b[0m     \u001b[0mtype_pred\u001b[0m \u001b[0;34m=\u001b[0m \u001b[0mtype_of_target\u001b[0m\u001b[0;34m(\u001b[0m\u001b[0my_pred\u001b[0m\u001b[0;34m)\u001b[0m\u001b[0;34m\u001b[0m\u001b[0;34m\u001b[0m\u001b[0m\n\u001b[1;32m     87\u001b[0m \u001b[0;34m\u001b[0m\u001b[0m\n",
            "\u001b[0;32m/usr/local/lib/python3.7/dist-packages/sklearn/utils/multiclass.py\u001b[0m in \u001b[0;36mtype_of_target\u001b[0;34m(y)\u001b[0m\n\u001b[1;32m    323\u001b[0m     \u001b[0;32mif\u001b[0m \u001b[0my\u001b[0m\u001b[0;34m.\u001b[0m\u001b[0mdtype\u001b[0m\u001b[0;34m.\u001b[0m\u001b[0mkind\u001b[0m \u001b[0;34m==\u001b[0m \u001b[0;34m\"f\"\u001b[0m \u001b[0;32mand\u001b[0m \u001b[0mnp\u001b[0m\u001b[0;34m.\u001b[0m\u001b[0many\u001b[0m\u001b[0;34m(\u001b[0m\u001b[0my\u001b[0m \u001b[0;34m!=\u001b[0m \u001b[0my\u001b[0m\u001b[0;34m.\u001b[0m\u001b[0mastype\u001b[0m\u001b[0;34m(\u001b[0m\u001b[0mint\u001b[0m\u001b[0;34m)\u001b[0m\u001b[0;34m)\u001b[0m\u001b[0;34m:\u001b[0m\u001b[0;34m\u001b[0m\u001b[0;34m\u001b[0m\u001b[0m\n\u001b[1;32m    324\u001b[0m         \u001b[0;31m# [.1, .2, 3] or [[.1, .2, 3]] or [[1., .2]] and not [1., 2., 3.]\u001b[0m\u001b[0;34m\u001b[0m\u001b[0;34m\u001b[0m\u001b[0;34m\u001b[0m\u001b[0m\n\u001b[0;32m--> 325\u001b[0;31m         \u001b[0m_assert_all_finite\u001b[0m\u001b[0;34m(\u001b[0m\u001b[0my\u001b[0m\u001b[0;34m)\u001b[0m\u001b[0;34m\u001b[0m\u001b[0;34m\u001b[0m\u001b[0m\n\u001b[0m\u001b[1;32m    326\u001b[0m         \u001b[0;32mreturn\u001b[0m \u001b[0;34m\"continuous\"\u001b[0m \u001b[0;34m+\u001b[0m \u001b[0msuffix\u001b[0m\u001b[0;34m\u001b[0m\u001b[0;34m\u001b[0m\u001b[0m\n\u001b[1;32m    327\u001b[0m \u001b[0;34m\u001b[0m\u001b[0m\n",
            "\u001b[0;32m/usr/local/lib/python3.7/dist-packages/sklearn/utils/validation.py\u001b[0m in \u001b[0;36m_assert_all_finite\u001b[0;34m(X, allow_nan, msg_dtype)\u001b[0m\n\u001b[1;32m    114\u001b[0m             raise ValueError(\n\u001b[1;32m    115\u001b[0m                 msg_err.format(\n\u001b[0;32m--> 116\u001b[0;31m                     \u001b[0mtype_err\u001b[0m\u001b[0;34m,\u001b[0m \u001b[0mmsg_dtype\u001b[0m \u001b[0;32mif\u001b[0m \u001b[0mmsg_dtype\u001b[0m \u001b[0;32mis\u001b[0m \u001b[0;32mnot\u001b[0m \u001b[0;32mNone\u001b[0m \u001b[0;32melse\u001b[0m \u001b[0mX\u001b[0m\u001b[0;34m.\u001b[0m\u001b[0mdtype\u001b[0m\u001b[0;34m\u001b[0m\u001b[0;34m\u001b[0m\u001b[0m\n\u001b[0m\u001b[1;32m    117\u001b[0m                 )\n\u001b[1;32m    118\u001b[0m             )\n",
            "\u001b[0;31mValueError\u001b[0m: Input contains NaN, infinity or a value too large for dtype('float64')."
          ]
        }
      ]
    },
    {
      "cell_type": "code",
      "execution_count": null,
      "metadata": {
        "id": "1wRSXld_G-IU"
      },
      "outputs": [],
      "source": [
        "Y_predicted=Y_predicted.astype('int64')  #### here i am converting float into int because some conversion error was coming "
      ]
    },
    {
      "cell_type": "code",
      "execution_count": null,
      "metadata": {
        "colab": {
          "base_uri": "https://localhost:8080/"
        },
        "id": "LMH0snMZKR-K",
        "outputId": "21012bec-fd97-4665-9df0-73e21df542da"
      },
      "outputs": [
        {
          "output_type": "execute_result",
          "data": {
            "text/plain": [
              "(1685264,)"
            ]
          },
          "metadata": {},
          "execution_count": 61
        }
      ],
      "source": [
        "Y_predicted.shape"
      ]
    },
    {
      "cell_type": "code",
      "execution_count": null,
      "metadata": {
        "colab": {
          "base_uri": "https://localhost:8080/"
        },
        "id": "dnE1c55vKa-u",
        "outputId": "270b467a-2b68-4510-fb25-ac40d1707a40"
      },
      "outputs": [
        {
          "data": {
            "text/plain": [
              "(1685264, 11)"
            ]
          },
          "execution_count": 70,
          "metadata": {},
          "output_type": "execute_result"
        }
      ],
      "source": [
        "test_df.shape"
      ]
    },
    {
      "cell_type": "code",
      "execution_count": null,
      "metadata": {
        "id": "86vMXgkfHons"
      },
      "outputs": [],
      "source": [
        "from sklearn import preprocessing\n",
        " \n",
        "# label_encoder object knows how to understand word labels.\n",
        "label_encoder = preprocessing.LabelEncoder()\n",
        " "
      ]
    },
    {
      "cell_type": "code",
      "execution_count": null,
      "metadata": {
        "id": "vinolwppJR6p"
      },
      "outputs": [],
      "source": [
        ""
      ]
    },
    {
      "cell_type": "code",
      "execution_count": null,
      "metadata": {
        "id": "0wP021taJUGD"
      },
      "outputs": [],
      "source": [
        "qid= test_df.drop(axis=\"columns\", labels=['PostDateTime', 'WhenAccountMade', 'Karma', 'NumAnswers',\n",
        "       'Heading', 'MainText', 'PrimarySubject', 'SecondarySubject',\n",
        "       'TertiarySubject', 'OtherSubject',]).to_numpy().astype(np.float64)"
      ]
    },
    {
      "cell_type": "code",
      "execution_count": null,
      "metadata": {
        "colab": {
          "base_uri": "https://localhost:8080/"
        },
        "id": "1CBXSftJKDcy",
        "outputId": "c6e709d8-4c78-468b-a509-100561478e33"
      },
      "outputs": [
        {
          "data": {
            "text/plain": [
              "array([[ 542806.],\n",
              "       [1226994.],\n",
              "       [3299216.],\n",
              "       ...,\n",
              "       [2748406.],\n",
              "       [1575551.],\n",
              "       [1827589.]])"
            ]
          },
          "execution_count": 71,
          "metadata": {},
          "output_type": "execute_result"
        }
      ],
      "source": [
        "qid"
      ]
    },
    {
      "cell_type": "code",
      "execution_count": null,
      "metadata": {
        "colab": {
          "base_uri": "https://localhost:8080/"
        },
        "id": "hApSWDcaKrAV",
        "outputId": "30ffcf27-7942-406d-8fd0-2279fd91dfc4"
      },
      "outputs": [
        {
          "data": {
            "text/plain": [
              "(1685264, 1)"
            ]
          },
          "execution_count": 60,
          "metadata": {},
          "output_type": "execute_result"
        }
      ],
      "source": [
        "qid.shape"
      ]
    },
    {
      "cell_type": "code",
      "execution_count": null,
      "metadata": {
        "id": "X66W3aiUFSuP"
      },
      "outputs": [],
      "source": [
        "result = pd.DataFrame({'Qid':test_df['Qid'],'Target':Y_predicted}) ## now here i am preapring submission file "
      ]
    },
    {
      "cell_type": "code",
      "execution_count": null,
      "metadata": {
        "colab": {
          "base_uri": "https://localhost:8080/",
          "height": 206
        },
        "id": "0_PfUj4LNy9H",
        "outputId": "ea98ba53-1701-405e-b797-ca4bf8383900"
      },
      "outputs": [
        {
          "data": {
            "text/html": [
              "<div>\n",
              "<style scoped>\n",
              "    .dataframe tbody tr th:only-of-type {\n",
              "        vertical-align: middle;\n",
              "    }\n",
              "\n",
              "    .dataframe tbody tr th {\n",
              "        vertical-align: top;\n",
              "    }\n",
              "\n",
              "    .dataframe thead th {\n",
              "        text-align: right;\n",
              "    }\n",
              "</style>\n",
              "<table border=\"1\" class=\"dataframe\">\n",
              "  <thead>\n",
              "    <tr style=\"text-align: right;\">\n",
              "      <th></th>\n",
              "      <th>Qid</th>\n",
              "      <th>Target</th>\n",
              "    </tr>\n",
              "  </thead>\n",
              "  <tbody>\n",
              "    <tr>\n",
              "      <th>0</th>\n",
              "      <td>542806</td>\n",
              "      <td>0</td>\n",
              "    </tr>\n",
              "    <tr>\n",
              "      <th>1</th>\n",
              "      <td>1226994</td>\n",
              "      <td>0</td>\n",
              "    </tr>\n",
              "    <tr>\n",
              "      <th>2</th>\n",
              "      <td>3299216</td>\n",
              "      <td>0</td>\n",
              "    </tr>\n",
              "    <tr>\n",
              "      <th>3</th>\n",
              "      <td>1631029</td>\n",
              "      <td>0</td>\n",
              "    </tr>\n",
              "    <tr>\n",
              "      <th>4</th>\n",
              "      <td>1963405</td>\n",
              "      <td>0</td>\n",
              "    </tr>\n",
              "  </tbody>\n",
              "</table>\n",
              "</div>"
            ],
            "text/plain": [
              "       Qid  Target\n",
              "0   542806       0\n",
              "1  1226994       0\n",
              "2  3299216       0\n",
              "3  1631029       0\n",
              "4  1963405       0"
            ]
          },
          "execution_count": 75,
          "metadata": {},
          "output_type": "execute_result"
        }
      ],
      "source": [
        "result.head()"
      ]
    },
    {
      "cell_type": "code",
      "execution_count": null,
      "metadata": {
        "id": "JE-2jgvWN2r6"
      },
      "outputs": [],
      "source": [
        "result.to_csv('predictions_today1_again.csv',index=False,header=True)  # and changing this dataframe into csv file "
      ]
    },
    {
      "cell_type": "markdown",
      "metadata": {
        "id": "FA-Mg76Wsxni"
      },
      "source": [
        "AGAIN I AM DOING SOME BASIC PREPROCESSING ON TEST DATAFRAME BECAUSE WE CANT DROP ANY OF THE ROWS FROM THE DATAFRAME DUE TO THE SUBMISSION ISSUE ON KAGGLE :=\n",
        "\n",
        "\n",
        "\n",
        "\n",
        "SO NOW ONLY WHAT I AM DOING IS REPLACING THE NAN VALUE WITH NOTHING:-"
      ]
    },
    {
      "cell_type": "code",
      "execution_count": null,
      "metadata": {
        "id": "om3skYzii24c"
      },
      "outputs": [],
      "source": [
        "#### again doing due to submission issue :-\n",
        "##########\n",
        "#########\n",
        "#########\n",
        "\n",
        "\n",
        "test_df['SecondarySubject'].fillna(\"Not Available\",inplace=True)"
      ]
    },
    {
      "cell_type": "code",
      "execution_count": null,
      "metadata": {
        "colab": {
          "base_uri": "https://localhost:8080/"
        },
        "id": "QLJAiS6EjBys",
        "outputId": "fe1442f6-4d3b-4852-e65b-bd92153bb4a9"
      },
      "outputs": [
        {
          "data": {
            "text/plain": [
              "Qid                 0\n",
              "PostDateTime        0\n",
              "WhenAccountMade     0\n",
              "Karma               0\n",
              "NumAnswers          0\n",
              "Heading             0\n",
              "MainText            0\n",
              "PrimarySubject      0\n",
              "SecondarySubject    0\n",
              "TertiarySubject     0\n",
              "OtherSubject        0\n",
              "dtype: int64"
            ]
          },
          "execution_count": 32,
          "metadata": {},
          "output_type": "execute_result"
        }
      ],
      "source": [
        "test_df.isna().sum()"
      ]
    },
    {
      "cell_type": "code",
      "execution_count": null,
      "metadata": {
        "id": "3ZSqKjI-jAPr"
      },
      "outputs": [],
      "source": [
        "test_df['PrimarySubject'].fillna(\"Not Available\",inplace=True)"
      ]
    },
    {
      "cell_type": "code",
      "execution_count": null,
      "metadata": {
        "id": "Y3AT6813jQW5"
      },
      "outputs": [],
      "source": [
        "test_df['TertiarySubject'].fillna(\"Not Available\",inplace=True)"
      ]
    },
    {
      "cell_type": "code",
      "execution_count": null,
      "metadata": {
        "id": "ZNg9n1dkjUbp"
      },
      "outputs": [],
      "source": [
        "test_df['OtherSubject'].fillna(\"Not Available\",inplace=True)"
      ]
    },
    {
      "cell_type": "code",
      "execution_count": null,
      "metadata": {
        "id": "Hd8O15rCSSWu"
      },
      "outputs": [],
      "source": [
        "test_df['SecondarySubject'].fillna(\"Not Available\",inplace=True)"
      ]
    },
    {
      "cell_type": "code",
      "execution_count": null,
      "metadata": {
        "colab": {
          "base_uri": "https://localhost:8080/"
        },
        "id": "YEp3uWTjjZxm",
        "outputId": "64726502-c82f-4b9b-82f3-3f699c72ea47"
      },
      "outputs": [
        {
          "output_type": "execute_result",
          "data": {
            "text/plain": [
              "Qid                 0\n",
              "PostDateTime        0\n",
              "WhenAccountMade     0\n",
              "Karma               0\n",
              "NumAnswers          0\n",
              "Heading             0\n",
              "MainText            0\n",
              "PrimarySubject      0\n",
              "SecondarySubject    0\n",
              "TertiarySubject     0\n",
              "OtherSubject        0\n",
              "dtype: int64"
            ]
          },
          "metadata": {},
          "execution_count": 38
        }
      ],
      "source": [
        "test_df.isna().sum()"
      ]
    },
    {
      "cell_type": "code",
      "execution_count": null,
      "metadata": {
        "colab": {
          "base_uri": "https://localhost:8080/"
        },
        "id": "SjT0DMOmjlry",
        "outputId": "bbebf994-67e3-488f-b6d9-8beb738e1e77"
      },
      "outputs": [
        {
          "output_type": "execute_result",
          "data": {
            "text/plain": [
              "(1685264, 11)"
            ]
          },
          "metadata": {},
          "execution_count": 39
        }
      ],
      "source": [
        "test_df.shape"
      ]
    },
    {
      "cell_type": "markdown",
      "metadata": {
        "id": "SOwXqBgotnQi"
      },
      "source": [
        "⚡⚡⚡⚡⚡⚡\n",
        "⚡\n",
        "⚡\n",
        "\n",
        "NOW HERE I AM USING THE  DECISION TREE algo to train my model and predicting the test target :- "
      ]
    },
    {
      "cell_type": "code",
      "execution_count": null,
      "metadata": {
        "colab": {
          "base_uri": "https://localhost:8080/"
        },
        "id": "hbUshnaPzMF2",
        "outputId": "6563d61a-4fe7-42d6-e874-e9b867dd67ae"
      },
      "outputs": [
        {
          "data": {
            "text/plain": [
              "array([0., 0., 0., ..., 0., 0., 0.])"
            ]
          },
          "execution_count": 51,
          "metadata": {},
          "output_type": "execute_result"
        }
      ],
      "source": [
        "\n",
        "\n",
        "\n",
        "from sklearn.tree import DecisionTreeClassifier\n",
        "dtree_model = DecisionTreeClassifier(max_depth =270).fit(train_X, train_Y)   ###fitting opur train data \n",
        "dtree_model.predict(test_X)"
      ]
    },
    {
      "cell_type": "code",
      "execution_count": null,
      "metadata": {
        "id": "y6vHJuvbJGH7"
      },
      "outputs": [],
      "source": [
        "Y_predicted_DT = dtree_model.predict(test_X)"
      ]
    },
    {
      "cell_type": "code",
      "execution_count": null,
      "metadata": {
        "id": "_YdyhoYbJOag"
      },
      "outputs": [],
      "source": [
        "Y_predicted_DT=Y_predicted_DT.astype('int64')"
      ]
    },
    {
      "cell_type": "code",
      "execution_count": null,
      "metadata": {
        "id": "C9jMw_QqJTlk"
      },
      "outputs": [],
      "source": [
        "result = pd.DataFrame({'Qid':test_df['Qid'],'Target':Y_predicted_DT}) ## now here i am preapring submission file "
      ]
    },
    {
      "cell_type": "code",
      "execution_count": null,
      "metadata": {
        "id": "ZLebb_KmJTf6"
      },
      "outputs": [],
      "source": [
        "result.to_csv('predictions_today2_DT.csv',index=False,header=True)  # and changing this dataframe into csv file "
      ]
    },
    {
      "cell_type": "code",
      "execution_count": null,
      "metadata": {
        "colab": {
          "background_save": true,
          "base_uri": "https://localhost:8080/"
        },
        "id": "yjhFhbiuS3tf",
        "outputId": "06b7c22d-df7c-43f8-e8ad-1c9614285e31"
      },
      "outputs": [
        {
          "name": "stderr",
          "output_type": "stream",
          "text": [
            "/usr/local/lib/python3.7/dist-packages/ipykernel_launcher.py:10: DataConversionWarning: A column-vector y was passed when a 1d array was expected. Please change the shape of y to (n_samples,), for example using ravel().\n",
            "  # Remove the CWD from sys.path while we load stuff.\n"
          ]
        }
      ],
      "source": [
        "\n",
        "#---------------------------------------RANDOM FOREST ------------------------------------\n",
        "\n",
        "\n",
        "# Import the model we are using\n",
        "from sklearn.ensemble import RandomForestRegressor\n",
        "# Instantiate model with 1000 decision trees\n",
        "rf = RandomForestRegressor(n_estimators = 50, random_state = 42)\n",
        "# Train the model on training data\n",
        "rf.fit(train_X, train_Y);\n"
      ]
    },
    {
      "cell_type": "code",
      "execution_count": null,
      "metadata": {
        "id": "KBJbwz_TiSp8"
      },
      "outputs": [],
      "source": [
        "\n",
        "#----------------------predictions--------------------------------------#\n",
        "\n",
        "\n",
        "\n",
        "# Use the forest's predict method on the test data\n",
        "predictions = rf.predict(test_X)\n",
        "# Calculate the absolute errors\n",
        "errors = abs(predictions - test_X)\n",
        "# Print out the mean absolute error (mae)\n",
        "print('Mean Absolute Error:', round(np.mean(errors), 2), 'degrees.')\n",
        "Mean Absolute Error: 3.83 degrees."
      ]
    }
  ],
  "metadata": {
    "colab": {
      "collapsed_sections": [],
      "name": "ML_PROJECT(NLP+Big Data+Multiclass classification).ipynb",
      "provenance": []
    },
    "kernelspec": {
      "display_name": "Python 3",
      "name": "python3"
    },
    "language_info": {
      "name": "python"
    }
  },
  "nbformat": 4,
  "nbformat_minor": 0
}